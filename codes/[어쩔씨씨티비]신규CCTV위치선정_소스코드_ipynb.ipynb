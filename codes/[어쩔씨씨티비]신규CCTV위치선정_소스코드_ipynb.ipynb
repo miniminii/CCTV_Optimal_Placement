{
  "cells": [
    {
      "cell_type": "markdown",
      "id": "comparative-hayes",
      "metadata": {
        "id": "comparative-hayes"
      },
      "source": [
        "## 제공 데이터 불러오기"
      ]
    },
    {
      "cell_type": "code",
      "execution_count": null,
      "id": "short-format",
      "metadata": {
        "id": "short-format",
        "outputId": "f900fb71-e3d9-4afe-ee4c-8d4ca2679166"
      },
      "outputs": [
        {
          "name": "stdout",
          "output_type": "stream",
          "text": [
            "[2022-08-19 12:58:27] 성공 - 1.김해시_CCTV설치현황.csv\n",
            "[2022-08-19 12:58:27] 성공 - 2.김해시_주차장현황.csv\n",
            "[2022-08-19 12:58:31] 성공 - 3.김해시_성연령별_요일별_유동인구.zip\n",
            "[2022-08-19 12:58:32] 성공 - 4.김해시_112신고이력(격자매핑).csv\n",
            "[2022-08-19 12:58:32] 성공 - 5.김해시_격자(100X100).geojson\n",
            "[2022-08-19 12:58:32] 성공 - 6.김해시_보안등설치현황.csv\n",
            "[2022-08-19 12:58:32] 성공 - 7.김해시_안전비상벨설치현황.csv\n",
            "[2022-08-19 12:58:32] 성공 - 8.김해시_공원현황.geojson\n",
            "[2022-08-19 12:58:32] 성공 - 9.김해시_하천현황.geojson\n",
            "[2022-08-19 12:58:33] 성공 - 10.김해시_성연령별_거주인구격자.geojson\n",
            "[2022-08-19 12:58:34] 성공 - 11.김해시_외국인_읍면동별_격자.geojson\n",
            "[2022-08-19 12:58:35] 성공 - 12.김해시_건물노후도.geojson\n",
            "[2022-08-19 12:58:37] 성공 - 13.김해시_도로명주소(건물).geojson\n",
            "[2022-08-19 12:58:37] 성공 - 14.김해시_법정경계(읍면동).geojson\n",
            "[2022-08-19 12:58:37] 성공 - 15.김해시_행정경계(읍면동).geojson\n",
            "[2022-08-19 12:58:42] 성공 - 16.김해시_토지소유정보.geojson\n",
            "[2022-08-19 12:58:42] 성공 - 17.김해시_어린이집현황.csv\n",
            "[2022-08-19 12:58:42] 성공 - 18.김해시_유치원현황.csv\n",
            "[2022-08-19 12:58:42] 성공 - 19.김해시_학교(초,중,고)현황.csv\n",
            "[2022-08-19 12:58:42] 성공 - 20.김해시_치안_유관업종_현황.csv\n",
            "[2022-08-19 12:58:42] 성공 - 21.김해시_아동안전지킴이집_현황.csv\n"
          ]
        },
        {
          "data": {
            "text/plain": [
              "'21.김해시_아동안전지킴이집_현황.csv'"
            ]
          },
          "execution_count": 1,
          "metadata": {},
          "output_type": "execute_result"
        }
      ],
      "source": [
        "from geoband.API import *\n",
        "\n",
        "GetCompasData('SBJ_2206_001', '1', '1.김해시_CCTV설치현황.csv')\n",
        "GetCompasData('SBJ_2206_001', '2', '2.김해시_주차장현황.csv')\n",
        "GetCompasData('SBJ_2206_001', '3', '3.김해시_성연령별_요일별_유동인구.zip')\n",
        "GetCompasData('SBJ_2206_001', '25', '4.김해시_112신고이력(격자매핑).csv')\n",
        "GetCompasData('SBJ_2206_001', '5', '5.김해시_격자(100X100).geojson')\n",
        "GetCompasData('SBJ_2206_001', '6', '6.김해시_보안등설치현황.csv')\n",
        "GetCompasData('SBJ_2206_001', '28', '7.김해시_안전비상벨설치현황.csv')\n",
        "GetCompasData('SBJ_2206_001', '26', '8.김해시_공원현황.geojson')\n",
        "GetCompasData('SBJ_2206_001', '9', '9.김해시_하천현황.geojson')\n",
        "GetCompasData('SBJ_2206_001', '22', '10.김해시_성연령별_거주인구격자.geojson')\n",
        "GetCompasData('SBJ_2206_001', '11', '11.김해시_외국인_읍면동별_격자.geojson')\n",
        "GetCompasData('SBJ_2206_001', '23', '12.김해시_건물노후도.geojson')\n",
        "GetCompasData('SBJ_2206_001', '13', '13.김해시_도로명주소(건물).geojson')\n",
        "GetCompasData('SBJ_2206_001', '14', '14.김해시_법정경계(읍면동).geojson')\n",
        "GetCompasData('SBJ_2206_001', '15', '15.김해시_행정경계(읍면동).geojson')\n",
        "GetCompasData('SBJ_2206_001', '27', '16.김해시_토지소유정보.geojson')\n",
        "GetCompasData('SBJ_2206_001', '17', '17.김해시_어린이집현황.csv')\n",
        "GetCompasData('SBJ_2206_001', '18', '18.김해시_유치원현황.csv')\n",
        "GetCompasData('SBJ_2206_001', '19', '19.김해시_학교(초,중,고)현황.csv')\n",
        "GetCompasData('SBJ_2206_001', '24', '20.김해시_치안_유관업종_현황.csv')\n",
        "GetCompasData('SBJ_2206_001', '21', '21.김해시_아동안전지킴이집_현황.csv')"
      ]
    },
    {
      "cell_type": "markdown",
      "id": "treated-survey",
      "metadata": {
        "id": "treated-survey"
      },
      "source": [
        "## 유효한 격자 생성하기"
      ]
    },
    {
      "cell_type": "code",
      "execution_count": null,
      "id": "straight-board",
      "metadata": {
        "id": "straight-board",
        "outputId": "4651e66d-0c96-4b7f-a31d-91898c0bf57a"
      },
      "outputs": [
        {
          "name": "stderr",
          "output_type": "stream",
          "text": [
            "/opt/app-root/lib/python3.6/site-packages/geopandas/_compat.py:110: UserWarning: The Shapely GEOS version (3.8.0-CAPI-1.13.1 ) is incompatible with the GEOS version PyGEOS was compiled with (3.9.0-CAPI-1.16.2). Conversions between both will be slow.\n",
            "  shapely_geos_version, geos_capi_version_string\n"
          ]
        }
      ],
      "source": [
        "import pathlib\n",
        "import random\n",
        "from functools import reduce\n",
        "from collections import defaultdict\n",
        "\n",
        "import pandas as pd\n",
        "import geopandas as gpd\n",
        "import folium\n",
        "import shapely\n",
        "import numpy as np\n",
        "from IPython.display import display\n",
        "import matplotlib.pyplot as plt\n",
        "from tqdm.notebook import tqdm\n",
        "import xgboost\n",
        "import sklearn.cluster\n",
        "import tensorflow as tf"
      ]
    },
    {
      "cell_type": "code",
      "execution_count": null,
      "id": "impossible-anime",
      "metadata": {
        "id": "impossible-anime"
      },
      "outputs": [],
      "source": [
        "#아래 파일은 qgis 활용하여 gid(격자코드) 기준으로 카테고리별 거주인구 매핑한 데이터셋\n",
        "#엑셀 작업을 통한 격자코드 별 총 거주인구 계산(합계 col 생성)\n",
        "#연도별 작업 - 인구정보.xlsx는 2021년도, 인구정보_2020.csv는 2020년도\n",
        "ppl=pd.read_excel('인구정보.xlsx') \n",
        "ppl_20=pd.read_csv('인구정보_2020.csv')"
      ]
    },
    {
      "cell_type": "code",
      "execution_count": null,
      "id": "charitable-shark",
      "metadata": {
        "id": "charitable-shark"
      },
      "outputs": [],
      "source": [
        "#인구수가 0인 격자의 gid를 저장\n",
        "df_del=ppl[ppl['합계']==0]\n",
        "df_del20=ppl_20[ppl_20['합계']==0]\n",
        "df_del=df_del[['gid']]\n",
        "df_del20=df_del20[['gid']]"
      ]
    },
    {
      "cell_type": "code",
      "execution_count": null,
      "id": "seven-argument",
      "metadata": {
        "id": "seven-argument"
      },
      "outputs": [],
      "source": [
        "#qgis를 통해 토지소유정보를 csv로 저장해 놓음\n",
        "land=pd.read_csv('토지소유정보.csv')"
      ]
    },
    {
      "cell_type": "code",
      "execution_count": null,
      "id": "provincial-wayne",
      "metadata": {
        "id": "provincial-wayne"
      },
      "outputs": [],
      "source": [
        "#필요한 행만 남기는 전처리\n",
        "land['주소']=land['emd_nm']+land['lot_num']\n",
        "land_df=land[['lot_purpose','owne_gbn_nm','land_area','land_area','주소']]"
      ]
    },
    {
      "cell_type": "code",
      "execution_count": null,
      "id": "harmful-mustang",
      "metadata": {
        "id": "harmful-mustang"
      },
      "outputs": [],
      "source": [
        "#qgis를 통해 위의 각 토지소유지에 gid를 매칭\n",
        "inter_area=pd.read_csv('토지소유_교차.csv')"
      ]
    },
    {
      "cell_type": "code",
      "execution_count": null,
      "id": "suburban-format",
      "metadata": {
        "id": "suburban-format"
      },
      "outputs": [],
      "source": [
        "inter_area_df=inter_area[['gid','owne_gbn_nm','lot_purpose','intersect_area']]"
      ]
    },
    {
      "cell_type": "code",
      "execution_count": null,
      "id": "suspected-contributor",
      "metadata": {
        "id": "suspected-contributor"
      },
      "outputs": [],
      "source": [
        "inter_area_df"
      ]
    },
    {
      "cell_type": "code",
      "execution_count": null,
      "id": "promotional-disaster",
      "metadata": {
        "id": "promotional-disaster"
      },
      "outputs": [],
      "source": [
        "inter_area_er=inter_area_df[(inter_area_df['owne_gbn_nm']=='개인') | (inter_area_df['lot_purpose'].isin(['답','도로','전','임야','구거','하천', '제방', '과수원', '유지', '철도용지', '목장용지', '양어장']))]\n",
        "inter_area_er=inter_area_er.reset_index()\n",
        "inter_area_er=inter_area_er.drop('index',axis=1)"
      ]
    },
    {
      "cell_type": "code",
      "execution_count": null,
      "id": "controlling-truth",
      "metadata": {
        "id": "controlling-truth"
      },
      "outputs": [],
      "source": [
        "#같은 격자에 대해서 면적을 합쳐준다\n",
        "inter_sum=inter_area_er.groupby('gid').sum()"
      ]
    },
    {
      "cell_type": "code",
      "execution_count": null,
      "id": "tropical-cocktail",
      "metadata": {
        "id": "tropical-cocktail"
      },
      "outputs": [],
      "source": [
        "#면적이 9000이상인것들\n",
        "inter_sum_del=inter_sum[inter_sum['intersect_area']>9000]\n",
        "inter_sum_del=inter_sum_del.reset_index()"
      ]
    },
    {
      "cell_type": "code",
      "execution_count": null,
      "id": "pointed-technical",
      "metadata": {
        "id": "pointed-technical"
      },
      "outputs": [],
      "source": [
        "del_merge = pd.merge(df_del, inter_sum_del,how='outer')\n",
        "del_merge20=pd.merge(df_del20, inter_sum_del,how='outer')"
      ]
    },
    {
      "cell_type": "code",
      "execution_count": null,
      "id": "original-noise",
      "metadata": {
        "id": "original-noise"
      },
      "outputs": [],
      "source": [
        "gid_all=ppl[['gid']]\n",
        "\n",
        "gid_del=del_merge[['gid']]\n",
        "gid_del20=del_merge20[['gid']]\n",
        "\n",
        "gid_fin = pd.concat([gid_all, gid_del,gid_del]).drop_duplicates(keep=False)\n",
        "gid_fin20 = pd.concat([gid_all, gid_del20,gid_del20]).drop_duplicates(keep=False)\n",
        "\n",
        "gid_fin=gid_fin.reset_index()\n",
        "gid_fin=gid_fin.drop('index',axis=1)\n",
        "\n",
        "gid_fin20=gid_fin20.reset_index()\n",
        "gid_fin20=gid_fin20.drop('index',axis=1)\n",
        "\n",
        "gid_fin.to_csv('grid_2021.csv')\n",
        "gid_fin20.to_csv('grid_2020.csv')"
      ]
    },
    {
      "cell_type": "code",
      "execution_count": null,
      "id": "preceding-territory",
      "metadata": {
        "id": "preceding-territory"
      },
      "outputs": [],
      "source": [
        "gid_fin"
      ]
    },
    {
      "cell_type": "code",
      "execution_count": null,
      "id": "institutional-tomorrow",
      "metadata": {
        "id": "institutional-tomorrow"
      },
      "outputs": [],
      "source": [
        "gid_fin20"
      ]
    },
    {
      "cell_type": "code",
      "execution_count": null,
      "id": "backed-sensitivity",
      "metadata": {
        "id": "backed-sensitivity"
      },
      "outputs": [],
      "source": [
        "grid_2021 = pd.read_csv(\"grid_2021.csv\")\n",
        "grid_2020 = pd.read_csv(\"grid_2020.csv\")\n",
        "grid = gpd.read_file(\"5.김해시_격자(100X100).geojson\")"
      ]
    },
    {
      "cell_type": "markdown",
      "id": "silver-aruba",
      "metadata": {
        "id": "silver-aruba"
      },
      "source": [
        "## 지수 train set, test set 만들기"
      ]
    },
    {
      "cell_type": "code",
      "execution_count": null,
      "id": "light-murder",
      "metadata": {
        "id": "light-murder"
      },
      "outputs": [],
      "source": [
        "crime = pd.read_csv('4.김해시_112신고이력(격자매핑).csv')"
      ]
    },
    {
      "cell_type": "markdown",
      "id": "damaged-bowling",
      "metadata": {
        "id": "damaged-bowling"
      },
      "source": [
        "### 건물특성지수, 아동취약 지수 (qgis로 생성된 데이터 불러오기)"
      ]
    },
    {
      "cell_type": "code",
      "execution_count": null,
      "id": "surprised-exercise",
      "metadata": {
        "id": "surprised-exercise"
      },
      "outputs": [],
      "source": [
        "#qgis로 생성한 7,8번 항목 지수에 대한 데이터프레임 불러오기\n",
        "\n",
        "train_data = pd.read_csv('78_train.csv')\n",
        "test_data = pd.read_csv(\"78_test.csv\")"
      ]
    },
    {
      "cell_type": "markdown",
      "id": "sudden-consumer",
      "metadata": {
        "id": "sudden-consumer"
      },
      "source": [
        "### 범죄발생지수"
      ]
    },
    {
      "cell_type": "code",
      "execution_count": null,
      "id": "linear-westminster",
      "metadata": {
        "id": "linear-westminster"
      },
      "outputs": [],
      "source": [
        "grade_5 = ['살인','납치감금']\n",
        "grade_4 = ['강도','강간','주거침입']\n",
        "grade_3 = ['데이트폭력','아동학대(기타)','절도','폭력','학교폭력','공갈','치기']\n",
        "grade_2 = ['사망.대형사고','변사자','자살']"
      ]
    },
    {
      "cell_type": "code",
      "execution_count": null,
      "id": "computational-accused",
      "metadata": {
        "id": "computational-accused"
      },
      "outputs": [],
      "source": [
        "egrid_2021 = list(test_data['gid'].unique())\n",
        "egrid_2020 = list(train_data['gid'].unique())"
      ]
    },
    {
      "cell_type": "code",
      "execution_count": null,
      "id": "mathematical-volume",
      "metadata": {
        "id": "mathematical-volume"
      },
      "outputs": [],
      "source": [
        "effective_crime_2020 = crime.loc[crime['gid'].isin(egrid_2020)]\n",
        "effective_crime_2021 = crime.loc[crime['gid'].isin(egrid_2021)]"
      ]
    },
    {
      "cell_type": "code",
      "execution_count": null,
      "id": "spectacular-forestry",
      "metadata": {
        "id": "spectacular-forestry",
        "outputId": "d42977be-728f-47f9-f2c7-7c92516ee64f"
      },
      "outputs": [
        {
          "name": "stderr",
          "output_type": "stream",
          "text": [
            "/opt/app-root/lib/python3.6/site-packages/ipykernel_launcher.py:3: UserWarning: Boolean Series key will be reindexed to match DataFrame index.\n",
            "  This is separate from the ipykernel package so we can avoid doing imports until\n"
          ]
        }
      ],
      "source": [
        "effective_crime_2019 = effective_crime_2020[(effective_crime_2020['rec_date']>20190000)&(effective_crime_2020['rec_date']<20200000)]\n",
        "effective_crime_2020_train = effective_crime_2020[(effective_crime_2020['rec_date']>20200000)&(effective_crime_2020['rec_date']<20210000)]\n",
        "effective_crime_2020_test = effective_crime_2020[(effective_crime_2021['rec_date']>20200000)&(effective_crime_2020['rec_date']<20210000)]\n",
        "effective_crime_2021 = effective_crime_2021[effective_crime_2021['rec_date']>20210000]"
      ]
    },
    {
      "cell_type": "code",
      "execution_count": null,
      "id": "yellow-gambling",
      "metadata": {
        "id": "yellow-gambling"
      },
      "outputs": [],
      "source": [
        "effective_crime_2020_test"
      ]
    },
    {
      "cell_type": "code",
      "execution_count": null,
      "id": "worldwide-potato",
      "metadata": {
        "id": "worldwide-potato",
        "outputId": "12500d81-c6bf-4ef9-9b3e-cddd5bbec213"
      },
      "outputs": [
        {
          "name": "stderr",
          "output_type": "stream",
          "text": [
            "/opt/app-root/lib/python3.6/site-packages/ipykernel_launcher.py:12: SettingWithCopyWarning: \n",
            "A value is trying to be set on a copy of a slice from a DataFrame.\n",
            "Try using .loc[row_indexer,col_indexer] = value instead\n",
            "\n",
            "See the caveats in the documentation: https://pandas.pydata.org/pandas-docs/stable/user_guide/indexing.html#returning-a-view-versus-a-copy\n",
            "  if sys.path[0] == '':\n",
            "/opt/app-root/lib/python3.6/site-packages/ipykernel_launcher.py:13: SettingWithCopyWarning: \n",
            "A value is trying to be set on a copy of a slice from a DataFrame.\n",
            "Try using .loc[row_indexer,col_indexer] = value instead\n",
            "\n",
            "See the caveats in the documentation: https://pandas.pydata.org/pandas-docs/stable/user_guide/indexing.html#returning-a-view-versus-a-copy\n",
            "  del sys.path[0]\n",
            "/opt/app-root/lib/python3.6/site-packages/ipykernel_launcher.py:14: SettingWithCopyWarning: \n",
            "A value is trying to be set on a copy of a slice from a DataFrame.\n",
            "Try using .loc[row_indexer,col_indexer] = value instead\n",
            "\n",
            "See the caveats in the documentation: https://pandas.pydata.org/pandas-docs/stable/user_guide/indexing.html#returning-a-view-versus-a-copy\n",
            "  \n"
          ]
        }
      ],
      "source": [
        "def grading(x):\n",
        "    if x in grade_5:\n",
        "        return 5\n",
        "    elif x in grade_4:\n",
        "        return 4\n",
        "    elif x in grade_3:\n",
        "        return 3\n",
        "    elif x in grade_2:\n",
        "        return 2\n",
        "    else: return 0\n",
        "\n",
        "effective_crime_2019['grade_2019'] = effective_crime_2019['case_type'].apply(grading)\n",
        "effective_crime_2020_train['grade_2020'] = effective_crime_2020_train['case_type'].apply(grading)\n",
        "effective_crime_2020_test['grade_2020'] = effective_crime_2020_test['case_type'].apply(grading)\n",
        "effective_crime_2021['grade_2021'] = effective_crime_2021['case_type'].apply(grading)"
      ]
    },
    {
      "cell_type": "code",
      "execution_count": null,
      "id": "explicit-filling",
      "metadata": {
        "id": "explicit-filling"
      },
      "outputs": [],
      "source": [
        "effective_crime_2020_test"
      ]
    },
    {
      "cell_type": "code",
      "execution_count": null,
      "id": "adequate-bunch",
      "metadata": {
        "id": "adequate-bunch"
      },
      "outputs": [],
      "source": [
        "table_2019 = effective_crime_2019.groupby(['gid','grade_2019']).count()['case_type'].reset_index()\n",
        "table_2020_train = effective_crime_2020_train.groupby(['gid','grade_2020']).count()['case_type'].reset_index()\n",
        "table_2020_test = effective_crime_2020_test.groupby(['gid','grade_2020']).count()['case_type'].reset_index()\n",
        "table_2021 = effective_crime_2021.groupby(['gid','grade_2021']).count()['case_type'].reset_index()"
      ]
    },
    {
      "cell_type": "code",
      "execution_count": null,
      "id": "banner-ethiopia",
      "metadata": {
        "id": "banner-ethiopia"
      },
      "outputs": [],
      "source": [
        "table_2020_test"
      ]
    },
    {
      "cell_type": "code",
      "execution_count": null,
      "id": "young-howard",
      "metadata": {
        "id": "young-howard"
      },
      "outputs": [],
      "source": [
        "train_data['C_grade_2'] = [0] * len(train_data)\n",
        "train_data['C_grade_3'] = [0] * len(train_data)\n",
        "train_data['C_grade_4'] = [0] * len(train_data)\n",
        "train_data['C_grade_5'] = [0] * len(train_data)\n",
        "train_data['C_grade_0'] = [0] * len(train_data)\n",
        "\n",
        "for index, row in table_2019.iterrows():\n",
        "    gid = row['gid']\n",
        "    grade = row['grade_2019']\n",
        "    count = row['case_type']\n",
        "    train_data.loc[train_data['gid']==gid, f'C_grade_{grade}'] = count\n",
        "\n",
        "train_data['2_crime_2019'] = train_data['C_grade_5'] * 5 + train_data['C_grade_4'] * 4 + train_data['C_grade_3'] *3 \\\n",
        "                            + train_data['C_grade_2'] * 2 "
      ]
    },
    {
      "cell_type": "code",
      "execution_count": null,
      "id": "dental-weather",
      "metadata": {
        "id": "dental-weather"
      },
      "outputs": [],
      "source": [
        "train_data['C_grade_2'] = [0] * len(train_data)\n",
        "train_data['C_grade_3'] = [0] * len(train_data)\n",
        "train_data['C_grade_4'] = [0] * len(train_data)\n",
        "train_data['C_grade_5'] = [0] * len(train_data)\n",
        "train_data['C_grade_0'] = [0] * len(train_data)\n",
        "\n",
        "for index, row in table_2020_train.iterrows():\n",
        "    gid = row['gid']\n",
        "    grade = row['grade_2020']\n",
        "    count = row['case_type']\n",
        "    train_data.loc[train_data['gid']==gid, f'C_grade_{grade}'] = count\n",
        "\n",
        "train_data['2_crime_2020'] = train_data['C_grade_5'] * 5 + train_data['C_grade_4'] * 4 + train_data['C_grade_3'] *3 \\\n",
        "                            + train_data['C_grade_2'] * 2 "
      ]
    },
    {
      "cell_type": "code",
      "execution_count": null,
      "id": "northern-september",
      "metadata": {
        "id": "northern-september"
      },
      "outputs": [],
      "source": [
        "train_data"
      ]
    },
    {
      "cell_type": "code",
      "execution_count": null,
      "id": "eligible-destination",
      "metadata": {
        "id": "eligible-destination"
      },
      "outputs": [],
      "source": [
        "test_data['C_grade_2'] = [0] * len(test_data)\n",
        "test_data['C_grade_3'] = [0] * len(test_data)\n",
        "test_data['C_grade_4'] = [0] * len(test_data)\n",
        "test_data['C_grade_5'] = [0] * len(test_data)\n",
        "test_data['C_grade_0'] = [0] * len(test_data)\n",
        "\n",
        "for index, row in table_2020_test.iterrows():\n",
        "    gid = row['gid']\n",
        "    grade = row['grade_2020']\n",
        "    count = row['case_type']\n",
        "    test_data.loc[test_data['gid']==gid, f'C_grade_{grade}'] = count\n",
        "    \n",
        "test_data['2_crime_2020'] = test_data['C_grade_5'] * 5 + test_data['C_grade_4'] * 4 + test_data['C_grade_3'] *3 \\\n",
        "                            + test_data['C_grade_2'] * 2 "
      ]
    },
    {
      "cell_type": "code",
      "execution_count": null,
      "id": "noble-system",
      "metadata": {
        "id": "noble-system"
      },
      "outputs": [],
      "source": [
        "test_data['C_grade_2'] = [0] * len(test_data)\n",
        "test_data['C_grade_3'] = [0] * len(test_data)\n",
        "test_data['C_grade_4'] = [0] * len(test_data)\n",
        "test_data['C_grade_5'] = [0] * len(test_data)\n",
        "test_data['C_grade_0'] = [0] * len(test_data)\n",
        "\n",
        "for index, row in table_2021.iterrows():\n",
        "    gid = row['gid']\n",
        "    grade = row['grade_2021']\n",
        "    count = row['case_type']\n",
        "    test_data.loc[test_data['gid']==gid, f'C_grade_{grade}'] = count\n",
        "    \n",
        "test_data['2_crime_2021'] = test_data['C_grade_5'] * 5 + test_data['C_grade_4'] * 4 + test_data['C_grade_3'] *3 \\\n",
        "                            + test_data['C_grade_2'] * 2 "
      ]
    },
    {
      "cell_type": "code",
      "execution_count": null,
      "id": "quarterly-adventure",
      "metadata": {
        "id": "quarterly-adventure"
      },
      "outputs": [],
      "source": [
        "test_data"
      ]
    },
    {
      "cell_type": "code",
      "execution_count": null,
      "id": "streaming-integer",
      "metadata": {
        "id": "streaming-integer"
      },
      "outputs": [],
      "source": [
        "test_data.drop(['C_grade_0','C_grade_2','C_grade_3','C_grade_4','C_grade_5'],axis=1, inplace=True)\n",
        "train_data.drop(['C_grade_0','C_grade_2','C_grade_3','C_grade_4','C_grade_5'],axis=1, inplace=True)\n",
        "train_data"
      ]
    },
    {
      "cell_type": "code",
      "execution_count": null,
      "id": "distinct-idaho",
      "metadata": {
        "id": "distinct-idaho"
      },
      "outputs": [],
      "source": [
        "train_data"
      ]
    },
    {
      "cell_type": "code",
      "execution_count": null,
      "id": "imperial-surface",
      "metadata": {
        "id": "imperial-surface"
      },
      "outputs": [],
      "source": [
        "from sklearn.preprocessing import MinMaxScaler\n",
        "\n",
        "scaler = MinMaxScaler()\n",
        "\n",
        "col_train = list(train_data.columns[1:])\n",
        "col_test = list(test_data.columns[1:])\n",
        "\n",
        "scaler.fit(train_data.drop(['gid'],axis=1))\n",
        "train_data[col_train] = scaler.transform(train_data.drop(['gid'],axis=1)) * 100\n",
        "\n",
        "scaler = MinMaxScaler()\n",
        "scaler.fit(test_data.drop(['gid'],axis=1))\n",
        "test_data[col_test] = scaler.transform(test_data.drop(['gid'],axis=1)) * 100"
      ]
    },
    {
      "cell_type": "code",
      "execution_count": null,
      "id": "integral-daily",
      "metadata": {
        "id": "integral-daily",
        "scrolled": false
      },
      "outputs": [],
      "source": [
        "train_data['8_child'] = 100 - train_data['8_child']\n",
        "test_data['8_child'] = 100 - test_data['8_child']\n",
        "train_data"
      ]
    },
    {
      "cell_type": "markdown",
      "id": "beautiful-treaty",
      "metadata": {
        "id": "beautiful-treaty"
      },
      "source": [
        "### 공적감시지수"
      ]
    },
    {
      "cell_type": "code",
      "execution_count": null,
      "id": "unusual-modern",
      "metadata": {
        "id": "unusual-modern"
      },
      "outputs": [],
      "source": [
        "#직접 수집한 데이터 (출처: 경찰청 포털)\n",
        "police_data=pd.read_csv('김해_경찰서.csv')"
      ]
    },
    {
      "cell_type": "code",
      "execution_count": null,
      "id": "ahead-vietnam",
      "metadata": {
        "id": "ahead-vietnam"
      },
      "outputs": [],
      "source": [
        "grid_2020"
      ]
    },
    {
      "cell_type": "code",
      "execution_count": null,
      "id": "classified-colon",
      "metadata": {
        "id": "classified-colon"
      },
      "outputs": [],
      "source": [
        "grid_2020_join = pd.merge(grid, grid_2020, left_on='gid', right_on='gid', how='inner').drop(['Unnamed: 0'],axis=1)\n",
        "grid_2021_join = pd.merge(grid, grid_2021, left_on='gid', right_on='gid', how='inner').drop(['Unnamed: 0'],axis=1)"
      ]
    },
    {
      "cell_type": "code",
      "execution_count": null,
      "id": "accepting-nebraska",
      "metadata": {
        "id": "accepting-nebraska",
        "outputId": "48ac36c8-5264-4277-d069-4e23ed3e7bee"
      },
      "outputs": [
        {
          "name": "stderr",
          "output_type": "stream",
          "text": [
            "/opt/app-root/lib/python3.6/site-packages/ipykernel_launcher.py:1: UserWarning: Geometry is in a geographic CRS. Results from 'centroid' are likely incorrect. Use 'GeoSeries.to_crs()' to re-project geometries to a projected CRS before this operation.\n",
            "\n",
            "  \"\"\"Entry point for launching an IPython kernel.\n",
            "/opt/app-root/lib/python3.6/site-packages/ipykernel_launcher.py:2: UserWarning: Geometry is in a geographic CRS. Results from 'centroid' are likely incorrect. Use 'GeoSeries.to_crs()' to re-project geometries to a projected CRS before this operation.\n",
            "\n",
            "  \n"
          ]
        }
      ],
      "source": [
        "grid_2020_join['centroid']=grid_2020_join['geometry'].centroid\n",
        "grid_2021_join['centroid']=grid_2021_join['geometry'].centroid"
      ]
    },
    {
      "cell_type": "code",
      "execution_count": null,
      "id": "secure-biodiversity",
      "metadata": {
        "id": "secure-biodiversity"
      },
      "outputs": [],
      "source": [
        "for df in [grid_2020_join,grid_2021_join]:\n",
        "    df[\"lon\"] = np.nan\n",
        "    df[\"lat\"] = np.nan"
      ]
    },
    {
      "cell_type": "code",
      "execution_count": null,
      "id": "developmental-level",
      "metadata": {
        "scrolled": true,
        "id": "developmental-level",
        "outputId": "43e2353e-f76c-4672-8fb2-2ec49f9c2d5a"
      },
      "outputs": [
        {
          "name": "stderr",
          "output_type": "stream",
          "text": [
            "/opt/app-root/lib/python3.6/site-packages/ipykernel_launcher.py:3: SettingWithCopyWarning: \n",
            "A value is trying to be set on a copy of a slice from a DataFrame\n",
            "\n",
            "See the caveats in the documentation: https://pandas.pydata.org/pandas-docs/stable/user_guide/indexing.html#returning-a-view-versus-a-copy\n",
            "  This is separate from the ipykernel package so we can avoid doing imports until\n",
            "/opt/app-root/lib/python3.6/site-packages/ipykernel_launcher.py:4: SettingWithCopyWarning: \n",
            "A value is trying to be set on a copy of a slice from a DataFrame\n",
            "\n",
            "See the caveats in the documentation: https://pandas.pydata.org/pandas-docs/stable/user_guide/indexing.html#returning-a-view-versus-a-copy\n",
            "  after removing the cwd from sys.path.\n"
          ]
        }
      ],
      "source": [
        "for df in [grid_2020_join,grid_2021_join]:\n",
        "    for i in range(len(df)):\n",
        "        df['lon'][i]=df['centroid'][i].xy[0][0]\n",
        "        df['lat'][i]=df['centroid'][i].xy[1][0]"
      ]
    },
    {
      "cell_type": "code",
      "execution_count": null,
      "id": "comfortable-unknown",
      "metadata": {
        "id": "comfortable-unknown"
      },
      "outputs": [],
      "source": [
        "from haversine import haversine"
      ]
    },
    {
      "cell_type": "code",
      "execution_count": null,
      "id": "virgin-committee",
      "metadata": {
        "id": "virgin-committee"
      },
      "outputs": [],
      "source": [
        "def closest_dist(a,b): \n",
        "    df_closest_dist=pd.DataFrame()\n",
        "    for i in range(0,len(b)):\n",
        "        b1=(b['lat'][i],b['lon'][i])\n",
        "        dist_list=[]\n",
        "    for k in range(0,len(a)) :\n",
        "        a1=(a['lat'][k],a['lon'][k])\n",
        "        dist=haversine(b1,a1, unit = 'm')\n",
        "        dist_list.append(dist)\n",
        "    min_dist=min(dist_list)\n",
        "    data_to_insert={'gid': grid_2020_join['gid'][i], '최소거리':min_dist}\n",
        "    df_closest_dist = df_closest_dist.append(data_to_insert, ignore_index=True)\n",
        "    return(df_closest_dist)"
      ]
    },
    {
      "cell_type": "code",
      "execution_count": null,
      "id": "weekly-bahamas",
      "metadata": {
        "id": "weekly-bahamas"
      },
      "outputs": [],
      "source": [
        "cd_2020=closest_dist(police_data, grid_2020_join)\n",
        "cd_2021=closest_dist(police_data, grid_2021_join)"
      ]
    },
    {
      "cell_type": "code",
      "execution_count": null,
      "id": "civilian-ecology",
      "metadata": {
        "id": "civilian-ecology"
      },
      "outputs": [],
      "source": [
        "from sklearn.preprocessing import MinMaxScaler\n",
        "scaler_ = MinMaxScaler()\n",
        "scaler_.fit(cd_2020[['최소거리']])\n",
        "scale = scaler_.transform(cd_2020[['최소거리']]) * 100\n",
        "df1=pd.DataFrame(scale, columns=['공적감시취약지수'])\n",
        "final_2020 = pd.concat([cd_2020, df1], axis = 1)\n",
        "final_2020 = final_2020[['gid','공적감시취약지수']]"
      ]
    },
    {
      "cell_type": "code",
      "execution_count": null,
      "id": "variable-payday",
      "metadata": {
        "id": "variable-payday"
      },
      "outputs": [],
      "source": [
        "scaler_ = MinMaxScaler()\n",
        "scaler_.fit(cd_2021[['최소거리']])\n",
        "scale = scaler_.transform(cd_2021[['최소거리']]) * 100\n",
        "df1=pd.DataFrame(scale, columns=['공적감시취약지수'])\n",
        "final_2021 = pd.concat([cd_2021, df1], axis = 1)\n",
        "final_2021 = final_2021[['gid','공적감시취약지수']]"
      ]
    },
    {
      "cell_type": "code",
      "execution_count": null,
      "id": "inclusive-optics",
      "metadata": {
        "id": "inclusive-optics"
      },
      "outputs": [],
      "source": [
        "final_2020.to_csv('공적감시_train.csv', index=False)\n",
        "final_2021.to_csv('공적감시_test.csv', index=False)"
      ]
    },
    {
      "cell_type": "code",
      "execution_count": null,
      "id": "reliable-istanbul",
      "metadata": {
        "id": "reliable-istanbul"
      },
      "outputs": [],
      "source": [
        "공적감시_train = pd.read_csv(\"공적감시_train.csv\")\n",
        "공적감시_test = pd.read_csv(\"공적감시_test.csv\")"
      ]
    },
    {
      "cell_type": "markdown",
      "id": "aboriginal-cartoon",
      "metadata": {
        "id": "aboriginal-cartoon"
      },
      "source": [
        "### 풍속업소지수"
      ]
    },
    {
      "cell_type": "code",
      "execution_count": null,
      "id": "exterior-rating",
      "metadata": {
        "colab": {
          "base_uri": "https://localhost:8080/"
        },
        "id": "exterior-rating",
        "outputId": "342a7fff-af50-443d-93f2-b77cea0331f7"
      },
      "outputs": [
        {
          "name": "stdout",
          "output_type": "stream",
          "text": [
            "Looking in indexes: https://pypi.org/simple, https://us-python.pkg.dev/colab-wheels/public/simple/\n",
            "Collecting geopandas\n",
            "  Downloading geopandas-0.10.2-py2.py3-none-any.whl (1.0 MB)\n",
            "\u001b[K     |████████████████████████████████| 1.0 MB 14.6 MB/s \n",
            "\u001b[?25hRequirement already satisfied: pandas>=0.25.0 in /usr/local/lib/python3.7/dist-packages (from geopandas) (1.3.5)\n",
            "Collecting pyproj>=2.2.0\n",
            "  Downloading pyproj-3.2.1-cp37-cp37m-manylinux2010_x86_64.whl (6.3 MB)\n",
            "\u001b[K     |████████████████████████████████| 6.3 MB 70.8 MB/s \n",
            "\u001b[?25hCollecting fiona>=1.8\n",
            "  Downloading Fiona-1.8.21-cp37-cp37m-manylinux2014_x86_64.whl (16.7 MB)\n",
            "\u001b[K     |████████████████████████████████| 16.7 MB 41.2 MB/s \n",
            "\u001b[?25hRequirement already satisfied: shapely>=1.6 in /usr/local/lib/python3.7/dist-packages (from geopandas) (1.8.2)\n",
            "Requirement already satisfied: click>=4.0 in /usr/local/lib/python3.7/dist-packages (from fiona>=1.8->geopandas) (7.1.2)\n",
            "Requirement already satisfied: six>=1.7 in /usr/local/lib/python3.7/dist-packages (from fiona>=1.8->geopandas) (1.15.0)\n",
            "Requirement already satisfied: attrs>=17 in /usr/local/lib/python3.7/dist-packages (from fiona>=1.8->geopandas) (22.1.0)\n",
            "Collecting cligj>=0.5\n",
            "  Downloading cligj-0.7.2-py3-none-any.whl (7.1 kB)\n",
            "Requirement already satisfied: setuptools in /usr/local/lib/python3.7/dist-packages (from fiona>=1.8->geopandas) (57.4.0)\n",
            "Requirement already satisfied: certifi in /usr/local/lib/python3.7/dist-packages (from fiona>=1.8->geopandas) (2022.6.15)\n",
            "Collecting munch\n",
            "  Downloading munch-2.5.0-py2.py3-none-any.whl (10 kB)\n",
            "Collecting click-plugins>=1.0\n",
            "  Downloading click_plugins-1.1.1-py2.py3-none-any.whl (7.5 kB)\n",
            "Requirement already satisfied: pytz>=2017.3 in /usr/local/lib/python3.7/dist-packages (from pandas>=0.25.0->geopandas) (2022.1)\n",
            "Requirement already satisfied: python-dateutil>=2.7.3 in /usr/local/lib/python3.7/dist-packages (from pandas>=0.25.0->geopandas) (2.8.2)\n",
            "Requirement already satisfied: numpy>=1.17.3 in /usr/local/lib/python3.7/dist-packages (from pandas>=0.25.0->geopandas) (1.21.6)\n",
            "Installing collected packages: munch, cligj, click-plugins, pyproj, fiona, geopandas\n",
            "Successfully installed click-plugins-1.1.1 cligj-0.7.2 fiona-1.8.21 geopandas-0.10.2 munch-2.5.0 pyproj-3.2.1\n"
          ]
        }
      ],
      "source": [
        "!pip install geopandas"
      ]
    },
    {
      "cell_type": "code",
      "execution_count": null,
      "id": "incorrect-affair",
      "metadata": {
        "id": "incorrect-affair"
      },
      "outputs": [],
      "source": [
        "import pathlib\n",
        "import random\n",
        "from functools import reduce\n",
        "from collections import defaultdict\n",
        "\n",
        "import pandas as pd\n",
        "import geopandas as gpd\n",
        "import folium\n",
        "import shapely\n",
        "import numpy as np\n",
        "from IPython.display import display\n",
        "import matplotlib.pyplot as plt\n",
        "from tqdm.notebook import tqdm\n",
        "import xgboost\n",
        "import sklearn.cluster\n",
        "import tensorflow as tf\n",
        "from shapely.geometry import Point"
      ]
    },
    {
      "cell_type": "code",
      "execution_count": null,
      "id": "lined-nursery",
      "metadata": {
        "id": "lined-nursery"
      },
      "outputs": [],
      "source": [
        "grid = gpd.read_file(\"5.김해시_격자(100X100).geojson\")\n",
        "store_data=pd.read_csv('20.김해시_치안_유관업종_현황.csv')\n",
        "grid_2020=pd.read_csv('사용가능격자_2020.csv')\n",
        "grid_2021=pd.read_csv('사용가능격자_2021.csv')"
      ]
    },
    {
      "cell_type": "code",
      "execution_count": null,
      "id": "asian-seeker",
      "metadata": {
        "colab": {
          "base_uri": "https://localhost:8080/"
        },
        "id": "asian-seeker",
        "outputId": "6447563c-88c0-49b8-c430-0b44368de42c"
      },
      "outputs": [
        {
          "data": {
            "text/plain": [
              "담배소매업    5121\n",
              "게임        949\n",
              "유흥주점      873\n",
              "노래방       506\n",
              "단란주점      142\n",
              "숙박        110\n",
              "Name: store_gbn, dtype: int64"
            ]
          },
          "execution_count": 7,
          "metadata": {},
          "output_type": "execute_result"
        }
      ],
      "source": [
        "store_data['store_gbn'].value_counts()"
      ]
    },
    {
      "cell_type": "code",
      "execution_count": null,
      "id": "precious-dividend",
      "metadata": {
        "id": "precious-dividend"
      },
      "outputs": [],
      "source": [
        "grid_2020_join = pd.merge(grid, grid_2020, left_on='gid', right_on='gid', how='inner').drop(['Unnamed: 0','level_0'],axis=1)\n",
        "grid_2021_join = pd.merge(grid, grid_2021, left_on='gid', right_on='gid', how='inner').drop(['Unnamed: 0','level_0'],axis=1)"
      ]
    },
    {
      "cell_type": "code",
      "execution_count": null,
      "id": "distinct-fluid",
      "metadata": {
        "id": "distinct-fluid"
      },
      "outputs": [],
      "source": [
        "store_data['close_date']=store_data['close_date'].fillna(30000000.0)"
      ]
    },
    {
      "cell_type": "code",
      "execution_count": null,
      "id": "computational-cartridge",
      "metadata": {
        "colab": {
          "base_uri": "https://localhost:8080/"
        },
        "id": "computational-cartridge",
        "outputId": "5230ecc7-10ac-4a94-d94c-3974ca8964e5"
      },
      "outputs": [
        {
          "data": {
            "text/plain": [
              "20220531"
            ]
          },
          "execution_count": 7,
          "metadata": {},
          "output_type": "execute_result"
        }
      ],
      "source": [
        "max(store_data['license_date'])"
      ]
    },
    {
      "cell_type": "code",
      "execution_count": null,
      "id": "narrative-exchange",
      "metadata": {
        "id": "narrative-exchange"
      },
      "outputs": [],
      "source": [
        "store_data_2020=store_data[(store_data['license_date']<20210000) & (store_data['close_date']>20200000)].reset_index(drop=True)\n",
        "store_data_2021=store_data[(store_data['license_date']<20220000) & (store_data['close_date']>20210000)].reset_index(drop=True)"
      ]
    },
    {
      "cell_type": "code",
      "execution_count": null,
      "id": "comparable-verification",
      "metadata": {
        "id": "comparable-verification"
      },
      "outputs": [],
      "source": [
        "store_data_2020"
      ]
    },
    {
      "cell_type": "code",
      "execution_count": null,
      "id": "young-converter",
      "metadata": {
        "colab": {
          "base_uri": "https://localhost:8080/"
        },
        "id": "young-converter",
        "outputId": "1b2de129-28df-4f1a-afb0-2b89513f0b8e"
      },
      "outputs": [
        {
          "name": "stderr",
          "output_type": "stream",
          "text": [
            "/usr/local/lib/python3.7/dist-packages/pandas/core/dtypes/cast.py:118: ShapelyDeprecationWarning: The array interface is deprecated and will no longer work in Shapely 2.0. Convert the '.coords' to a numpy array instead.\n",
            "  arr = construct_1d_object_array_from_listlike(values)\n"
          ]
        }
      ],
      "source": [
        "for df in [store_data_2020,store_data_2021]:\n",
        "    points= []\n",
        "    for i in range(len(df)):\n",
        "        x=df['lon'][i]\n",
        "        y=df['lat'][i]\n",
        "        points.append(Point(x,y))\n",
        "    df['point'] = points"
      ]
    },
    {
      "cell_type": "code",
      "execution_count": null,
      "id": "light-newfoundland",
      "metadata": {
        "id": "light-newfoundland"
      },
      "outputs": [],
      "source": [
        "gid = []\n",
        "check = []\n",
        "for index, row in store_data_2020.iterrows():\n",
        "    flag = 0\n",
        "    for INDEX, ROW in grid_2020_join.iterrows():\n",
        "        if row['point'].within(ROW['geometry']):\n",
        "            gid.append(ROW['gid'])\n",
        "            flag = 1\n",
        "            break\n",
        "        if flag == 0:\n",
        "            gid.append(-1)\n",
        "        if index%100 == 0:\n",
        "            \\print(index)\n",
        "store_data_2020['gid']=gid"
      ]
    },
    {
      "cell_type": "code",
      "execution_count": null,
      "id": "falling-allen",
      "metadata": {
        "id": "falling-allen"
      },
      "outputs": [],
      "source": [
        "gid = []\n",
        "check = []\n",
        "for index, row in store_data_2021.iterrows():\n",
        "    flag = 0\n",
        "    for INDEX, ROW in grid_2021_join.iterrows():\n",
        "        if row['point'].within(ROW['geometry']):\n",
        "            gid.append(ROW['gid'])\n",
        "            flag = 1\n",
        "            break\n",
        "        if flag == 0:\n",
        "            gid.append(-1)\n",
        "        if index%100 == 0:\n",
        "            print(index)\n",
        "store_data_2021['gid']=gid"
      ]
    },
    {
      "cell_type": "code",
      "execution_count": null,
      "id": "signed-retirement",
      "metadata": {
        "id": "signed-retirement"
      },
      "outputs": [],
      "source": [
        "store_data_2020=store_data_2020[store_data_2020['gid']!=-1]\n",
        "store_data_2021=store_data_2021[store_data_2021['gid']!=-1]"
      ]
    },
    {
      "cell_type": "code",
      "execution_count": null,
      "id": "focused-eclipse",
      "metadata": {
        "id": "focused-eclipse"
      },
      "outputs": [],
      "source": [
        "store2020_count = store_data_2020['gid'].value_counts().rename_axis('gid').reset_index(name='counts')\n",
        "store2021_count = store_data_2021['gid'].value_counts().rename_axis('gid').reset_index(name='counts')"
      ]
    },
    {
      "cell_type": "code",
      "execution_count": null,
      "id": "attempted-afghanistan",
      "metadata": {
        "id": "attempted-afghanistan"
      },
      "outputs": [],
      "source": [
        "store_2020_final = pd.merge(grid_2020, store2020_count, left_on='gid', right_on='gid', how='outer').fillna(0)\n",
        "store_2021_final = pd.merge(grid_2021, store2021_count, left_on='gid', right_on='gid', how='outer').fillna(0)"
      ]
    },
    {
      "cell_type": "code",
      "execution_count": null,
      "id": "geological-scientist",
      "metadata": {
        "colab": {
          "base_uri": "https://localhost:8080/"
        },
        "id": "geological-scientist",
        "outputId": "1c7d9a58-ba49-4b0a-ee68-2e658e6efa7f",
        "scrolled": true
      },
      "outputs": [
        {
          "data": {
            "text/plain": [
              "1501.0"
            ]
          },
          "execution_count": 54,
          "metadata": {},
          "output_type": "execute_result"
        }
      ],
      "source": [
        "store_2020_final['counts'].sum()"
      ]
    },
    {
      "cell_type": "code",
      "execution_count": null,
      "id": "inclusive-welsh",
      "metadata": {
        "colab": {
          "base_uri": "https://localhost:8080/"
        },
        "id": "inclusive-welsh",
        "outputId": "9955239a-e473-4151-e19d-41b1f2a744c1"
      },
      "outputs": [
        {
          "data": {
            "text/plain": [
              "1469.0"
            ]
          },
          "execution_count": 55,
          "metadata": {},
          "output_type": "execute_result"
        }
      ],
      "source": [
        "store_2021_final['counts'].sum()"
      ]
    },
    {
      "cell_type": "code",
      "execution_count": null,
      "id": "located-france",
      "metadata": {
        "id": "located-france"
      },
      "outputs": [],
      "source": [
        "store_2020_final['score']=1-store_2020_final['counts']/1501.0\n",
        "store_2021_final['score']=1-store_2021_final['counts']/1469.0"
      ]
    },
    {
      "cell_type": "code",
      "execution_count": null,
      "id": "completed-pharmacy",
      "metadata": {
        "id": "completed-pharmacy"
      },
      "outputs": [],
      "source": [
        "store_2020_final"
      ]
    },
    {
      "cell_type": "code",
      "execution_count": null,
      "id": "governmental-failing",
      "metadata": {
        "id": "governmental-failing"
      },
      "outputs": [],
      "source": [
        "from sklearn.preprocessing import MinMaxScaler\n",
        "scaler_ = MinMaxScaler()\n",
        "scaler_.fit(store_2020_final[['score']])\n",
        "scale = scaler_.transform(store_2020_final[['score']]) * 100\n",
        "df=pd.DataFrame(scale, columns=['풍속업소지수'])\n",
        "final_2020 = pd.concat([store_2020_final, df], axis = 1)\n",
        "final_2020 = final_2020[['gid','풍속업소지수']]"
      ]
    },
    {
      "cell_type": "code",
      "execution_count": null,
      "id": "ranking-democracy",
      "metadata": {
        "id": "ranking-democracy"
      },
      "outputs": [],
      "source": [
        "from sklearn.preprocessing import MinMaxScaler\n",
        "scaler_ = MinMaxScaler()\n",
        "scaler_.fit(store_2021_final[['score']])\n",
        "scale = scaler_.transform(store_2021_final[['score']]) * 100\n",
        "df=pd.DataFrame(scale, columns=['풍속업소지수'])\n",
        "final_2021 = pd.concat([store_2021_final, df], axis = 1)\n",
        "final_2021 = final_2021[['gid','풍속업소지수']]"
      ]
    },
    {
      "cell_type": "code",
      "execution_count": null,
      "id": "amazing-shadow",
      "metadata": {
        "id": "amazing-shadow"
      },
      "outputs": [],
      "source": [
        "final_2020.to_csv('/content/gdrive/Shareddrives/LH 김해/오진희/풍속업소지수_2020.csv', index=False)\n",
        "final_2021.to_csv('/content/gdrive/Shareddrives/LH 김해/오진희/풍속업소지수_2021.csv', index=False)"
      ]
    },
    {
      "cell_type": "code",
      "execution_count": null,
      "id": "mysterious-penetration",
      "metadata": {
        "id": "mysterious-penetration"
      },
      "outputs": [],
      "source": [
        "풍속업소지수_train = pd.read_csv(\"풍속업소지수_train.csv\")\n",
        "풍속업소지수_test = pd.read_csv('풍속업소지수_test.csv')"
      ]
    },
    {
      "cell_type": "markdown",
      "id": "accredited-forestry",
      "metadata": {
        "id": "accredited-forestry"
      },
      "source": [
        "### 감시취약지수"
      ]
    },
    {
      "cell_type": "code",
      "execution_count": null,
      "id": "centered-mixture",
      "metadata": {
        "id": "centered-mixture"
      },
      "outputs": [],
      "source": [
        "df = pd.read_csv(\"1.김해시_CCTV설치현황.csv\")\n",
        "grid = gpd.read_file(\"5.김해시_격자(100X100).geojson\")"
      ]
    },
    {
      "cell_type": "code",
      "execution_count": null,
      "id": "adapted-frost",
      "metadata": {
        "id": "adapted-frost"
      },
      "outputs": [],
      "source": [
        "gdf = gpd.GeoDataFrame(df, geometry=gpd.points_from_xy(df['lon'], df['lat']))"
      ]
    },
    {
      "cell_type": "code",
      "execution_count": null,
      "id": "smaller-chase",
      "metadata": {
        "id": "smaller-chase"
      },
      "outputs": [],
      "source": [
        "gid = []\n",
        "check = []\n",
        "for index, row in df.iterrows():\n",
        "    flag = 0\n",
        "    if row['geometry']==-1:\n",
        "        flag = 1\n",
        "        gid.append(-1)\n",
        "    else:\n",
        "        for INDEX, ROW in grid.iterrows():\n",
        "            if row['geometry'].within(ROW['geometry']):\n",
        "                gid.append(ROW['gid'])\n",
        "                flag = 1\n",
        "                break\n",
        "    if index%100 == 0:\n",
        "        print(index)"
      ]
    },
    {
      "cell_type": "code",
      "execution_count": null,
      "id": "posted-delivery",
      "metadata": {
        "id": "posted-delivery"
      },
      "outputs": [],
      "source": [
        "df['gid'] = gid"
      ]
    },
    {
      "cell_type": "code",
      "execution_count": null,
      "id": "level-payment",
      "metadata": {
        "id": "level-payment"
      },
      "outputs": [],
      "source": [
        "df['install_ym']=df['install_ym'].str[1:]\n",
        "df[['install_y','install_month']] = df['install_ym'].str.split('-', expand=True)"
      ]
    },
    {
      "cell_type": "code",
      "execution_count": null,
      "id": "rural-onion",
      "metadata": {
        "id": "rural-onion"
      },
      "outputs": [],
      "source": [
        "df.to_csv(\"김해시_CCTV설치현황_격자매칭완료.csv\", index=False)"
      ]
    },
    {
      "cell_type": "code",
      "execution_count": null,
      "id": "unauthorized-checklist",
      "metadata": {
        "id": "unauthorized-checklist"
      },
      "outputs": [],
      "source": [
        "#qgis를 통해 나머지 진행(파일첨부)\n",
        "감시취약_train = pd.read_csv('감시취약_train.csv')\n",
        "감시취약_test = pd.read_csv(\"감시취약_test.csv\")"
      ]
    },
    {
      "cell_type": "code",
      "execution_count": null,
      "id": "welsh-upset",
      "metadata": {
        "id": "welsh-upset"
      },
      "outputs": [],
      "source": [
        "import pandas as pd\n",
        "from glob import glob\n",
        "import os\n",
        "import numpy as np\n",
        "from tqdm import tqdm, tqdm_notebook\n",
        "import json\n",
        "import geopandas as gpd"
      ]
    },
    {
      "cell_type": "markdown",
      "id": "internal-straight",
      "metadata": {
        "id": "internal-straight"
      },
      "source": [
        "### 부양인구지수"
      ]
    },
    {
      "cell_type": "code",
      "execution_count": null,
      "id": "impaired-prince",
      "metadata": {
        "id": "impaired-prince"
      },
      "outputs": [],
      "source": [
        "living_df = gpd.read_file('10.김해시_성연령별_거주인구격자.geojson')"
      ]
    },
    {
      "cell_type": "code",
      "execution_count": null,
      "id": "incorporated-russia",
      "metadata": {
        "id": "incorporated-russia"
      },
      "outputs": [],
      "source": [
        "living_df['2020_유소년'] = living_df['2020_m_0g_pop']+living_df['2020_w_0g_pop']\n",
        "living_df['2020_생산가능'] = living_df['2020_m_20g_pop'] + living_df['2020_w_20g_pop']+living_df['2020_m_30g_pop'] + living_df['2020_w_30g_pop']+living_df['2020_m_40g_pop'] + living_df['2020_w_40g_pop']+living_df['2020_m_50g_pop'] + living_df['2020_w_50g_pop']+living_df['2020_m_60g_pop'] + living_df['2020_w_60g_pop']\n",
        "living_df['2020_고령'] = living_df['2020_m_70g_pop']+living_df['2020_w_70g_pop']\n",
        "living_df['2020_전체거주인구'] = living_df['2020_유소년']+living_df['2020_생산가능']+living_df['2020_고령']"
      ]
    },
    {
      "cell_type": "code",
      "execution_count": null,
      "id": "impressed-wildlife",
      "metadata": {
        "id": "impressed-wildlife"
      },
      "outputs": [],
      "source": [
        "living_df['2021_유소년'] = living_df['2021_m_0g_pop']+living_df['2021_w_0g_pop']\n",
        "living_df['2021_생산가능'] = living_df['2021_m_20g_pop'] + living_df['2021_w_20g_pop']+living_df['2021_m_30g_pop'] + living_df['2021_w_30g_pop']+living_df['2021_m_40g_pop'] + living_df['2021_w_40g_pop']+living_df['2021_m_50g_pop'] + living_df['2021_w_50g_pop']+living_df['2021_m_60g_pop'] + living_df['2021_w_60g_pop']\n",
        "living_df['2021_고령'] = living_df['2021_m_70g_pop']+living_df['2021_w_70g_pop']\n",
        "living_df['2021_전체거주인구'] =living_df['2021_유소년']+living_df['2021_생산가능']+living_df['2021_고령']"
      ]
    },
    {
      "cell_type": "code",
      "execution_count": null,
      "id": "answering-substance",
      "metadata": {
        "id": "answering-substance"
      },
      "outputs": [],
      "source": [
        "living_df = living_df[['gid','geometry','2020_유소년','2020_생산가능','2020_고령','2020_전체거주인구','2021_유소년','2021_생산가능','2021_고령','2021_전체거주인구']]"
      ]
    },
    {
      "cell_type": "code",
      "execution_count": null,
      "id": "checked-notebook",
      "metadata": {
        "id": "checked-notebook"
      },
      "outputs": [],
      "source": [
        "living_df['2020_부양인구지수'] = (living_df['2020_유소년']+living_df['2020_고령'])/living_df['2020_전체거주인구']\n",
        "living_df['2021_부양인구지수'] = (living_df['2021_유소년']+living_df['2021_고령'])/living_df['2021_전체거주인구']"
      ]
    },
    {
      "cell_type": "code",
      "execution_count": null,
      "id": "colonial-sessions",
      "metadata": {
        "id": "colonial-sessions"
      },
      "outputs": [],
      "source": [
        "living_new = living_df[['gid','geometry','2020_부양인구지수','2021_부양인구지수']]\n",
        "living_new = living_new.fillna(0)"
      ]
    },
    {
      "cell_type": "code",
      "execution_count": null,
      "id": "advance-insertion",
      "metadata": {
        "id": "advance-insertion"
      },
      "outputs": [],
      "source": [
        "from sklearn.preprocessing import  MinMaxScaler\n",
        "scaler = MinMaxScaler()\n",
        "scaled1= scaler.fit_transform(living_new[['2020_부양인구지수']].values) * 100\n",
        "scaled2= scaler.fit_transform(living_new[['2021_부양인구지수']].values) * 100\n",
        "df1 = pd.DataFrame(scaled1)\n",
        "df2= pd.DataFrame(scaled2)\n",
        "df3= pd.concat([df1,df2],axis=1)\n",
        "df3.columns = ['2020_부양인구지수','2021_부양인구지수']\n",
        "total = pd.concat([living_new[['gid','geometry']],df3],axis=1)"
      ]
    },
    {
      "cell_type": "code",
      "execution_count": null,
      "id": "behind-poster",
      "metadata": {
        "id": "behind-poster"
      },
      "outputs": [],
      "source": [
        "total.to_csv(\"부양인구지수.csv\", index=False)"
      ]
    },
    {
      "cell_type": "code",
      "execution_count": null,
      "id": "blocked-facial",
      "metadata": {
        "id": "blocked-facial"
      },
      "outputs": [],
      "source": [
        "부양인구=pd.read_csv(\"부양인구.csv\")"
      ]
    },
    {
      "cell_type": "markdown",
      "id": "wanted-marine",
      "metadata": {
        "id": "wanted-marine"
      },
      "source": [
        "### 외국인위험지수"
      ]
    },
    {
      "cell_type": "code",
      "execution_count": null,
      "id": "boring-fantasy",
      "metadata": {
        "id": "boring-fantasy"
      },
      "outputs": [],
      "source": [
        "foreign_df = gpd.read_file('11.김해시_외국인_읍면동별_격자.geojson')"
      ]
    },
    {
      "cell_type": "code",
      "execution_count": null,
      "id": "german-factor",
      "metadata": {
        "id": "german-factor"
      },
      "outputs": [],
      "source": [
        "foreign_df"
      ]
    },
    {
      "cell_type": "code",
      "execution_count": null,
      "id": "dress-barrier",
      "metadata": {
        "id": "dress-barrier",
        "outputId": "9e66d8ac-9e3a-4692-830d-2474310e4953"
      },
      "outputs": [
        {
          "name": "stderr",
          "output_type": "stream",
          "text": [
            "100%|██████████| 46883/46883 [16:02<00:00, 48.72it/s]\n"
          ]
        }
      ],
      "source": [
        "tqdm.pandas()\n",
        "foreign_df['2020_생산가능']  = foreign_df['gid'].progress_apply(lambda x : living_df.query(\"gid == '\" + x + \"' \")['2020_생산가능'].iloc[0] )"
      ]
    },
    {
      "cell_type": "code",
      "execution_count": null,
      "id": "patent-edwards",
      "metadata": {
        "id": "patent-edwards",
        "outputId": "42017901-be72-410a-e28b-8c0c4c384f4c"
      },
      "outputs": [
        {
          "name": "stderr",
          "output_type": "stream",
          "text": [
            "100%|██████████| 46883/46883 [16:00<00:00, 48.83it/s]\n"
          ]
        }
      ],
      "source": [
        "foreign_df['2021_생산가능']  = foreign_df['gid'].progress_apply(lambda x : living_df.query(\"gid == '\" + x + \"' \")['2021_생산가능'].iloc[0] )"
      ]
    },
    {
      "cell_type": "code",
      "execution_count": null,
      "id": "infinite-particular",
      "metadata": {
        "id": "infinite-particular"
      },
      "outputs": [],
      "source": [
        "foreign_df"
      ]
    },
    {
      "cell_type": "code",
      "execution_count": null,
      "id": "chief-begin",
      "metadata": {
        "id": "chief-begin"
      },
      "outputs": [],
      "source": [
        "foreign_df['2020_foreigner_pop'] = foreign_df['2020_foreigner_pop'].astype(float)\n",
        "foreign_df['2021_foreigner_pop'] = foreign_df['2021_foreigner_pop'].astype(float)"
      ]
    },
    {
      "cell_type": "code",
      "execution_count": null,
      "id": "casual-vegetarian",
      "metadata": {
        "id": "casual-vegetarian"
      },
      "outputs": [],
      "source": [
        "foreign_df = foreign_df.fillna(0)"
      ]
    },
    {
      "cell_type": "code",
      "execution_count": null,
      "id": "preliminary-institution",
      "metadata": {
        "id": "preliminary-institution"
      },
      "outputs": [],
      "source": [
        "foreign_df['2020_외국인위험지수'] = foreign_df['2020_foreigner_pop']/foreign_df['2020_생산가능']\n",
        "foreign_df['2021_외국인위험지수'] = foreign_df['2021_foreigner_pop']/foreign_df['2021_생산가능']"
      ]
    },
    {
      "cell_type": "code",
      "execution_count": null,
      "id": "generous-parcel",
      "metadata": {
        "id": "generous-parcel"
      },
      "outputs": [],
      "source": [
        "foreign_df = foreign_df.fillna(0)"
      ]
    },
    {
      "cell_type": "code",
      "execution_count": null,
      "id": "engaged-exhibit",
      "metadata": {
        "id": "engaged-exhibit"
      },
      "outputs": [],
      "source": [
        "new = foreign_df[['gid','geometry','2020_외국인위험지수','2021_외국인위험지수']]\n",
        "new = new.replace([np.inf, -np.inf], np.nan)"
      ]
    },
    {
      "cell_type": "code",
      "execution_count": null,
      "id": "metropolitan-thanks",
      "metadata": {
        "id": "metropolitan-thanks"
      },
      "outputs": [],
      "source": [
        "new = new.fillna(0)"
      ]
    },
    {
      "cell_type": "code",
      "execution_count": null,
      "id": "medieval-apparatus",
      "metadata": {
        "id": "medieval-apparatus",
        "outputId": "aafec26c-5cf4-4b91-d068-3bc2867db2a5"
      },
      "outputs": [
        {
          "data": {
            "text/plain": [
              "0.0"
            ]
          },
          "execution_count": 175,
          "metadata": {},
          "output_type": "execute_result"
        }
      ],
      "source": [
        "np.min(new['2020_외국인위험지수'])"
      ]
    },
    {
      "cell_type": "code",
      "execution_count": null,
      "id": "strong-healing",
      "metadata": {
        "id": "strong-healing"
      },
      "outputs": [],
      "source": [
        "new"
      ]
    },
    {
      "cell_type": "code",
      "execution_count": null,
      "id": "ambient-conference",
      "metadata": {
        "id": "ambient-conference"
      },
      "outputs": [],
      "source": [
        "new.to_csv(\"외국인위험지수.csv\", index=False)"
      ]
    },
    {
      "cell_type": "code",
      "execution_count": null,
      "id": "combined-beatles",
      "metadata": {
        "id": "combined-beatles"
      },
      "outputs": [],
      "source": [
        "외국인지수 = pd.read_csv(\"외국인위험지수.csv\")"
      ]
    },
    {
      "cell_type": "markdown",
      "id": "going-conditioning",
      "metadata": {
        "id": "going-conditioning"
      },
      "source": [
        "### 유동인구지수"
      ]
    },
    {
      "cell_type": "code",
      "execution_count": null,
      "id": "available-evaluation",
      "metadata": {
        "id": "available-evaluation"
      },
      "outputs": [],
      "source": [
        "import pandas as pd\n",
        "from glob import glob\n",
        "import os\n",
        "import numpy as np\n",
        "from tqdm import tqdm, tqdm_notebook\n",
        "\n",
        "import geopandas as gpd\n",
        "from shapely.geometry import Point"
      ]
    },
    {
      "cell_type": "code",
      "execution_count": null,
      "id": "filled-bicycle",
      "metadata": {
        "id": "filled-bicycle"
      },
      "outputs": [],
      "source": [
        "df = pd.read_csv(\"김해시_요일별_성연령별_유동인구.csv\")\n",
        "cell = pd.read_csv(\"김해시_유동인구_CELLPOINT.csv\")"
      ]
    },
    {
      "cell_type": "code",
      "execution_count": null,
      "id": "painted-pasta",
      "metadata": {
        "id": "painted-pasta"
      },
      "outputs": [],
      "source": [
        "cell"
      ]
    },
    {
      "cell_type": "code",
      "execution_count": null,
      "id": "premier-duncan",
      "metadata": {
        "id": "premier-duncan"
      },
      "outputs": [],
      "source": [
        "df['total_man'] = df['m_0009']+ df['m_1019']+ df['m_2029']+ df['m_3039']+ df['m_4049']+ df['m_5059']+df['m_6069']+df['m_7000']\n",
        "df['total_woman'] = df['w_0009']+ df['w_1019']+ df['w_2029']+ df['w_3039']+ df['w_4049']+ df['w_5059']+df['w_6069']+df['w_7000']"
      ]
    },
    {
      "cell_type": "code",
      "execution_count": null,
      "id": "representative-intelligence",
      "metadata": {
        "id": "representative-intelligence"
      },
      "outputs": [],
      "source": [
        "data = df.groupby(['recordid','year']).sum()\n",
        "data = data[[\"total_man\",\"total_woman\"]]\n",
        "data = data.reset_index().rename(columns={\"index\": \"id\"})\n",
        "data = data[data['year']!=2020]"
      ]
    },
    {
      "cell_type": "code",
      "execution_count": null,
      "id": "corresponding-affairs",
      "metadata": {
        "id": "corresponding-affairs"
      },
      "outputs": [],
      "source": [
        "data = data.groupby(['recordid']).mean()\n",
        "data = data[[\"total_man\",\"total_woman\"]]\n",
        "data = data.reset_index().rename(columns={\"index\": \"id\"})\n",
        "data"
      ]
    },
    {
      "cell_type": "code",
      "execution_count": null,
      "id": "handy-apartment",
      "metadata": {
        "id": "handy-apartment"
      },
      "outputs": [],
      "source": [
        "data['recordid'] = data['recordid'].astype(str)"
      ]
    },
    {
      "cell_type": "code",
      "execution_count": null,
      "id": "false-activity",
      "metadata": {
        "id": "false-activity",
        "outputId": "0d83bf2f-4ff0-420b-89aa-0a8c0722c234"
      },
      "outputs": [
        {
          "name": "stderr",
          "output_type": "stream",
          "text": [
            "100%|██████████| 69756/69756 [05:00<00:00, 232.29it/s]\n"
          ]
        }
      ],
      "source": [
        "tqdm.pandas()\n",
        "data['lon']  = data['recordid'].progress_apply(lambda x : cell.query(\"recordid == '\" + x + \"' \").lon.iloc[0] )"
      ]
    },
    {
      "cell_type": "code",
      "execution_count": null,
      "id": "mediterranean-domestic",
      "metadata": {
        "id": "mediterranean-domestic",
        "outputId": "8f919f88-b566-4a80-c888-8111bf632864"
      },
      "outputs": [
        {
          "name": "stderr",
          "output_type": "stream",
          "text": [
            "100%|██████████| 69756/69756 [04:43<00:00, 246.34it/s]\n"
          ]
        }
      ],
      "source": [
        "data['lat']  = data['recordid'].progress_apply(lambda x : cell.query(\"recordid == '\" + x + \"' \").lat.iloc[0] )"
      ]
    },
    {
      "cell_type": "code",
      "execution_count": null,
      "id": "electric-indonesia",
      "metadata": {
        "id": "electric-indonesia"
      },
      "outputs": [],
      "source": [
        "data.to_csv(\"김해시_유동인구_준비.csv\",index=False)"
      ]
    },
    {
      "cell_type": "code",
      "execution_count": null,
      "id": "herbal-toddler",
      "metadata": {
        "id": "herbal-toddler"
      },
      "outputs": [],
      "source": [
        "data = pd.read_csv(\"김해시_유동인구_준비.csv\")\n",
        "grid = gpd.read_file(\"5.김해시_격자(100X100).geojson\")"
      ]
    },
    {
      "cell_type": "code",
      "execution_count": null,
      "id": "adopted-exploration",
      "metadata": {
        "id": "adopted-exploration"
      },
      "outputs": [],
      "source": [
        "data = gpd.GeoDataFrame(data, geometry=gpd.points_from_xy(data['lon'], data['lat']))"
      ]
    },
    {
      "cell_type": "code",
      "execution_count": null,
      "id": "mechanical-sympathy",
      "metadata": {
        "id": "mechanical-sympathy"
      },
      "outputs": [],
      "source": [
        "grid_2020 = pd.read_csv(\"/opt/app-root/src/raw data/사용가능격자_2020.csv\")\n",
        "grid_2021 = pd.read_csv(\"/opt/app-root/src/raw data/사용가능격자_2021.csv\")"
      ]
    },
    {
      "cell_type": "code",
      "execution_count": null,
      "id": "legal-writer",
      "metadata": {
        "id": "legal-writer"
      },
      "outputs": [],
      "source": [
        "grid_2020 = grid_2020[['gid']]\n",
        "grid_2021 = grid_2021[['gid']]\n",
        "grid_total = pd.concat([grid_2020,grid_2021], axis=0).reset_index()\n",
        "grid_total  = grid_total.drop_duplicates(subset = \"gid\").reset_index(drop=True)"
      ]
    },
    {
      "cell_type": "code",
      "execution_count": null,
      "id": "proprietary-individual",
      "metadata": {
        "id": "proprietary-individual",
        "outputId": "e6648ea9-65a0-482a-8935-1e97561a72f1"
      },
      "outputs": [
        {
          "name": "stderr",
          "output_type": "stream",
          "text": [
            "100%|██████████| 2115/2115 [00:37<00:00, 56.48it/s]\n"
          ]
        }
      ],
      "source": [
        "tqdm.pandas()\n",
        "grid_total['geometry']  = grid_total['gid'].progress_apply(lambda x : grid.query(\"gid == '\" + x + \"' \").geometry.iloc[0])"
      ]
    },
    {
      "cell_type": "code",
      "execution_count": null,
      "id": "consolidated-latvia",
      "metadata": {
        "id": "consolidated-latvia"
      },
      "outputs": [],
      "source": [
        "grid_total = gpd.GeoDataFrame(grid_total, geometry='geometry')"
      ]
    },
    {
      "cell_type": "code",
      "execution_count": null,
      "id": "italian-championship",
      "metadata": {
        "id": "italian-championship"
      },
      "outputs": [],
      "source": [
        "gid = []\n",
        "check = []\n",
        "for index, row in data.iterrows():\n",
        "    for INDEX, ROW in grid_total.iterrows():\n",
        "            if ROW['geometry'].contains(row['geometry']) :\n",
        "                gid.append(ROW['gid'])\n",
        "                flag = 1\n",
        "                break\n",
        "    else : gid.append(0)\n",
        "    if index%100 == 0:\n",
        "        print(index)"
      ]
    },
    {
      "cell_type": "code",
      "execution_count": null,
      "id": "equivalent-trout",
      "metadata": {
        "id": "equivalent-trout"
      },
      "outputs": [],
      "source": [
        "data['gid'] = gid"
      ]
    },
    {
      "cell_type": "code",
      "execution_count": null,
      "id": "solid-prototype",
      "metadata": {
        "id": "solid-prototype"
      },
      "outputs": [],
      "source": [
        "data.to_csv(\"김해시_유동인구_준비3.csv\",index=False)"
      ]
    },
    {
      "cell_type": "code",
      "execution_count": null,
      "id": "referenced-criterion",
      "metadata": {
        "id": "referenced-criterion"
      },
      "outputs": [],
      "source": [
        "data"
      ]
    },
    {
      "cell_type": "code",
      "execution_count": null,
      "id": "olympic-prescription",
      "metadata": {
        "id": "olympic-prescription"
      },
      "outputs": [],
      "source": [
        "dd = data[['total_man','total_woman','gid']]"
      ]
    },
    {
      "cell_type": "code",
      "execution_count": null,
      "id": "northern-courtesy",
      "metadata": {
        "id": "northern-courtesy"
      },
      "outputs": [],
      "source": [
        "dd = dd.groupby(['gid']).sum()\n",
        "dd = dd.reset_index().rename(columns={\"index\": \"id\"})"
      ]
    },
    {
      "cell_type": "code",
      "execution_count": null,
      "id": "greek-carbon",
      "metadata": {
        "id": "greek-carbon"
      },
      "outputs": [],
      "source": [
        "dd = dd[dd['gid']!= 0].reset_index()\n",
        "dd['total']=dd['total_man']+dd['total_woman']\n",
        "dd= dd[['gid','total']]"
      ]
    },
    {
      "cell_type": "code",
      "execution_count": null,
      "id": "cardiovascular-circumstances",
      "metadata": {
        "id": "cardiovascular-circumstances"
      },
      "outputs": [],
      "source": [
        "from sklearn.preprocessing import MinMaxScaler\n",
        "scaler_ = MinMaxScaler()\n",
        "scaler_.fit(dd[['total']])\n",
        "scale = scaler_.transform(dd[['total']]) * 100\n",
        "df2=pd.DataFrame(scale, columns=['유동인구지수(100)'])"
      ]
    },
    {
      "cell_type": "code",
      "execution_count": null,
      "id": "twenty-hours",
      "metadata": {
        "id": "twenty-hours"
      },
      "outputs": [],
      "source": [
        "final = pd.concat([dd, df2], axis = 1)\n",
        "final = final[['gid','유동인구지수(100)']]\n",
        "final.columns = ['gid','유동인구지수']"
      ]
    },
    {
      "cell_type": "code",
      "execution_count": null,
      "id": "ranking-verse",
      "metadata": {
        "id": "ranking-verse"
      },
      "outputs": [],
      "source": [
        "final.to_csv(\"유동인구지수.csv\",index=False)"
      ]
    },
    {
      "cell_type": "code",
      "execution_count": null,
      "id": "renewable-mistake",
      "metadata": {
        "id": "renewable-mistake"
      },
      "outputs": [],
      "source": [
        "유동인구지수 = pd.read_csv(\"유동인구지수.csv\")"
      ]
    },
    {
      "cell_type": "markdown",
      "id": "legislative-burner",
      "metadata": {
        "id": "legislative-burner"
      },
      "source": [
        "### 대체감시취약지수"
      ]
    },
    {
      "cell_type": "code",
      "execution_count": null,
      "id": "hawaiian-diameter",
      "metadata": {
        "id": "hawaiian-diameter"
      },
      "outputs": [],
      "source": [
        "from shapely.geometry import Point"
      ]
    },
    {
      "cell_type": "code",
      "execution_count": null,
      "id": "working-invitation",
      "metadata": {
        "id": "working-invitation"
      },
      "outputs": [],
      "source": [
        "light_data=pd.read_csv('6.김해시_보안등설치현황.csv')"
      ]
    },
    {
      "cell_type": "code",
      "execution_count": null,
      "id": "lasting-protection",
      "metadata": {
        "id": "lasting-protection"
      },
      "outputs": [],
      "source": [
        "grid_2020_join = pd.merge(grid, grid_2020, left_on='gid', right_on='gid', how='inner')\n",
        "grid_2021_join = pd.merge(grid, grid_2021, left_on='gid', right_on='gid', how='inner')"
      ]
    },
    {
      "cell_type": "code",
      "execution_count": null,
      "id": "rocky-hardwood",
      "metadata": {
        "id": "rocky-hardwood"
      },
      "outputs": [],
      "source": [
        "points= []\n",
        "for i in range(len(light_data)):\n",
        "    x=light_data['lon'][i]\n",
        "    y=light_data['lat'][i]\n",
        "    points.append(Point(x,y))"
      ]
    },
    {
      "cell_type": "code",
      "execution_count": null,
      "id": "governmental-california",
      "metadata": {
        "id": "governmental-california"
      },
      "outputs": [],
      "source": [
        "light_data['point'] = points"
      ]
    },
    {
      "cell_type": "code",
      "execution_count": null,
      "id": "furnished-athens",
      "metadata": {
        "id": "furnished-athens"
      },
      "outputs": [],
      "source": [
        "gid = []\n",
        "check = []\n",
        "for index, row in light_data.iterrows():\n",
        "    flag = 0\n",
        "    for INDEX, ROW in grid_2020_join.iterrows():\n",
        "        if row['point'].within(ROW['geometry']):\n",
        "            gid.append(ROW['gid'])\n",
        "            flag = 1\n",
        "            break\n",
        "        if flag == 0:\n",
        "            gid.append(-1)\n",
        "        if index%100 == 0:\n",
        "            print(index)"
      ]
    },
    {
      "cell_type": "code",
      "execution_count": null,
      "id": "racial-module",
      "metadata": {
        "id": "racial-module"
      },
      "outputs": [],
      "source": [
        "light_data['gid']=gid\n",
        "light20=light_data[light_data['year']!=2021.0]"
      ]
    },
    {
      "cell_type": "code",
      "execution_count": null,
      "id": "checked-wagner",
      "metadata": {
        "id": "checked-wagner"
      },
      "outputs": [],
      "source": [
        "light20.to_csv('light20.csv', index=False)"
      ]
    },
    {
      "cell_type": "code",
      "execution_count": null,
      "id": "victorian-effectiveness",
      "metadata": {
        "id": "victorian-effectiveness"
      },
      "outputs": [],
      "source": [
        "light_data=pd.read_csv('6.김해시_보안등설치현황.csv')\n",
        "points= []\n",
        "for i in range(len(light_data)):\n",
        "    x=light_data['lon'][i]\n",
        "    y=light_data['lat'][i]\n",
        "    points.append(Point(x,y))\n",
        "light_data['point'] = points"
      ]
    },
    {
      "cell_type": "code",
      "execution_count": null,
      "id": "disturbed-casino",
      "metadata": {
        "id": "disturbed-casino"
      },
      "outputs": [],
      "source": [
        "gid = []\n",
        "check = []\n",
        "for index, row in light_data.iterrows():\n",
        "    flag = 0\n",
        "    for INDEX, ROW in grid_2021_join.iterrows():\n",
        "        if row['point'].within(ROW['geometry']):\n",
        "            gid.append(ROW['gid'])\n",
        "            flag = 1\n",
        "            break\n",
        "        if flag == 0:\n",
        "            gid.append(-1)\n",
        "        if index%100 == 0:\n",
        "            print(index)"
      ]
    },
    {
      "cell_type": "code",
      "execution_count": null,
      "id": "contemporary-virginia",
      "metadata": {
        "id": "contemporary-virginia"
      },
      "outputs": [],
      "source": [
        "light_data['gid']=gid\n",
        "light21=light_data"
      ]
    },
    {
      "cell_type": "code",
      "execution_count": null,
      "id": "surprised-jesus",
      "metadata": {
        "id": "surprised-jesus"
      },
      "outputs": [],
      "source": [
        "light21.to_csv('light21.csv', index=False)"
      ]
    },
    {
      "cell_type": "code",
      "execution_count": null,
      "id": "round-maximum",
      "metadata": {
        "id": "round-maximum",
        "outputId": "c0709b71-36f0-49c6-f117-738c917ff366"
      },
      "outputs": [
        {
          "name": "stderr",
          "output_type": "stream",
          "text": [
            "Downloading...\n",
            "From: https://drive.google.com/uc?id=1YpUq-2wXH865eCbz-I5bLtxSYGX3KX3_\n",
            "To: /opt/app-root/src/lignt20.csv\n",
            "100%|██████████| 1.31M/1.31M [00:00<00:00, 5.61MB/s]\n",
            "Downloading...\n",
            "From: https://drive.google.com/uc?id=1-9XGgGXAhWX7YgmlJt1k1olS5lIsl8Wm\n",
            "To: /opt/app-root/src/light21.csv\n",
            "100%|██████████| 1.33M/1.33M [00:00<00:00, 6.01MB/s]\n"
          ]
        }
      ],
      "source": [
        "light20 = pd.read_csv(\"lignt20.csv\")\n",
        "light21 = pd.read_csv('light21.csv')"
      ]
    },
    {
      "cell_type": "code",
      "execution_count": null,
      "id": "associate-globe",
      "metadata": {
        "id": "associate-globe"
      },
      "outputs": [],
      "source": [
        "grid_2020=pd.read_csv('사용가능격자_2020.csv')\n",
        "grid_2021=pd.read_csv('사용가능격자_2021.csv')\n",
        "grid = gpd.read_file(\"5.김해시_격자(100X100).geojson\")\n",
        "bell_data=pd.read_csv('7.김해시_안전비상벨설치현황.csv')"
      ]
    },
    {
      "cell_type": "code",
      "execution_count": null,
      "id": "bridal-rider",
      "metadata": {
        "id": "bridal-rider"
      },
      "outputs": [],
      "source": [
        "grid_2020_join = pd.merge(grid, grid_2020, left_on='gid', right_on='gid', how='inner')\n",
        "grid_2021_join = pd.merge(grid, grid_2021, left_on='gid', right_on='gid', how='inner')"
      ]
    },
    {
      "cell_type": "code",
      "execution_count": null,
      "id": "purple-novelty",
      "metadata": {
        "id": "purple-novelty"
      },
      "outputs": [],
      "source": [
        "points= []\n",
        "for i in range(len(bell_data)):\n",
        "    x=bell_data['lon'][i]\n",
        "    y=bell_data['lat'][i]\n",
        "    points.append(Point(x,y))\n",
        "\n",
        "bell_data['point'] = points"
      ]
    },
    {
      "cell_type": "code",
      "execution_count": null,
      "id": "flexible-alloy",
      "metadata": {
        "id": "flexible-alloy"
      },
      "outputs": [],
      "source": [
        "gid = []\n",
        "check = []\n",
        "for index, row in bell_data.iterrows():\n",
        "    flag = 0\n",
        "    for INDEX, ROW in grid_2020_join.iterrows():\n",
        "        if row['point'].within(ROW['geometry']):\n",
        "            gid.append(ROW['gid'])\n",
        "            flag = 1\n",
        "            break\n",
        "    if flag == 0:\n",
        "        gid.append(-1)\n",
        "    if index%100 == 0:\n",
        "        print(index)\n",
        "\n",
        "bell_data['gid']=gid"
      ]
    },
    {
      "cell_type": "code",
      "execution_count": null,
      "id": "unusual-accessory",
      "metadata": {
        "id": "unusual-accessory"
      },
      "outputs": [],
      "source": [
        "bell20=bell_data[bell_data['bell_set_yr']!=2021]"
      ]
    },
    {
      "cell_type": "code",
      "execution_count": null,
      "id": "administrative-bidding",
      "metadata": {
        "id": "administrative-bidding"
      },
      "outputs": [],
      "source": [
        "bell_data=pd.read_csv('7.김해시_안전비상벨설치현황.csv')\n",
        "points= []\n",
        "for i in range(len(bell_data)):\n",
        "    x=bell_data['lon'][i]\n",
        "    y=bell_data['lat'][i]\n",
        "    points.append(Point(x,y))\n",
        "bell_data['point'] = points\n"
      ]
    },
    {
      "cell_type": "code",
      "execution_count": null,
      "id": "combined-station",
      "metadata": {
        "id": "combined-station"
      },
      "outputs": [],
      "source": [
        "gid = []\n",
        "check = []\n",
        "for index, row in bell_data.iterrows():\n",
        "    flag = 0\n",
        "    for INDEX, ROW in grid_2021_join.iterrows():\n",
        "        if row['point'].within(ROW['geometry']):\n",
        "            gid.append(ROW['gid'])\n",
        "            flag = 1\n",
        "            break\n",
        "    if flag == 0:\n",
        "        gid.append(-1)\n",
        "    if index%100 == 0:\n",
        "        print(index)"
      ]
    },
    {
      "cell_type": "code",
      "execution_count": null,
      "id": "persistent-madonna",
      "metadata": {
        "id": "persistent-madonna"
      },
      "outputs": [],
      "source": [
        "bell_data['gid']=gid\n",
        "bell21=bell_data"
      ]
    },
    {
      "cell_type": "code",
      "execution_count": null,
      "id": "comparative-trust",
      "metadata": {
        "id": "comparative-trust"
      },
      "outputs": [],
      "source": [
        "bell2020=bell20[bell20['gid']!=-1]\n",
        "bell2021=bell21[bell21['gid']!=-1]\n",
        "\n",
        "light20=pd.read_csv('light20.csv')\n",
        "light21=pd.read_csv('light21.csv')\n",
        "\n",
        "light2020=light20[light20['gid']!='-1']\n",
        "light2021=light21[light21['gid']!='-1']\n",
        "\n",
        "light2020_count = light2020['gid'].value_counts().rename_axis('gid').reset_index(name='counts')\n",
        "bell2020_count = bell2020['gid'].value_counts().rename_axis('gid').reset_index(name='counts')\n",
        "\n",
        "light2021_count = light2021['gid'].value_counts().rename_axis('gid').reset_index(name='counts')\n",
        "bell2021_count = bell2021['gid'].value_counts().rename_axis('gid').reset_index(name='counts')"
      ]
    },
    {
      "cell_type": "code",
      "execution_count": null,
      "id": "foreign-membrane",
      "metadata": {
        "id": "foreign-membrane",
        "outputId": "8a1ad10d-c752-47dc-e583-68ea55f7e238"
      },
      "outputs": [
        {
          "name": "stdout",
          "output_type": "stream",
          "text": [
            "4228\n",
            "4237\n"
          ]
        }
      ],
      "source": [
        "print(len(light2020))\n",
        "print(len(light2021))"
      ]
    },
    {
      "cell_type": "code",
      "execution_count": null,
      "id": "trained-surge",
      "metadata": {
        "id": "trained-surge"
      },
      "outputs": [],
      "source": [
        "rep_2020 = pd.merge(light2020_count, bell2020_count, left_on='gid', right_on='gid', how='outer')\n",
        "rep_2020=rep_2020.fillna(0)\n",
        "rep_2020['count']=rep_2020['counts_x']+rep_2020['counts_y']\n",
        "\n",
        "rep_2020_final = pd.merge(grid_2020, rep_2020, left_on='gid', right_on='gid', how='outer')\n",
        "\n",
        "rep_2020_final=rep_2020_final.fillna(0)\n",
        "\n",
        "rep_2020_final=rep_2020_final.drop(['Unnamed: 0','level_0','counts_x','counts_y'],axis=1)\n",
        "\n",
        "rep_2020_final['count'].sum()\n",
        "\n",
        "rep_2020_final['score']=1-rep_2020_final['count']/4356.0"
      ]
    },
    {
      "cell_type": "code",
      "execution_count": null,
      "id": "necessary-there",
      "metadata": {
        "id": "necessary-there"
      },
      "outputs": [],
      "source": [
        "from sklearn.preprocessing import MinMaxScaler\n",
        "scaler_ = MinMaxScaler()\n",
        "scaler_.fit(rep_2020_final[['score']])\n",
        "scale = scaler_.transform(rep_2020_final[['score']]) * 100\n",
        "df2=pd.DataFrame(scale, columns=['대체감시취약지수'])\n",
        "\n",
        "final_2020 = pd.concat([rep_2020_final, df2], axis = 1)\n",
        "final_2020 = final_2020[['gid','대체감시취약지수']]"
      ]
    },
    {
      "cell_type": "code",
      "execution_count": null,
      "id": "wooden-house",
      "metadata": {
        "id": "wooden-house"
      },
      "outputs": [],
      "source": [
        "rep_2021 = pd.merge(light2021_count, bell2021_count, left_on='gid', right_on='gid', how='outer')\n",
        "rep_2021=rep_2021.fillna(0)\n",
        "rep_2021['count']=rep_2021['counts_x']+rep_2021['counts_y']\n",
        "rep_2021_final = pd.merge(grid_2021, rep_2021, left_on='gid', right_on='gid', how='outer')\n",
        "rep_2021_final=rep_2021_final.fillna(0)\n",
        "rep_2021_final=rep_2021_final.drop(['Unnamed: 0','level_0','counts_x','counts_y'],axis=1)\n",
        "\n",
        "rep_2021_final['count'].sum()\n",
        "\n",
        "rep_2021_final['score']=1-rep_2021_final['count']/4391.0"
      ]
    },
    {
      "cell_type": "code",
      "execution_count": null,
      "id": "israeli-suggestion",
      "metadata": {
        "id": "israeli-suggestion"
      },
      "outputs": [],
      "source": [
        "from sklearn.preprocessing import MinMaxScaler\n",
        "scaler_ = MinMaxScaler()\n",
        "scaler_.fit(rep_2021_final[['score']])\n",
        "scale = scaler_.transform(rep_2021_final[['score']]) * 100\n",
        "df3=pd.DataFrame(scale, columns=['대체감시취약지수'])\n",
        "final_2021 = pd.concat([rep_2021_final, df3], axis = 1)\n",
        "final_2021 = final_2021[['gid','대체감시취약지수']]"
      ]
    },
    {
      "cell_type": "code",
      "execution_count": null,
      "id": "athletic-affair",
      "metadata": {
        "id": "athletic-affair"
      },
      "outputs": [],
      "source": [
        "train_data = pd.merge(train_data, final_2020)\n",
        "test_data = pd.merge(test_data,final_2021)"
      ]
    },
    {
      "cell_type": "code",
      "execution_count": null,
      "id": "developed-questionnaire",
      "metadata": {
        "id": "developed-questionnaire"
      },
      "outputs": [],
      "source": [
        "train_data = pd.merge(train_data,감시취약_train)\n",
        "train_data = pd.merge(train_data, 부양인구[['gid','2020_부양인구지수']])\n",
        "train_data = pd.merge(train_data, 외국인지수[['gid','2020_외국인위험지수']])\n",
        "train_data = pd.merge(train_data, 유동인구지수)\n",
        "train_data = pd.merge(train_data, 공적감시_train)\n",
        "train_data = pd.merge(train_data, 풍속업소지수_train)\n",
        "\n",
        "test_data = pd.merge(test_data,감시취약_test)\n",
        "test_data = pd.merge(test_data, 부양인구[['gid','2021_부양인구지수']])\n",
        "test_data = pd.merge(test_data, 외국인지수[['gid','2021_외국인위험지수']])\n",
        "test_data = pd.merge(test_data, 유동인구지수)\n",
        "test_data = pd.merge(test_data, 공적감시_test)\n",
        "test_data = pd.merge(test_data, 풍속업소지수_test)"
      ]
    },
    {
      "cell_type": "markdown",
      "id": "fuzzy-average",
      "metadata": {
        "id": "fuzzy-average"
      },
      "source": [
        "### train, test set 저장"
      ]
    },
    {
      "cell_type": "code",
      "execution_count": null,
      "id": "vocal-dakota",
      "metadata": {
        "id": "vocal-dakota"
      },
      "outputs": [],
      "source": [
        "train_data.to_csv(\"train.csv\", index=False)\n",
        "test_data.to_csv(\"test.csv\", index=False)"
      ]
    },
    {
      "cell_type": "markdown",
      "id": "reliable-stand",
      "metadata": {
        "id": "reliable-stand"
      },
      "source": [
        "## 피쳐중요도 계산"
      ]
    },
    {
      "cell_type": "code",
      "execution_count": null,
      "id": "accepting-waterproof",
      "metadata": {
        "id": "accepting-waterproof"
      },
      "outputs": [],
      "source": [
        "import pandas as pd\n",
        "\n",
        "train = pd.read_csv('train.csv')\n",
        "test = pd.read_csv(\"test.csv\")"
      ]
    },
    {
      "cell_type": "markdown",
      "id": "paperback-block",
      "metadata": {
        "id": "paperback-block"
      },
      "source": [
        "7_building: 건물특성지수 / 8_child: 아동시설지수 / 2_crime: 범죄발생지수 / 1_cctv_security: 감시취약지수 / 5_dep_pop:부양인구지수\n",
        "6_foreign: 외국인위험지수 / 4_foot_traffic: 유동인구지수 / 9_public_security: 공적감시취약지수 / 3_place : 풍속업소지수/ 10_sub_security : 대체감시취약지수"
      ]
    },
    {
      "cell_type": "code",
      "execution_count": null,
      "id": "apart-rental",
      "metadata": {
        "id": "apart-rental"
      },
      "outputs": [],
      "source": [
        "train.columns = ['gid','7_building','8_child','2_crime_last','crime_now','1_cctvsight', '5_dep_pop','6_foreign','4_foot_traffic','9_public_security','3_place','10_sub_security']\n",
        "test.columns =  ['gid','7_building','8_child','2_crime_last','crime_now','1_cctvsight', '5_dep_pop','6_foreign','4_foot_traffic','9_public_security','3_place','10_sub_security']"
      ]
    },
    {
      "cell_type": "markdown",
      "id": "satellite-martial",
      "metadata": {
        "id": "satellite-martial"
      },
      "source": [
        "### automl 1"
      ]
    },
    {
      "cell_type": "code",
      "execution_count": null,
      "id": "transsexual-small",
      "metadata": {
        "id": "transsexual-small"
      },
      "outputs": [],
      "source": [
        "from pycaret.regression import *"
      ]
    },
    {
      "cell_type": "code",
      "execution_count": null,
      "id": "recorded-cosmetic",
      "metadata": {
        "id": "recorded-cosmetic"
      },
      "outputs": [],
      "source": [
        "model = setup(data = train.drop(['gid'], axis=1), target = 'crime_now', \n",
        "              fold_shuffle=True,\n",
        "              fold= 10, \n",
        "              session_id=123,\n",
        "              remove_multicollinearity = True,\n",
        "              normalize= True,\n",
        "              n_jobs = -1,\n",
        "              silent = True,\n",
        "              combine_rare_levels = True) "
      ]
    },
    {
      "cell_type": "code",
      "execution_count": null,
      "id": "integral-bibliography",
      "metadata": {
        "id": "integral-bibliography",
        "outputId": "0d746380-1fee-4bfe-8f53-1a882f92cfdc"
      },
      "outputs": [
        {
          "data": {
            "text/html": [
              "<style  type=\"text/css\" >\n",
              "    #T_9309317a_1d7e_11ed_a67a_0a580a83032b th {\n",
              "          text-align: left;\n",
              "    }#T_9309317a_1d7e_11ed_a67a_0a580a83032brow0_col0,#T_9309317a_1d7e_11ed_a67a_0a580a83032brow0_col1,#T_9309317a_1d7e_11ed_a67a_0a580a83032brow0_col5,#T_9309317a_1d7e_11ed_a67a_0a580a83032brow0_col6,#T_9309317a_1d7e_11ed_a67a_0a580a83032brow1_col0,#T_9309317a_1d7e_11ed_a67a_0a580a83032brow1_col2,#T_9309317a_1d7e_11ed_a67a_0a580a83032brow1_col3,#T_9309317a_1d7e_11ed_a67a_0a580a83032brow1_col4,#T_9309317a_1d7e_11ed_a67a_0a580a83032brow2_col0,#T_9309317a_1d7e_11ed_a67a_0a580a83032brow2_col1,#T_9309317a_1d7e_11ed_a67a_0a580a83032brow2_col2,#T_9309317a_1d7e_11ed_a67a_0a580a83032brow2_col3,#T_9309317a_1d7e_11ed_a67a_0a580a83032brow2_col4,#T_9309317a_1d7e_11ed_a67a_0a580a83032brow2_col5,#T_9309317a_1d7e_11ed_a67a_0a580a83032brow2_col6,#T_9309317a_1d7e_11ed_a67a_0a580a83032brow3_col0,#T_9309317a_1d7e_11ed_a67a_0a580a83032brow3_col1,#T_9309317a_1d7e_11ed_a67a_0a580a83032brow3_col2,#T_9309317a_1d7e_11ed_a67a_0a580a83032brow3_col3,#T_9309317a_1d7e_11ed_a67a_0a580a83032brow3_col4,#T_9309317a_1d7e_11ed_a67a_0a580a83032brow3_col5,#T_9309317a_1d7e_11ed_a67a_0a580a83032brow3_col6,#T_9309317a_1d7e_11ed_a67a_0a580a83032brow4_col0,#T_9309317a_1d7e_11ed_a67a_0a580a83032brow4_col1,#T_9309317a_1d7e_11ed_a67a_0a580a83032brow4_col2,#T_9309317a_1d7e_11ed_a67a_0a580a83032brow4_col3,#T_9309317a_1d7e_11ed_a67a_0a580a83032brow4_col4,#T_9309317a_1d7e_11ed_a67a_0a580a83032brow4_col5,#T_9309317a_1d7e_11ed_a67a_0a580a83032brow4_col6,#T_9309317a_1d7e_11ed_a67a_0a580a83032brow5_col0,#T_9309317a_1d7e_11ed_a67a_0a580a83032brow5_col1,#T_9309317a_1d7e_11ed_a67a_0a580a83032brow5_col2,#T_9309317a_1d7e_11ed_a67a_0a580a83032brow5_col3,#T_9309317a_1d7e_11ed_a67a_0a580a83032brow5_col4,#T_9309317a_1d7e_11ed_a67a_0a580a83032brow5_col5,#T_9309317a_1d7e_11ed_a67a_0a580a83032brow5_col6,#T_9309317a_1d7e_11ed_a67a_0a580a83032brow6_col0,#T_9309317a_1d7e_11ed_a67a_0a580a83032brow6_col1,#T_9309317a_1d7e_11ed_a67a_0a580a83032brow6_col2,#T_9309317a_1d7e_11ed_a67a_0a580a83032brow6_col3,#T_9309317a_1d7e_11ed_a67a_0a580a83032brow6_col4,#T_9309317a_1d7e_11ed_a67a_0a580a83032brow6_col5,#T_9309317a_1d7e_11ed_a67a_0a580a83032brow6_col6,#T_9309317a_1d7e_11ed_a67a_0a580a83032brow7_col0,#T_9309317a_1d7e_11ed_a67a_0a580a83032brow7_col1,#T_9309317a_1d7e_11ed_a67a_0a580a83032brow7_col2,#T_9309317a_1d7e_11ed_a67a_0a580a83032brow7_col3,#T_9309317a_1d7e_11ed_a67a_0a580a83032brow7_col4,#T_9309317a_1d7e_11ed_a67a_0a580a83032brow7_col5,#T_9309317a_1d7e_11ed_a67a_0a580a83032brow7_col6,#T_9309317a_1d7e_11ed_a67a_0a580a83032brow8_col0,#T_9309317a_1d7e_11ed_a67a_0a580a83032brow8_col1,#T_9309317a_1d7e_11ed_a67a_0a580a83032brow8_col2,#T_9309317a_1d7e_11ed_a67a_0a580a83032brow8_col3,#T_9309317a_1d7e_11ed_a67a_0a580a83032brow8_col4,#T_9309317a_1d7e_11ed_a67a_0a580a83032brow8_col5,#T_9309317a_1d7e_11ed_a67a_0a580a83032brow8_col6,#T_9309317a_1d7e_11ed_a67a_0a580a83032brow9_col0,#T_9309317a_1d7e_11ed_a67a_0a580a83032brow9_col1,#T_9309317a_1d7e_11ed_a67a_0a580a83032brow9_col2,#T_9309317a_1d7e_11ed_a67a_0a580a83032brow9_col3,#T_9309317a_1d7e_11ed_a67a_0a580a83032brow9_col4,#T_9309317a_1d7e_11ed_a67a_0a580a83032brow9_col5,#T_9309317a_1d7e_11ed_a67a_0a580a83032brow9_col6,#T_9309317a_1d7e_11ed_a67a_0a580a83032brow10_col0,#T_9309317a_1d7e_11ed_a67a_0a580a83032brow10_col1,#T_9309317a_1d7e_11ed_a67a_0a580a83032brow10_col2,#T_9309317a_1d7e_11ed_a67a_0a580a83032brow10_col3,#T_9309317a_1d7e_11ed_a67a_0a580a83032brow10_col4,#T_9309317a_1d7e_11ed_a67a_0a580a83032brow10_col5,#T_9309317a_1d7e_11ed_a67a_0a580a83032brow10_col6,#T_9309317a_1d7e_11ed_a67a_0a580a83032brow11_col0,#T_9309317a_1d7e_11ed_a67a_0a580a83032brow11_col1,#T_9309317a_1d7e_11ed_a67a_0a580a83032brow11_col2,#T_9309317a_1d7e_11ed_a67a_0a580a83032brow11_col3,#T_9309317a_1d7e_11ed_a67a_0a580a83032brow11_col4,#T_9309317a_1d7e_11ed_a67a_0a580a83032brow11_col5,#T_9309317a_1d7e_11ed_a67a_0a580a83032brow11_col6,#T_9309317a_1d7e_11ed_a67a_0a580a83032brow12_col0,#T_9309317a_1d7e_11ed_a67a_0a580a83032brow12_col1,#T_9309317a_1d7e_11ed_a67a_0a580a83032brow12_col2,#T_9309317a_1d7e_11ed_a67a_0a580a83032brow12_col3,#T_9309317a_1d7e_11ed_a67a_0a580a83032brow12_col4,#T_9309317a_1d7e_11ed_a67a_0a580a83032brow12_col5,#T_9309317a_1d7e_11ed_a67a_0a580a83032brow12_col6,#T_9309317a_1d7e_11ed_a67a_0a580a83032brow13_col0,#T_9309317a_1d7e_11ed_a67a_0a580a83032brow13_col1,#T_9309317a_1d7e_11ed_a67a_0a580a83032brow13_col2,#T_9309317a_1d7e_11ed_a67a_0a580a83032brow13_col3,#T_9309317a_1d7e_11ed_a67a_0a580a83032brow13_col4,#T_9309317a_1d7e_11ed_a67a_0a580a83032brow13_col5,#T_9309317a_1d7e_11ed_a67a_0a580a83032brow13_col6,#T_9309317a_1d7e_11ed_a67a_0a580a83032brow14_col0,#T_9309317a_1d7e_11ed_a67a_0a580a83032brow14_col1,#T_9309317a_1d7e_11ed_a67a_0a580a83032brow14_col2,#T_9309317a_1d7e_11ed_a67a_0a580a83032brow14_col3,#T_9309317a_1d7e_11ed_a67a_0a580a83032brow14_col4,#T_9309317a_1d7e_11ed_a67a_0a580a83032brow14_col5,#T_9309317a_1d7e_11ed_a67a_0a580a83032brow14_col6,#T_9309317a_1d7e_11ed_a67a_0a580a83032brow15_col0,#T_9309317a_1d7e_11ed_a67a_0a580a83032brow15_col1,#T_9309317a_1d7e_11ed_a67a_0a580a83032brow15_col2,#T_9309317a_1d7e_11ed_a67a_0a580a83032brow15_col3,#T_9309317a_1d7e_11ed_a67a_0a580a83032brow15_col4,#T_9309317a_1d7e_11ed_a67a_0a580a83032brow15_col5,#T_9309317a_1d7e_11ed_a67a_0a580a83032brow15_col6,#T_9309317a_1d7e_11ed_a67a_0a580a83032brow16_col0,#T_9309317a_1d7e_11ed_a67a_0a580a83032brow16_col1,#T_9309317a_1d7e_11ed_a67a_0a580a83032brow16_col2,#T_9309317a_1d7e_11ed_a67a_0a580a83032brow16_col3,#T_9309317a_1d7e_11ed_a67a_0a580a83032brow16_col4,#T_9309317a_1d7e_11ed_a67a_0a580a83032brow16_col5,#T_9309317a_1d7e_11ed_a67a_0a580a83032brow16_col6,#T_9309317a_1d7e_11ed_a67a_0a580a83032brow17_col0,#T_9309317a_1d7e_11ed_a67a_0a580a83032brow17_col1,#T_9309317a_1d7e_11ed_a67a_0a580a83032brow17_col2,#T_9309317a_1d7e_11ed_a67a_0a580a83032brow17_col3,#T_9309317a_1d7e_11ed_a67a_0a580a83032brow17_col4,#T_9309317a_1d7e_11ed_a67a_0a580a83032brow17_col5,#T_9309317a_1d7e_11ed_a67a_0a580a83032brow17_col6,#T_9309317a_1d7e_11ed_a67a_0a580a83032brow18_col0,#T_9309317a_1d7e_11ed_a67a_0a580a83032brow18_col1,#T_9309317a_1d7e_11ed_a67a_0a580a83032brow18_col2,#T_9309317a_1d7e_11ed_a67a_0a580a83032brow18_col3,#T_9309317a_1d7e_11ed_a67a_0a580a83032brow18_col4,#T_9309317a_1d7e_11ed_a67a_0a580a83032brow18_col5,#T_9309317a_1d7e_11ed_a67a_0a580a83032brow18_col6{\n",
              "            text-align:  left;\n",
              "            text-align:  left;\n",
              "        }#T_9309317a_1d7e_11ed_a67a_0a580a83032brow0_col2,#T_9309317a_1d7e_11ed_a67a_0a580a83032brow0_col3,#T_9309317a_1d7e_11ed_a67a_0a580a83032brow0_col4,#T_9309317a_1d7e_11ed_a67a_0a580a83032brow1_col1,#T_9309317a_1d7e_11ed_a67a_0a580a83032brow1_col5,#T_9309317a_1d7e_11ed_a67a_0a580a83032brow1_col6{\n",
              "            text-align:  left;\n",
              "            text-align:  left;\n",
              "            background-color:  yellow;\n",
              "        }#T_9309317a_1d7e_11ed_a67a_0a580a83032brow0_col7{\n",
              "            text-align:  left;\n",
              "            text-align:  left;\n",
              "            background-color:  yellow;\n",
              "            background-color:  lightgrey;\n",
              "        }#T_9309317a_1d7e_11ed_a67a_0a580a83032brow1_col7,#T_9309317a_1d7e_11ed_a67a_0a580a83032brow2_col7,#T_9309317a_1d7e_11ed_a67a_0a580a83032brow3_col7,#T_9309317a_1d7e_11ed_a67a_0a580a83032brow4_col7,#T_9309317a_1d7e_11ed_a67a_0a580a83032brow5_col7,#T_9309317a_1d7e_11ed_a67a_0a580a83032brow6_col7,#T_9309317a_1d7e_11ed_a67a_0a580a83032brow7_col7,#T_9309317a_1d7e_11ed_a67a_0a580a83032brow8_col7,#T_9309317a_1d7e_11ed_a67a_0a580a83032brow9_col7,#T_9309317a_1d7e_11ed_a67a_0a580a83032brow10_col7,#T_9309317a_1d7e_11ed_a67a_0a580a83032brow11_col7,#T_9309317a_1d7e_11ed_a67a_0a580a83032brow12_col7,#T_9309317a_1d7e_11ed_a67a_0a580a83032brow13_col7,#T_9309317a_1d7e_11ed_a67a_0a580a83032brow14_col7,#T_9309317a_1d7e_11ed_a67a_0a580a83032brow15_col7,#T_9309317a_1d7e_11ed_a67a_0a580a83032brow16_col7,#T_9309317a_1d7e_11ed_a67a_0a580a83032brow17_col7,#T_9309317a_1d7e_11ed_a67a_0a580a83032brow18_col7{\n",
              "            text-align:  left;\n",
              "            text-align:  left;\n",
              "            background-color:  lightgrey;\n",
              "        }</style><table id=\"T_9309317a_1d7e_11ed_a67a_0a580a83032b\" ><thead>    <tr>        <th class=\"blank level0\" ></th>        <th class=\"col_heading level0 col0\" >Model</th>        <th class=\"col_heading level0 col1\" >MAE</th>        <th class=\"col_heading level0 col2\" >MSE</th>        <th class=\"col_heading level0 col3\" >RMSE</th>        <th class=\"col_heading level0 col4\" >R2</th>        <th class=\"col_heading level0 col5\" >RMSLE</th>        <th class=\"col_heading level0 col6\" >MAPE</th>        <th class=\"col_heading level0 col7\" >TT (Sec)</th>    </tr></thead><tbody>\n",
              "                <tr>\n",
              "                        <th id=\"T_9309317a_1d7e_11ed_a67a_0a580a83032blevel0_row0\" class=\"row_heading level0 row0\" >omp</th>\n",
              "                        <td id=\"T_9309317a_1d7e_11ed_a67a_0a580a83032brow0_col0\" class=\"data row0 col0\" >Orthogonal Matching Pursuit</td>\n",
              "                        <td id=\"T_9309317a_1d7e_11ed_a67a_0a580a83032brow0_col1\" class=\"data row0 col1\" >1.7100</td>\n",
              "                        <td id=\"T_9309317a_1d7e_11ed_a67a_0a580a83032brow0_col2\" class=\"data row0 col2\" >7.4556</td>\n",
              "                        <td id=\"T_9309317a_1d7e_11ed_a67a_0a580a83032brow0_col3\" class=\"data row0 col3\" >2.6854</td>\n",
              "                        <td id=\"T_9309317a_1d7e_11ed_a67a_0a580a83032brow0_col4\" class=\"data row0 col4\" >0.6093</td>\n",
              "                        <td id=\"T_9309317a_1d7e_11ed_a67a_0a580a83032brow0_col5\" class=\"data row0 col5\" >0.6271</td>\n",
              "                        <td id=\"T_9309317a_1d7e_11ed_a67a_0a580a83032brow0_col6\" class=\"data row0 col6\" >0.7591</td>\n",
              "                        <td id=\"T_9309317a_1d7e_11ed_a67a_0a580a83032brow0_col7\" class=\"data row0 col7\" >0.0080</td>\n",
              "            </tr>\n",
              "            <tr>\n",
              "                        <th id=\"T_9309317a_1d7e_11ed_a67a_0a580a83032blevel0_row1\" class=\"row_heading level0 row1\" >huber</th>\n",
              "                        <td id=\"T_9309317a_1d7e_11ed_a67a_0a580a83032brow1_col0\" class=\"data row1 col0\" >Huber Regressor</td>\n",
              "                        <td id=\"T_9309317a_1d7e_11ed_a67a_0a580a83032brow1_col1\" class=\"data row1 col1\" >1.6121</td>\n",
              "                        <td id=\"T_9309317a_1d7e_11ed_a67a_0a580a83032brow1_col2\" class=\"data row1 col2\" >7.6345</td>\n",
              "                        <td id=\"T_9309317a_1d7e_11ed_a67a_0a580a83032brow1_col3\" class=\"data row1 col3\" >2.6924</td>\n",
              "                        <td id=\"T_9309317a_1d7e_11ed_a67a_0a580a83032brow1_col4\" class=\"data row1 col4\" >0.6072</td>\n",
              "                        <td id=\"T_9309317a_1d7e_11ed_a67a_0a580a83032brow1_col5\" class=\"data row1 col5\" >0.5937</td>\n",
              "                        <td id=\"T_9309317a_1d7e_11ed_a67a_0a580a83032brow1_col6\" class=\"data row1 col6\" >0.6696</td>\n",
              "                        <td id=\"T_9309317a_1d7e_11ed_a67a_0a580a83032brow1_col7\" class=\"data row1 col7\" >0.0170</td>\n",
              "            </tr>\n",
              "            <tr>\n",
              "                        <th id=\"T_9309317a_1d7e_11ed_a67a_0a580a83032blevel0_row2\" class=\"row_heading level0 row2\" >lasso</th>\n",
              "                        <td id=\"T_9309317a_1d7e_11ed_a67a_0a580a83032brow2_col0\" class=\"data row2 col0\" >Lasso Regression</td>\n",
              "                        <td id=\"T_9309317a_1d7e_11ed_a67a_0a580a83032brow2_col1\" class=\"data row2 col1\" >1.7433</td>\n",
              "                        <td id=\"T_9309317a_1d7e_11ed_a67a_0a580a83032brow2_col2\" class=\"data row2 col2\" >8.8607</td>\n",
              "                        <td id=\"T_9309317a_1d7e_11ed_a67a_0a580a83032brow2_col3\" class=\"data row2 col3\" >2.8425</td>\n",
              "                        <td id=\"T_9309317a_1d7e_11ed_a67a_0a580a83032brow2_col4\" class=\"data row2 col4\" >0.5978</td>\n",
              "                        <td id=\"T_9309317a_1d7e_11ed_a67a_0a580a83032brow2_col5\" class=\"data row2 col5\" >0.6342</td>\n",
              "                        <td id=\"T_9309317a_1d7e_11ed_a67a_0a580a83032brow2_col6\" class=\"data row2 col6\" >0.7251</td>\n",
              "                        <td id=\"T_9309317a_1d7e_11ed_a67a_0a580a83032brow2_col7\" class=\"data row2 col7\" >0.0120</td>\n",
              "            </tr>\n",
              "            <tr>\n",
              "                        <th id=\"T_9309317a_1d7e_11ed_a67a_0a580a83032blevel0_row3\" class=\"row_heading level0 row3\" >br</th>\n",
              "                        <td id=\"T_9309317a_1d7e_11ed_a67a_0a580a83032brow3_col0\" class=\"data row3 col0\" >Bayesian Ridge</td>\n",
              "                        <td id=\"T_9309317a_1d7e_11ed_a67a_0a580a83032brow3_col1\" class=\"data row3 col1\" >1.7016</td>\n",
              "                        <td id=\"T_9309317a_1d7e_11ed_a67a_0a580a83032brow3_col2\" class=\"data row3 col2\" >7.5801</td>\n",
              "                        <td id=\"T_9309317a_1d7e_11ed_a67a_0a580a83032brow3_col3\" class=\"data row3 col3\" >2.7084</td>\n",
              "                        <td id=\"T_9309317a_1d7e_11ed_a67a_0a580a83032brow3_col4\" class=\"data row3 col4\" >0.5879</td>\n",
              "                        <td id=\"T_9309317a_1d7e_11ed_a67a_0a580a83032brow3_col5\" class=\"data row3 col5\" >0.6195</td>\n",
              "                        <td id=\"T_9309317a_1d7e_11ed_a67a_0a580a83032brow3_col6\" class=\"data row3 col6\" >0.7444</td>\n",
              "                        <td id=\"T_9309317a_1d7e_11ed_a67a_0a580a83032brow3_col7\" class=\"data row3 col7\" >0.0110</td>\n",
              "            </tr>\n",
              "            <tr>\n",
              "                        <th id=\"T_9309317a_1d7e_11ed_a67a_0a580a83032blevel0_row4\" class=\"row_heading level0 row4\" >ridge</th>\n",
              "                        <td id=\"T_9309317a_1d7e_11ed_a67a_0a580a83032brow4_col0\" class=\"data row4 col0\" >Ridge Regression</td>\n",
              "                        <td id=\"T_9309317a_1d7e_11ed_a67a_0a580a83032brow4_col1\" class=\"data row4 col1\" >1.7029</td>\n",
              "                        <td id=\"T_9309317a_1d7e_11ed_a67a_0a580a83032brow4_col2\" class=\"data row4 col2\" >7.5751</td>\n",
              "                        <td id=\"T_9309317a_1d7e_11ed_a67a_0a580a83032brow4_col3\" class=\"data row4 col3\" >2.7087</td>\n",
              "                        <td id=\"T_9309317a_1d7e_11ed_a67a_0a580a83032brow4_col4\" class=\"data row4 col4\" >0.5878</td>\n",
              "                        <td id=\"T_9309317a_1d7e_11ed_a67a_0a580a83032brow4_col5\" class=\"data row4 col5\" >0.6203</td>\n",
              "                        <td id=\"T_9309317a_1d7e_11ed_a67a_0a580a83032brow4_col6\" class=\"data row4 col6\" >0.7459</td>\n",
              "                        <td id=\"T_9309317a_1d7e_11ed_a67a_0a580a83032brow4_col7\" class=\"data row4 col7\" >0.0110</td>\n",
              "            </tr>\n",
              "            <tr>\n",
              "                        <th id=\"T_9309317a_1d7e_11ed_a67a_0a580a83032blevel0_row5\" class=\"row_heading level0 row5\" >lr</th>\n",
              "                        <td id=\"T_9309317a_1d7e_11ed_a67a_0a580a83032brow5_col0\" class=\"data row5 col0\" >Linear Regression</td>\n",
              "                        <td id=\"T_9309317a_1d7e_11ed_a67a_0a580a83032brow5_col1\" class=\"data row5 col1\" >1.7033</td>\n",
              "                        <td id=\"T_9309317a_1d7e_11ed_a67a_0a580a83032brow5_col2\" class=\"data row5 col2\" >7.5749</td>\n",
              "                        <td id=\"T_9309317a_1d7e_11ed_a67a_0a580a83032brow5_col3\" class=\"data row5 col3\" >2.7089</td>\n",
              "                        <td id=\"T_9309317a_1d7e_11ed_a67a_0a580a83032brow5_col4\" class=\"data row5 col4\" >0.5877</td>\n",
              "                        <td id=\"T_9309317a_1d7e_11ed_a67a_0a580a83032brow5_col5\" class=\"data row5 col5\" >0.6205</td>\n",
              "                        <td id=\"T_9309317a_1d7e_11ed_a67a_0a580a83032brow5_col6\" class=\"data row5 col6\" >0.7463</td>\n",
              "                        <td id=\"T_9309317a_1d7e_11ed_a67a_0a580a83032brow5_col7\" class=\"data row5 col7\" >0.0100</td>\n",
              "            </tr>\n",
              "            <tr>\n",
              "                        <th id=\"T_9309317a_1d7e_11ed_a67a_0a580a83032blevel0_row6\" class=\"row_heading level0 row6\" >lar</th>\n",
              "                        <td id=\"T_9309317a_1d7e_11ed_a67a_0a580a83032brow6_col0\" class=\"data row6 col0\" >Least Angle Regression</td>\n",
              "                        <td id=\"T_9309317a_1d7e_11ed_a67a_0a580a83032brow6_col1\" class=\"data row6 col1\" >1.7033</td>\n",
              "                        <td id=\"T_9309317a_1d7e_11ed_a67a_0a580a83032brow6_col2\" class=\"data row6 col2\" >7.5749</td>\n",
              "                        <td id=\"T_9309317a_1d7e_11ed_a67a_0a580a83032brow6_col3\" class=\"data row6 col3\" >2.7089</td>\n",
              "                        <td id=\"T_9309317a_1d7e_11ed_a67a_0a580a83032brow6_col4\" class=\"data row6 col4\" >0.5877</td>\n",
              "                        <td id=\"T_9309317a_1d7e_11ed_a67a_0a580a83032brow6_col5\" class=\"data row6 col5\" >0.6205</td>\n",
              "                        <td id=\"T_9309317a_1d7e_11ed_a67a_0a580a83032brow6_col6\" class=\"data row6 col6\" >0.7463</td>\n",
              "                        <td id=\"T_9309317a_1d7e_11ed_a67a_0a580a83032brow6_col7\" class=\"data row6 col7\" >0.0110</td>\n",
              "            </tr>\n",
              "            <tr>\n",
              "                        <th id=\"T_9309317a_1d7e_11ed_a67a_0a580a83032blevel0_row7\" class=\"row_heading level0 row7\" >gbr</th>\n",
              "                        <td id=\"T_9309317a_1d7e_11ed_a67a_0a580a83032brow7_col0\" class=\"data row7 col0\" >Gradient Boosting Regressor</td>\n",
              "                        <td id=\"T_9309317a_1d7e_11ed_a67a_0a580a83032brow7_col1\" class=\"data row7 col1\" >1.7537</td>\n",
              "                        <td id=\"T_9309317a_1d7e_11ed_a67a_0a580a83032brow7_col2\" class=\"data row7 col2\" >9.1368</td>\n",
              "                        <td id=\"T_9309317a_1d7e_11ed_a67a_0a580a83032brow7_col3\" class=\"data row7 col3\" >2.9444</td>\n",
              "                        <td id=\"T_9309317a_1d7e_11ed_a67a_0a580a83032brow7_col4\" class=\"data row7 col4\" >0.5599</td>\n",
              "                        <td id=\"T_9309317a_1d7e_11ed_a67a_0a580a83032brow7_col5\" class=\"data row7 col5\" >0.6067</td>\n",
              "                        <td id=\"T_9309317a_1d7e_11ed_a67a_0a580a83032brow7_col6\" class=\"data row7 col6\" >0.7334</td>\n",
              "                        <td id=\"T_9309317a_1d7e_11ed_a67a_0a580a83032brow7_col7\" class=\"data row7 col7\" >0.1830</td>\n",
              "            </tr>\n",
              "            <tr>\n",
              "                        <th id=\"T_9309317a_1d7e_11ed_a67a_0a580a83032blevel0_row8\" class=\"row_heading level0 row8\" >en</th>\n",
              "                        <td id=\"T_9309317a_1d7e_11ed_a67a_0a580a83032brow8_col0\" class=\"data row8 col0\" >Elastic Net</td>\n",
              "                        <td id=\"T_9309317a_1d7e_11ed_a67a_0a580a83032brow8_col1\" class=\"data row8 col1\" >1.8066</td>\n",
              "                        <td id=\"T_9309317a_1d7e_11ed_a67a_0a580a83032brow8_col2\" class=\"data row8 col2\" >10.1738</td>\n",
              "                        <td id=\"T_9309317a_1d7e_11ed_a67a_0a580a83032brow8_col3\" class=\"data row8 col3\" >3.0157</td>\n",
              "                        <td id=\"T_9309317a_1d7e_11ed_a67a_0a580a83032brow8_col4\" class=\"data row8 col4\" >0.5560</td>\n",
              "                        <td id=\"T_9309317a_1d7e_11ed_a67a_0a580a83032brow8_col5\" class=\"data row8 col5\" >0.6453</td>\n",
              "                        <td id=\"T_9309317a_1d7e_11ed_a67a_0a580a83032brow8_col6\" class=\"data row8 col6\" >0.7368</td>\n",
              "                        <td id=\"T_9309317a_1d7e_11ed_a67a_0a580a83032brow8_col7\" class=\"data row8 col7\" >0.0100</td>\n",
              "            </tr>\n",
              "            <tr>\n",
              "                        <th id=\"T_9309317a_1d7e_11ed_a67a_0a580a83032blevel0_row9\" class=\"row_heading level0 row9\" >rf</th>\n",
              "                        <td id=\"T_9309317a_1d7e_11ed_a67a_0a580a83032brow9_col0\" class=\"data row9 col0\" >Random Forest Regressor</td>\n",
              "                        <td id=\"T_9309317a_1d7e_11ed_a67a_0a580a83032brow9_col1\" class=\"data row9 col1\" >1.8250</td>\n",
              "                        <td id=\"T_9309317a_1d7e_11ed_a67a_0a580a83032brow9_col2\" class=\"data row9 col2\" >9.2030</td>\n",
              "                        <td id=\"T_9309317a_1d7e_11ed_a67a_0a580a83032brow9_col3\" class=\"data row9 col3\" >2.9638</td>\n",
              "                        <td id=\"T_9309317a_1d7e_11ed_a67a_0a580a83032brow9_col4\" class=\"data row9 col4\" >0.5452</td>\n",
              "                        <td id=\"T_9309317a_1d7e_11ed_a67a_0a580a83032brow9_col5\" class=\"data row9 col5\" >0.6383</td>\n",
              "                        <td id=\"T_9309317a_1d7e_11ed_a67a_0a580a83032brow9_col6\" class=\"data row9 col6\" >0.7622</td>\n",
              "                        <td id=\"T_9309317a_1d7e_11ed_a67a_0a580a83032brow9_col7\" class=\"data row9 col7\" >0.5290</td>\n",
              "            </tr>\n",
              "            <tr>\n",
              "                        <th id=\"T_9309317a_1d7e_11ed_a67a_0a580a83032blevel0_row10\" class=\"row_heading level0 row10\" >catboost</th>\n",
              "                        <td id=\"T_9309317a_1d7e_11ed_a67a_0a580a83032brow10_col0\" class=\"data row10 col0\" >CatBoost Regressor</td>\n",
              "                        <td id=\"T_9309317a_1d7e_11ed_a67a_0a580a83032brow10_col1\" class=\"data row10 col1\" >1.7973</td>\n",
              "                        <td id=\"T_9309317a_1d7e_11ed_a67a_0a580a83032brow10_col2\" class=\"data row10 col2\" >11.6766</td>\n",
              "                        <td id=\"T_9309317a_1d7e_11ed_a67a_0a580a83032brow10_col3\" class=\"data row10 col3\" >3.1404</td>\n",
              "                        <td id=\"T_9309317a_1d7e_11ed_a67a_0a580a83032brow10_col4\" class=\"data row10 col4\" >0.5442</td>\n",
              "                        <td id=\"T_9309317a_1d7e_11ed_a67a_0a580a83032brow10_col5\" class=\"data row10 col5\" >0.6310</td>\n",
              "                        <td id=\"T_9309317a_1d7e_11ed_a67a_0a580a83032brow10_col6\" class=\"data row10 col6\" >0.7697</td>\n",
              "                        <td id=\"T_9309317a_1d7e_11ed_a67a_0a580a83032brow10_col7\" class=\"data row10 col7\" >7.5600</td>\n",
              "            </tr>\n",
              "            <tr>\n",
              "                        <th id=\"T_9309317a_1d7e_11ed_a67a_0a580a83032blevel0_row11\" class=\"row_heading level0 row11\" >et</th>\n",
              "                        <td id=\"T_9309317a_1d7e_11ed_a67a_0a580a83032brow11_col0\" class=\"data row11 col0\" >Extra Trees Regressor</td>\n",
              "                        <td id=\"T_9309317a_1d7e_11ed_a67a_0a580a83032brow11_col1\" class=\"data row11 col1\" >1.8310</td>\n",
              "                        <td id=\"T_9309317a_1d7e_11ed_a67a_0a580a83032brow11_col2\" class=\"data row11 col2\" >9.5161</td>\n",
              "                        <td id=\"T_9309317a_1d7e_11ed_a67a_0a580a83032brow11_col3\" class=\"data row11 col3\" >3.0004</td>\n",
              "                        <td id=\"T_9309317a_1d7e_11ed_a67a_0a580a83032brow11_col4\" class=\"data row11 col4\" >0.5221</td>\n",
              "                        <td id=\"T_9309317a_1d7e_11ed_a67a_0a580a83032brow11_col5\" class=\"data row11 col5\" >0.6457</td>\n",
              "                        <td id=\"T_9309317a_1d7e_11ed_a67a_0a580a83032brow11_col6\" class=\"data row11 col6\" >0.7970</td>\n",
              "                        <td id=\"T_9309317a_1d7e_11ed_a67a_0a580a83032brow11_col7\" class=\"data row11 col7\" >0.3080</td>\n",
              "            </tr>\n",
              "            <tr>\n",
              "                        <th id=\"T_9309317a_1d7e_11ed_a67a_0a580a83032blevel0_row12\" class=\"row_heading level0 row12\" >xgboost</th>\n",
              "                        <td id=\"T_9309317a_1d7e_11ed_a67a_0a580a83032brow12_col0\" class=\"data row12 col0\" >Extreme Gradient Boosting</td>\n",
              "                        <td id=\"T_9309317a_1d7e_11ed_a67a_0a580a83032brow12_col1\" class=\"data row12 col1\" >1.8920</td>\n",
              "                        <td id=\"T_9309317a_1d7e_11ed_a67a_0a580a83032brow12_col2\" class=\"data row12 col2\" >10.0921</td>\n",
              "                        <td id=\"T_9309317a_1d7e_11ed_a67a_0a580a83032brow12_col3\" class=\"data row12 col3\" >3.1117</td>\n",
              "                        <td id=\"T_9309317a_1d7e_11ed_a67a_0a580a83032brow12_col4\" class=\"data row12 col4\" >0.5050</td>\n",
              "                        <td id=\"T_9309317a_1d7e_11ed_a67a_0a580a83032brow12_col5\" class=\"data row12 col5\" >0.6583</td>\n",
              "                        <td id=\"T_9309317a_1d7e_11ed_a67a_0a580a83032brow12_col6\" class=\"data row12 col6\" >0.8453</td>\n",
              "                        <td id=\"T_9309317a_1d7e_11ed_a67a_0a580a83032brow12_col7\" class=\"data row12 col7\" >0.4840</td>\n",
              "            </tr>\n",
              "            <tr>\n",
              "                        <th id=\"T_9309317a_1d7e_11ed_a67a_0a580a83032blevel0_row13\" class=\"row_heading level0 row13\" >knn</th>\n",
              "                        <td id=\"T_9309317a_1d7e_11ed_a67a_0a580a83032brow13_col0\" class=\"data row13 col0\" >K Neighbors Regressor</td>\n",
              "                        <td id=\"T_9309317a_1d7e_11ed_a67a_0a580a83032brow13_col1\" class=\"data row13 col1\" >1.8689</td>\n",
              "                        <td id=\"T_9309317a_1d7e_11ed_a67a_0a580a83032brow13_col2\" class=\"data row13 col2\" >10.5119</td>\n",
              "                        <td id=\"T_9309317a_1d7e_11ed_a67a_0a580a83032brow13_col3\" class=\"data row13 col3\" >3.1017</td>\n",
              "                        <td id=\"T_9309317a_1d7e_11ed_a67a_0a580a83032brow13_col4\" class=\"data row13 col4\" >0.4954</td>\n",
              "                        <td id=\"T_9309317a_1d7e_11ed_a67a_0a580a83032brow13_col5\" class=\"data row13 col5\" >0.6634</td>\n",
              "                        <td id=\"T_9309317a_1d7e_11ed_a67a_0a580a83032brow13_col6\" class=\"data row13 col6\" >0.7671</td>\n",
              "                        <td id=\"T_9309317a_1d7e_11ed_a67a_0a580a83032brow13_col7\" class=\"data row13 col7\" >0.0120</td>\n",
              "            </tr>\n",
              "            <tr>\n",
              "                        <th id=\"T_9309317a_1d7e_11ed_a67a_0a580a83032blevel0_row14\" class=\"row_heading level0 row14\" >lightgbm</th>\n",
              "                        <td id=\"T_9309317a_1d7e_11ed_a67a_0a580a83032brow14_col0\" class=\"data row14 col0\" >Light Gradient Boosting Machine</td>\n",
              "                        <td id=\"T_9309317a_1d7e_11ed_a67a_0a580a83032brow14_col1\" class=\"data row14 col1\" >2.0161</td>\n",
              "                        <td id=\"T_9309317a_1d7e_11ed_a67a_0a580a83032brow14_col2\" class=\"data row14 col2\" >15.5098</td>\n",
              "                        <td id=\"T_9309317a_1d7e_11ed_a67a_0a580a83032brow14_col3\" class=\"data row14 col3\" >3.6649</td>\n",
              "                        <td id=\"T_9309317a_1d7e_11ed_a67a_0a580a83032brow14_col4\" class=\"data row14 col4\" >0.3773</td>\n",
              "                        <td id=\"T_9309317a_1d7e_11ed_a67a_0a580a83032brow14_col5\" class=\"data row14 col5\" >0.6659</td>\n",
              "                        <td id=\"T_9309317a_1d7e_11ed_a67a_0a580a83032brow14_col6\" class=\"data row14 col6\" >0.8521</td>\n",
              "                        <td id=\"T_9309317a_1d7e_11ed_a67a_0a580a83032brow14_col7\" class=\"data row14 col7\" >0.1020</td>\n",
              "            </tr>\n",
              "            <tr>\n",
              "                        <th id=\"T_9309317a_1d7e_11ed_a67a_0a580a83032blevel0_row15\" class=\"row_heading level0 row15\" >ada</th>\n",
              "                        <td id=\"T_9309317a_1d7e_11ed_a67a_0a580a83032brow15_col0\" class=\"data row15 col0\" >AdaBoost Regressor</td>\n",
              "                        <td id=\"T_9309317a_1d7e_11ed_a67a_0a580a83032brow15_col1\" class=\"data row15 col1\" >2.6342</td>\n",
              "                        <td id=\"T_9309317a_1d7e_11ed_a67a_0a580a83032brow15_col2\" class=\"data row15 col2\" >12.5284</td>\n",
              "                        <td id=\"T_9309317a_1d7e_11ed_a67a_0a580a83032brow15_col3\" class=\"data row15 col3\" >3.4804</td>\n",
              "                        <td id=\"T_9309317a_1d7e_11ed_a67a_0a580a83032brow15_col4\" class=\"data row15 col4\" >0.3537</td>\n",
              "                        <td id=\"T_9309317a_1d7e_11ed_a67a_0a580a83032brow15_col5\" class=\"data row15 col5\" >0.9013</td>\n",
              "                        <td id=\"T_9309317a_1d7e_11ed_a67a_0a580a83032brow15_col6\" class=\"data row15 col6\" >1.4732</td>\n",
              "                        <td id=\"T_9309317a_1d7e_11ed_a67a_0a580a83032brow15_col7\" class=\"data row15 col7\" >0.1270</td>\n",
              "            </tr>\n",
              "            <tr>\n",
              "                        <th id=\"T_9309317a_1d7e_11ed_a67a_0a580a83032blevel0_row16\" class=\"row_heading level0 row16\" >par</th>\n",
              "                        <td id=\"T_9309317a_1d7e_11ed_a67a_0a580a83032brow16_col0\" class=\"data row16 col0\" >Passive Aggressive Regressor</td>\n",
              "                        <td id=\"T_9309317a_1d7e_11ed_a67a_0a580a83032brow16_col1\" class=\"data row16 col1\" >2.5618</td>\n",
              "                        <td id=\"T_9309317a_1d7e_11ed_a67a_0a580a83032brow16_col2\" class=\"data row16 col2\" >14.9012</td>\n",
              "                        <td id=\"T_9309317a_1d7e_11ed_a67a_0a580a83032brow16_col3\" class=\"data row16 col3\" >3.7830</td>\n",
              "                        <td id=\"T_9309317a_1d7e_11ed_a67a_0a580a83032brow16_col4\" class=\"data row16 col4\" >0.0895</td>\n",
              "                        <td id=\"T_9309317a_1d7e_11ed_a67a_0a580a83032brow16_col5\" class=\"data row16 col5\" >0.8224</td>\n",
              "                        <td id=\"T_9309317a_1d7e_11ed_a67a_0a580a83032brow16_col6\" class=\"data row16 col6\" >1.2678</td>\n",
              "                        <td id=\"T_9309317a_1d7e_11ed_a67a_0a580a83032brow16_col7\" class=\"data row16 col7\" >0.0110</td>\n",
              "            </tr>\n",
              "            <tr>\n",
              "                        <th id=\"T_9309317a_1d7e_11ed_a67a_0a580a83032blevel0_row17\" class=\"row_heading level0 row17\" >llar</th>\n",
              "                        <td id=\"T_9309317a_1d7e_11ed_a67a_0a580a83032brow17_col0\" class=\"data row17 col0\" >Lasso Least Angle Regression</td>\n",
              "                        <td id=\"T_9309317a_1d7e_11ed_a67a_0a580a83032brow17_col1\" class=\"data row17 col1\" >2.6363</td>\n",
              "                        <td id=\"T_9309317a_1d7e_11ed_a67a_0a580a83032brow17_col2\" class=\"data row17 col2\" >26.1770</td>\n",
              "                        <td id=\"T_9309317a_1d7e_11ed_a67a_0a580a83032brow17_col3\" class=\"data row17 col3\" >4.7764</td>\n",
              "                        <td id=\"T_9309317a_1d7e_11ed_a67a_0a580a83032brow17_col4\" class=\"data row17 col4\" >-0.0048</td>\n",
              "                        <td id=\"T_9309317a_1d7e_11ed_a67a_0a580a83032brow17_col5\" class=\"data row17 col5\" >0.8666</td>\n",
              "                        <td id=\"T_9309317a_1d7e_11ed_a67a_0a580a83032brow17_col6\" class=\"data row17 col6\" >1.0837</td>\n",
              "                        <td id=\"T_9309317a_1d7e_11ed_a67a_0a580a83032brow17_col7\" class=\"data row17 col7\" >0.0120</td>\n",
              "            </tr>\n",
              "            <tr>\n",
              "                        <th id=\"T_9309317a_1d7e_11ed_a67a_0a580a83032blevel0_row18\" class=\"row_heading level0 row18\" >dt</th>\n",
              "                        <td id=\"T_9309317a_1d7e_11ed_a67a_0a580a83032brow18_col0\" class=\"data row18 col0\" >Decision Tree Regressor</td>\n",
              "                        <td id=\"T_9309317a_1d7e_11ed_a67a_0a580a83032brow18_col1\" class=\"data row18 col1\" >2.4417</td>\n",
              "                        <td id=\"T_9309317a_1d7e_11ed_a67a_0a580a83032brow18_col2\" class=\"data row18 col2\" >20.7497</td>\n",
              "                        <td id=\"T_9309317a_1d7e_11ed_a67a_0a580a83032brow18_col3\" class=\"data row18 col3\" >4.3898</td>\n",
              "                        <td id=\"T_9309317a_1d7e_11ed_a67a_0a580a83032brow18_col4\" class=\"data row18 col4\" >-0.0093</td>\n",
              "                        <td id=\"T_9309317a_1d7e_11ed_a67a_0a580a83032brow18_col5\" class=\"data row18 col5\" >0.8166</td>\n",
              "                        <td id=\"T_9309317a_1d7e_11ed_a67a_0a580a83032brow18_col6\" class=\"data row18 col6\" >1.0016</td>\n",
              "                        <td id=\"T_9309317a_1d7e_11ed_a67a_0a580a83032brow18_col7\" class=\"data row18 col7\" >0.0150</td>\n",
              "            </tr>\n",
              "    </tbody></table>"
            ],
            "text/plain": [
              "<pandas.io.formats.style.Styler at 0x7f0ec6cac2e8>"
            ]
          },
          "metadata": {},
          "output_type": "display_data"
        }
      ],
      "source": [
        "best = compare_models(exclude = ['ransac'])"
      ]
    },
    {
      "cell_type": "code",
      "execution_count": null,
      "id": "remarkable-spouse",
      "metadata": {
        "id": "remarkable-spouse",
        "outputId": "617cadcc-8e19-43d7-9ff5-6366187bbbf3"
      },
      "outputs": [
        {
          "data": {
            "text/html": [
              "<style  type=\"text/css\" >\n",
              "#T_b984f622_1d7e_11ed_a67a_0a580a83032brow10_col0,#T_b984f622_1d7e_11ed_a67a_0a580a83032brow10_col1,#T_b984f622_1d7e_11ed_a67a_0a580a83032brow10_col2,#T_b984f622_1d7e_11ed_a67a_0a580a83032brow10_col3,#T_b984f622_1d7e_11ed_a67a_0a580a83032brow10_col4,#T_b984f622_1d7e_11ed_a67a_0a580a83032brow10_col5{\n",
              "            background:  yellow;\n",
              "        }</style><table id=\"T_b984f622_1d7e_11ed_a67a_0a580a83032b\" ><thead>    <tr>        <th class=\"blank level0\" ></th>        <th class=\"col_heading level0 col0\" >MAE</th>        <th class=\"col_heading level0 col1\" >MSE</th>        <th class=\"col_heading level0 col2\" >RMSE</th>        <th class=\"col_heading level0 col3\" >R2</th>        <th class=\"col_heading level0 col4\" >RMSLE</th>        <th class=\"col_heading level0 col5\" >MAPE</th>    </tr></thead><tbody>\n",
              "                <tr>\n",
              "                        <th id=\"T_b984f622_1d7e_11ed_a67a_0a580a83032blevel0_row0\" class=\"row_heading level0 row0\" >0</th>\n",
              "                        <td id=\"T_b984f622_1d7e_11ed_a67a_0a580a83032brow0_col0\" class=\"data row0 col0\" >1.6131</td>\n",
              "                        <td id=\"T_b984f622_1d7e_11ed_a67a_0a580a83032brow0_col1\" class=\"data row0 col1\" >5.2621</td>\n",
              "                        <td id=\"T_b984f622_1d7e_11ed_a67a_0a580a83032brow0_col2\" class=\"data row0 col2\" >2.2939</td>\n",
              "                        <td id=\"T_b984f622_1d7e_11ed_a67a_0a580a83032brow0_col3\" class=\"data row0 col3\" >0.1936</td>\n",
              "                        <td id=\"T_b984f622_1d7e_11ed_a67a_0a580a83032brow0_col4\" class=\"data row0 col4\" >0.6135</td>\n",
              "                        <td id=\"T_b984f622_1d7e_11ed_a67a_0a580a83032brow0_col5\" class=\"data row0 col5\" >0.7601</td>\n",
              "            </tr>\n",
              "            <tr>\n",
              "                        <th id=\"T_b984f622_1d7e_11ed_a67a_0a580a83032blevel0_row1\" class=\"row_heading level0 row1\" >1</th>\n",
              "                        <td id=\"T_b984f622_1d7e_11ed_a67a_0a580a83032brow1_col0\" class=\"data row1 col0\" >1.6718</td>\n",
              "                        <td id=\"T_b984f622_1d7e_11ed_a67a_0a580a83032brow1_col1\" class=\"data row1 col1\" >5.7643</td>\n",
              "                        <td id=\"T_b984f622_1d7e_11ed_a67a_0a580a83032brow1_col2\" class=\"data row1 col2\" >2.4009</td>\n",
              "                        <td id=\"T_b984f622_1d7e_11ed_a67a_0a580a83032brow1_col3\" class=\"data row1 col3\" >0.6943</td>\n",
              "                        <td id=\"T_b984f622_1d7e_11ed_a67a_0a580a83032brow1_col4\" class=\"data row1 col4\" >0.6360</td>\n",
              "                        <td id=\"T_b984f622_1d7e_11ed_a67a_0a580a83032brow1_col5\" class=\"data row1 col5\" >0.7384</td>\n",
              "            </tr>\n",
              "            <tr>\n",
              "                        <th id=\"T_b984f622_1d7e_11ed_a67a_0a580a83032blevel0_row2\" class=\"row_heading level0 row2\" >2</th>\n",
              "                        <td id=\"T_b984f622_1d7e_11ed_a67a_0a580a83032brow2_col0\" class=\"data row2 col0\" >1.5500</td>\n",
              "                        <td id=\"T_b984f622_1d7e_11ed_a67a_0a580a83032brow2_col1\" class=\"data row2 col1\" >5.0257</td>\n",
              "                        <td id=\"T_b984f622_1d7e_11ed_a67a_0a580a83032brow2_col2\" class=\"data row2 col2\" >2.2418</td>\n",
              "                        <td id=\"T_b984f622_1d7e_11ed_a67a_0a580a83032brow2_col3\" class=\"data row2 col3\" >0.8301</td>\n",
              "                        <td id=\"T_b984f622_1d7e_11ed_a67a_0a580a83032brow2_col4\" class=\"data row2 col4\" >0.5747</td>\n",
              "                        <td id=\"T_b984f622_1d7e_11ed_a67a_0a580a83032brow2_col5\" class=\"data row2 col5\" >0.7440</td>\n",
              "            </tr>\n",
              "            <tr>\n",
              "                        <th id=\"T_b984f622_1d7e_11ed_a67a_0a580a83032blevel0_row3\" class=\"row_heading level0 row3\" >3</th>\n",
              "                        <td id=\"T_b984f622_1d7e_11ed_a67a_0a580a83032brow3_col0\" class=\"data row3 col0\" >1.4052</td>\n",
              "                        <td id=\"T_b984f622_1d7e_11ed_a67a_0a580a83032brow3_col1\" class=\"data row3 col1\" >4.2953</td>\n",
              "                        <td id=\"T_b984f622_1d7e_11ed_a67a_0a580a83032brow3_col2\" class=\"data row3 col2\" >2.0725</td>\n",
              "                        <td id=\"T_b984f622_1d7e_11ed_a67a_0a580a83032brow3_col3\" class=\"data row3 col3\" >0.4015</td>\n",
              "                        <td id=\"T_b984f622_1d7e_11ed_a67a_0a580a83032brow3_col4\" class=\"data row3 col4\" >0.5871</td>\n",
              "                        <td id=\"T_b984f622_1d7e_11ed_a67a_0a580a83032brow3_col5\" class=\"data row3 col5\" >0.6125</td>\n",
              "            </tr>\n",
              "            <tr>\n",
              "                        <th id=\"T_b984f622_1d7e_11ed_a67a_0a580a83032blevel0_row4\" class=\"row_heading level0 row4\" >4</th>\n",
              "                        <td id=\"T_b984f622_1d7e_11ed_a67a_0a580a83032brow4_col0\" class=\"data row4 col0\" >1.6609</td>\n",
              "                        <td id=\"T_b984f622_1d7e_11ed_a67a_0a580a83032brow4_col1\" class=\"data row4 col1\" >5.4300</td>\n",
              "                        <td id=\"T_b984f622_1d7e_11ed_a67a_0a580a83032brow4_col2\" class=\"data row4 col2\" >2.3302</td>\n",
              "                        <td id=\"T_b984f622_1d7e_11ed_a67a_0a580a83032brow4_col3\" class=\"data row4 col3\" >0.7168</td>\n",
              "                        <td id=\"T_b984f622_1d7e_11ed_a67a_0a580a83032brow4_col4\" class=\"data row4 col4\" >0.6058</td>\n",
              "                        <td id=\"T_b984f622_1d7e_11ed_a67a_0a580a83032brow4_col5\" class=\"data row4 col5\" >0.6017</td>\n",
              "            </tr>\n",
              "            <tr>\n",
              "                        <th id=\"T_b984f622_1d7e_11ed_a67a_0a580a83032blevel0_row5\" class=\"row_heading level0 row5\" >5</th>\n",
              "                        <td id=\"T_b984f622_1d7e_11ed_a67a_0a580a83032brow5_col0\" class=\"data row5 col0\" >1.8721</td>\n",
              "                        <td id=\"T_b984f622_1d7e_11ed_a67a_0a580a83032brow5_col1\" class=\"data row5 col1\" >11.9362</td>\n",
              "                        <td id=\"T_b984f622_1d7e_11ed_a67a_0a580a83032brow5_col2\" class=\"data row5 col2\" >3.4549</td>\n",
              "                        <td id=\"T_b984f622_1d7e_11ed_a67a_0a580a83032brow5_col3\" class=\"data row5 col3\" >0.4811</td>\n",
              "                        <td id=\"T_b984f622_1d7e_11ed_a67a_0a580a83032brow5_col4\" class=\"data row5 col4\" >0.6409</td>\n",
              "                        <td id=\"T_b984f622_1d7e_11ed_a67a_0a580a83032brow5_col5\" class=\"data row5 col5\" >0.6710</td>\n",
              "            </tr>\n",
              "            <tr>\n",
              "                        <th id=\"T_b984f622_1d7e_11ed_a67a_0a580a83032blevel0_row6\" class=\"row_heading level0 row6\" >6</th>\n",
              "                        <td id=\"T_b984f622_1d7e_11ed_a67a_0a580a83032brow6_col0\" class=\"data row6 col0\" >1.3663</td>\n",
              "                        <td id=\"T_b984f622_1d7e_11ed_a67a_0a580a83032brow6_col1\" class=\"data row6 col1\" >11.9331</td>\n",
              "                        <td id=\"T_b984f622_1d7e_11ed_a67a_0a580a83032brow6_col2\" class=\"data row6 col2\" >3.4544</td>\n",
              "                        <td id=\"T_b984f622_1d7e_11ed_a67a_0a580a83032brow6_col3\" class=\"data row6 col3\" >0.7537</td>\n",
              "                        <td id=\"T_b984f622_1d7e_11ed_a67a_0a580a83032brow6_col4\" class=\"data row6 col4\" >0.4629</td>\n",
              "                        <td id=\"T_b984f622_1d7e_11ed_a67a_0a580a83032brow6_col5\" class=\"data row6 col5\" >0.5534</td>\n",
              "            </tr>\n",
              "            <tr>\n",
              "                        <th id=\"T_b984f622_1d7e_11ed_a67a_0a580a83032blevel0_row7\" class=\"row_heading level0 row7\" >7</th>\n",
              "                        <td id=\"T_b984f622_1d7e_11ed_a67a_0a580a83032brow7_col0\" class=\"data row7 col0\" >1.5954</td>\n",
              "                        <td id=\"T_b984f622_1d7e_11ed_a67a_0a580a83032brow7_col1\" class=\"data row7 col1\" >6.3287</td>\n",
              "                        <td id=\"T_b984f622_1d7e_11ed_a67a_0a580a83032brow7_col2\" class=\"data row7 col2\" >2.5157</td>\n",
              "                        <td id=\"T_b984f622_1d7e_11ed_a67a_0a580a83032brow7_col3\" class=\"data row7 col3\" >0.4902</td>\n",
              "                        <td id=\"T_b984f622_1d7e_11ed_a67a_0a580a83032brow7_col4\" class=\"data row7 col4\" >0.6175</td>\n",
              "                        <td id=\"T_b984f622_1d7e_11ed_a67a_0a580a83032brow7_col5\" class=\"data row7 col5\" >0.7337</td>\n",
              "            </tr>\n",
              "            <tr>\n",
              "                        <th id=\"T_b984f622_1d7e_11ed_a67a_0a580a83032blevel0_row8\" class=\"row_heading level0 row8\" >8</th>\n",
              "                        <td id=\"T_b984f622_1d7e_11ed_a67a_0a580a83032brow8_col0\" class=\"data row8 col0\" >1.8913</td>\n",
              "                        <td id=\"T_b984f622_1d7e_11ed_a67a_0a580a83032brow8_col1\" class=\"data row8 col1\" >15.3367</td>\n",
              "                        <td id=\"T_b984f622_1d7e_11ed_a67a_0a580a83032brow8_col2\" class=\"data row8 col2\" >3.9162</td>\n",
              "                        <td id=\"T_b984f622_1d7e_11ed_a67a_0a580a83032brow8_col3\" class=\"data row8 col3\" >0.8050</td>\n",
              "                        <td id=\"T_b984f622_1d7e_11ed_a67a_0a580a83032brow8_col4\" class=\"data row8 col4\" >0.6022</td>\n",
              "                        <td id=\"T_b984f622_1d7e_11ed_a67a_0a580a83032brow8_col5\" class=\"data row8 col5\" >0.6521</td>\n",
              "            </tr>\n",
              "            <tr>\n",
              "                        <th id=\"T_b984f622_1d7e_11ed_a67a_0a580a83032blevel0_row9\" class=\"row_heading level0 row9\" >9</th>\n",
              "                        <td id=\"T_b984f622_1d7e_11ed_a67a_0a580a83032brow9_col0\" class=\"data row9 col0\" >1.4948</td>\n",
              "                        <td id=\"T_b984f622_1d7e_11ed_a67a_0a580a83032brow9_col1\" class=\"data row9 col1\" >5.0330</td>\n",
              "                        <td id=\"T_b984f622_1d7e_11ed_a67a_0a580a83032brow9_col2\" class=\"data row9 col2\" >2.2434</td>\n",
              "                        <td id=\"T_b984f622_1d7e_11ed_a67a_0a580a83032brow9_col3\" class=\"data row9 col3\" >0.7058</td>\n",
              "                        <td id=\"T_b984f622_1d7e_11ed_a67a_0a580a83032brow9_col4\" class=\"data row9 col4\" >0.5959</td>\n",
              "                        <td id=\"T_b984f622_1d7e_11ed_a67a_0a580a83032brow9_col5\" class=\"data row9 col5\" >0.6293</td>\n",
              "            </tr>\n",
              "            <tr>\n",
              "                        <th id=\"T_b984f622_1d7e_11ed_a67a_0a580a83032blevel0_row10\" class=\"row_heading level0 row10\" >Mean</th>\n",
              "                        <td id=\"T_b984f622_1d7e_11ed_a67a_0a580a83032brow10_col0\" class=\"data row10 col0\" >1.6121</td>\n",
              "                        <td id=\"T_b984f622_1d7e_11ed_a67a_0a580a83032brow10_col1\" class=\"data row10 col1\" >7.6345</td>\n",
              "                        <td id=\"T_b984f622_1d7e_11ed_a67a_0a580a83032brow10_col2\" class=\"data row10 col2\" >2.6924</td>\n",
              "                        <td id=\"T_b984f622_1d7e_11ed_a67a_0a580a83032brow10_col3\" class=\"data row10 col3\" >0.6072</td>\n",
              "                        <td id=\"T_b984f622_1d7e_11ed_a67a_0a580a83032brow10_col4\" class=\"data row10 col4\" >0.5937</td>\n",
              "                        <td id=\"T_b984f622_1d7e_11ed_a67a_0a580a83032brow10_col5\" class=\"data row10 col5\" >0.6696</td>\n",
              "            </tr>\n",
              "            <tr>\n",
              "                        <th id=\"T_b984f622_1d7e_11ed_a67a_0a580a83032blevel0_row11\" class=\"row_heading level0 row11\" >SD</th>\n",
              "                        <td id=\"T_b984f622_1d7e_11ed_a67a_0a580a83032brow11_col0\" class=\"data row11 col0\" >0.1651</td>\n",
              "                        <td id=\"T_b984f622_1d7e_11ed_a67a_0a580a83032brow11_col1\" class=\"data row11 col1\" >3.6976</td>\n",
              "                        <td id=\"T_b984f622_1d7e_11ed_a67a_0a580a83032brow11_col2\" class=\"data row11 col2\" >0.6209</td>\n",
              "                        <td id=\"T_b984f622_1d7e_11ed_a67a_0a580a83032brow11_col3\" class=\"data row11 col3\" >0.1956</td>\n",
              "                        <td id=\"T_b984f622_1d7e_11ed_a67a_0a580a83032brow11_col4\" class=\"data row11 col4\" >0.0477</td>\n",
              "                        <td id=\"T_b984f622_1d7e_11ed_a67a_0a580a83032brow11_col5\" class=\"data row11 col5\" >0.0677</td>\n",
              "            </tr>\n",
              "    </tbody></table>"
            ],
            "text/plain": [
              "<pandas.io.formats.style.Styler at 0x7f0ec6b9e2b0>"
            ]
          },
          "metadata": {},
          "output_type": "display_data"
        }
      ],
      "source": [
        "huber = create_model('huber')"
      ]
    },
    {
      "cell_type": "code",
      "execution_count": null,
      "id": "starting-hotel",
      "metadata": {
        "id": "starting-hotel",
        "outputId": "ed1937a7-8ea8-4c09-9b3c-5eec9a116887"
      },
      "outputs": [
        {
          "data": {
            "image/png": "[encoded data removed]",
            "text/plain": [
              "<Figure size 576x396 with 2 Axes>"
            ]
          },
          "metadata": {},
          "output_type": "display_data"
        }
      ],
      "source": [
        "plot_model(huber)"
      ]
    },
    {
      "cell_type": "code",
      "execution_count": null,
      "id": "accessory-geneva",
      "metadata": {
        "id": "accessory-geneva",
        "outputId": "bfd15106-a4cc-46b5-ccab-7f8209819484"
      },
      "outputs": [
        {
          "data": {
            "image/png": "[encoded data removed]",
            "text/plain": [
              "<Figure size 576x396 with 1 Axes>"
            ]
          },
          "metadata": {},
          "output_type": "display_data"
        }
      ],
      "source": [
        "plot_model(huber, plot = 'error')"
      ]
    },
    {
      "cell_type": "code",
      "execution_count": null,
      "id": "pursuant-england",
      "metadata": {
        "id": "pursuant-england",
        "outputId": "5a006151-25c8-4bea-e397-17e21befb8a7",
        "scrolled": false
      },
      "outputs": [
        {
          "data": {
            "image/png": "[encoded data removed]",
            "text/plain": [
              "<Figure size 800x500 with 1 Axes>"
            ]
          },
          "metadata": {},
          "output_type": "display_data"
        }
      ],
      "source": [
        "plot_model(huber, plot='feature')"
      ]
    },
    {
      "cell_type": "code",
      "execution_count": null,
      "id": "duplicate-effects",
      "metadata": {
        "id": "duplicate-effects",
        "outputId": "8bbb7925-0d1b-416a-8dd3-5f5fa8a8548e"
      },
      "outputs": [
        {
          "data": {
            "text/plain": [
              "array([-0.03091419,  0.03948959,  3.27944687, -0.1124099 , -0.03713239,\n",
              "       -0.06794518,  0.01067958,  0.00448581, -0.66570165,  0.07963946])"
            ]
          },
          "execution_count": 16,
          "metadata": {},
          "output_type": "execute_result"
        }
      ],
      "source": [
        "huber.coef_"
      ]
    },
    {
      "cell_type": "code",
      "execution_count": null,
      "id": "wrapped-occurrence",
      "metadata": {
        "id": "wrapped-occurrence",
        "outputId": "fb7ccccd-5f85-4849-b652-71b690d2f010"
      },
      "outputs": [
        {
          "data": {
            "text/html": [
              "<div>\n",
              "<style scoped>\n",
              "    .dataframe tbody tr th:only-of-type {\n",
              "        vertical-align: middle;\n",
              "    }\n",
              "\n",
              "    .dataframe tbody tr th {\n",
              "        vertical-align: top;\n",
              "    }\n",
              "\n",
              "    .dataframe thead th {\n",
              "        text-align: right;\n",
              "    }\n",
              "</style>\n",
              "<table border=\"1\" class=\"dataframe\">\n",
              "  <thead>\n",
              "    <tr style=\"text-align: right;\">\n",
              "      <th></th>\n",
              "      <th>Feature</th>\n",
              "      <th>Value</th>\n",
              "    </tr>\n",
              "  </thead>\n",
              "  <tbody>\n",
              "    <tr>\n",
              "      <th>0</th>\n",
              "      <td>2_crime_last</td>\n",
              "      <td>3.279447</td>\n",
              "    </tr>\n",
              "    <tr>\n",
              "      <th>1</th>\n",
              "      <td>3_place</td>\n",
              "      <td>0.665702</td>\n",
              "    </tr>\n",
              "    <tr>\n",
              "      <th>2</th>\n",
              "      <td>1_cctvsight</td>\n",
              "      <td>0.112410</td>\n",
              "    </tr>\n",
              "    <tr>\n",
              "      <th>3</th>\n",
              "      <td>10_sub_security</td>\n",
              "      <td>0.079639</td>\n",
              "    </tr>\n",
              "    <tr>\n",
              "      <th>4</th>\n",
              "      <td>6_foreign</td>\n",
              "      <td>0.067945</td>\n",
              "    </tr>\n",
              "    <tr>\n",
              "      <th>5</th>\n",
              "      <td>8_child</td>\n",
              "      <td>0.039490</td>\n",
              "    </tr>\n",
              "    <tr>\n",
              "      <th>6</th>\n",
              "      <td>5_dep_pop</td>\n",
              "      <td>0.037132</td>\n",
              "    </tr>\n",
              "    <tr>\n",
              "      <th>7</th>\n",
              "      <td>7_building</td>\n",
              "      <td>0.030914</td>\n",
              "    </tr>\n",
              "    <tr>\n",
              "      <th>8</th>\n",
              "      <td>4_foot_traffic</td>\n",
              "      <td>0.010680</td>\n",
              "    </tr>\n",
              "    <tr>\n",
              "      <th>9</th>\n",
              "      <td>9_public_security</td>\n",
              "      <td>0.004486</td>\n",
              "    </tr>\n",
              "  </tbody>\n",
              "</table>\n",
              "</div>"
            ],
            "text/plain": [
              "             Feature     Value\n",
              "0       2_crime_last  3.279447\n",
              "1            3_place  0.665702\n",
              "2        1_cctvsight  0.112410\n",
              "3    10_sub_security  0.079639\n",
              "4          6_foreign  0.067945\n",
              "5            8_child  0.039490\n",
              "6          5_dep_pop  0.037132\n",
              "7         7_building  0.030914\n",
              "8     4_foot_traffic  0.010680\n",
              "9  9_public_security  0.004486"
            ]
          },
          "execution_count": 17,
          "metadata": {},
          "output_type": "execute_result"
        }
      ],
      "source": [
        "fea_imp = pd.DataFrame({'Feature': train.drop(['gid','crime_now'], axis=1).columns, 'Value' : abs(huber.coef_)}).sort_values(by='Value', ascending=False)\n",
        "fea_imp = fea_imp.reset_index(drop=True)\n",
        "fea_imp"
      ]
    },
    {
      "cell_type": "code",
      "execution_count": null,
      "id": "legitimate-accountability",
      "metadata": {
        "id": "legitimate-accountability"
      },
      "outputs": [],
      "source": [
        "fea_imp['percentage'] = fea_imp['Value'] / fea_imp['Value'].sum()"
      ]
    },
    {
      "cell_type": "code",
      "execution_count": null,
      "id": "sublime-battlefield",
      "metadata": {
        "id": "sublime-battlefield",
        "outputId": "640b2620-249e-4a9e-9ffa-07b0da7f917a"
      },
      "outputs": [
        {
          "data": {
            "text/html": [
              "<div>\n",
              "<style scoped>\n",
              "    .dataframe tbody tr th:only-of-type {\n",
              "        vertical-align: middle;\n",
              "    }\n",
              "\n",
              "    .dataframe tbody tr th {\n",
              "        vertical-align: top;\n",
              "    }\n",
              "\n",
              "    .dataframe thead th {\n",
              "        text-align: right;\n",
              "    }\n",
              "</style>\n",
              "<table border=\"1\" class=\"dataframe\">\n",
              "  <thead>\n",
              "    <tr style=\"text-align: right;\">\n",
              "      <th></th>\n",
              "      <th>Feature</th>\n",
              "      <th>Value</th>\n",
              "      <th>percentage</th>\n",
              "    </tr>\n",
              "  </thead>\n",
              "  <tbody>\n",
              "    <tr>\n",
              "      <th>0</th>\n",
              "      <td>2_crime_last</td>\n",
              "      <td>3.279447</td>\n",
              "      <td>0.757755</td>\n",
              "    </tr>\n",
              "    <tr>\n",
              "      <th>1</th>\n",
              "      <td>3_place</td>\n",
              "      <td>0.665702</td>\n",
              "      <td>0.153818</td>\n",
              "    </tr>\n",
              "    <tr>\n",
              "      <th>2</th>\n",
              "      <td>1_cctvsight</td>\n",
              "      <td>0.112410</td>\n",
              "      <td>0.025974</td>\n",
              "    </tr>\n",
              "    <tr>\n",
              "      <th>3</th>\n",
              "      <td>10_sub_security</td>\n",
              "      <td>0.079639</td>\n",
              "      <td>0.018402</td>\n",
              "    </tr>\n",
              "    <tr>\n",
              "      <th>4</th>\n",
              "      <td>6_foreign</td>\n",
              "      <td>0.067945</td>\n",
              "      <td>0.015700</td>\n",
              "    </tr>\n",
              "    <tr>\n",
              "      <th>5</th>\n",
              "      <td>8_child</td>\n",
              "      <td>0.039490</td>\n",
              "      <td>0.009125</td>\n",
              "    </tr>\n",
              "    <tr>\n",
              "      <th>6</th>\n",
              "      <td>5_dep_pop</td>\n",
              "      <td>0.037132</td>\n",
              "      <td>0.008580</td>\n",
              "    </tr>\n",
              "    <tr>\n",
              "      <th>7</th>\n",
              "      <td>7_building</td>\n",
              "      <td>0.030914</td>\n",
              "      <td>0.007143</td>\n",
              "    </tr>\n",
              "    <tr>\n",
              "      <th>8</th>\n",
              "      <td>4_foot_traffic</td>\n",
              "      <td>0.010680</td>\n",
              "      <td>0.002468</td>\n",
              "    </tr>\n",
              "    <tr>\n",
              "      <th>9</th>\n",
              "      <td>9_public_security</td>\n",
              "      <td>0.004486</td>\n",
              "      <td>0.001037</td>\n",
              "    </tr>\n",
              "  </tbody>\n",
              "</table>\n",
              "</div>"
            ],
            "text/plain": [
              "             Feature     Value  percentage\n",
              "0       2_crime_last  3.279447    0.757755\n",
              "1            3_place  0.665702    0.153818\n",
              "2        1_cctvsight  0.112410    0.025974\n",
              "3    10_sub_security  0.079639    0.018402\n",
              "4          6_foreign  0.067945    0.015700\n",
              "5            8_child  0.039490    0.009125\n",
              "6          5_dep_pop  0.037132    0.008580\n",
              "7         7_building  0.030914    0.007143\n",
              "8     4_foot_traffic  0.010680    0.002468\n",
              "9  9_public_security  0.004486    0.001037"
            ]
          },
          "execution_count": 25,
          "metadata": {},
          "output_type": "execute_result"
        }
      ],
      "source": [
        "fea_imp"
      ]
    },
    {
      "cell_type": "code",
      "execution_count": null,
      "id": "varying-cookbook",
      "metadata": {
        "id": "varying-cookbook"
      },
      "outputs": [],
      "source": [
        "fea_imp.to_csv(\"/opt/app-root/src/complete data/피쳐중요도.csv\", index=False)"
      ]
    },
    {
      "cell_type": "code",
      "execution_count": null,
      "id": "suitable-environment",
      "metadata": {
        "id": "suitable-environment"
      },
      "outputs": [],
      "source": [
        "predict_model(huber)"
      ]
    },
    {
      "cell_type": "code",
      "execution_count": null,
      "id": "modified-accordance",
      "metadata": {
        "id": "modified-accordance"
      },
      "outputs": [],
      "source": [
        "final_model = finalize_model(best)\n",
        "prediction = predict_model(final_model, data = test)"
      ]
    },
    {
      "cell_type": "code",
      "execution_count": null,
      "id": "severe-technique",
      "metadata": {
        "id": "severe-technique",
        "scrolled": true
      },
      "outputs": [],
      "source": [
        "prediction"
      ]
    },
    {
      "cell_type": "markdown",
      "id": "decreased-three",
      "metadata": {
        "id": "decreased-three"
      },
      "source": [
        "## 가중치 적용 (최종 계산)"
      ]
    },
    {
      "cell_type": "code",
      "execution_count": null,
      "id": "bronze-plaza",
      "metadata": {
        "id": "bronze-plaza"
      },
      "outputs": [],
      "source": [
        "import pandas as pd\n",
        "\n",
        "count = pd.read_csv('지수_count_sum.csv')"
      ]
    },
    {
      "cell_type": "code",
      "execution_count": null,
      "id": "grand-sally",
      "metadata": {
        "id": "grand-sally"
      },
      "outputs": [],
      "source": [
        "count"
      ]
    },
    {
      "cell_type": "code",
      "execution_count": null,
      "id": "improving-kingston",
      "metadata": {
        "id": "improving-kingston"
      },
      "outputs": [],
      "source": [
        "count = count[['7_building_count', '8_child_count',\n",
        "       '2_crime_count', '부양인구지수_count', '외국인위험지수_count', '유동인구지수_count',\n",
        "       '공적감시취약지수_count', '풍속업소지수_count', '감시취약지수_count','대체감시취약지수_count']]"
      ]
    },
    {
      "cell_type": "code",
      "execution_count": null,
      "id": "electrical-gregory",
      "metadata": {
        "id": "electrical-gregory"
      },
      "outputs": [],
      "source": [
        "count.sum()"
      ]
    },
    {
      "cell_type": "code",
      "execution_count": null,
      "id": "detailed-marketplace",
      "metadata": {
        "id": "detailed-marketplace",
        "outputId": "76d375b6-c38f-4bec-f79f-75c0155eacc3"
      },
      "outputs": [
        {
          "data": {
            "text/plain": [
              "689"
            ]
          },
          "execution_count": 6,
          "metadata": {},
          "output_type": "execute_result"
        }
      ],
      "source": [
        "sum(count.sum())"
      ]
    },
    {
      "cell_type": "code",
      "execution_count": null,
      "id": "treated-music",
      "metadata": {
        "id": "treated-music"
      },
      "outputs": [],
      "source": [
        "list(count.sum()/689)"
      ]
    },
    {
      "cell_type": "code",
      "execution_count": null,
      "id": "demographic-cancer",
      "metadata": {
        "id": "demographic-cancer",
        "outputId": "d58f6645-8adc-4130-fa8b-f6736efc9513"
      },
      "outputs": [
        {
          "data": {
            "text/html": [
              "<div>\n",
              "<style scoped>\n",
              "    .dataframe tbody tr th:only-of-type {\n",
              "        vertical-align: middle;\n",
              "    }\n",
              "\n",
              "    .dataframe tbody tr th {\n",
              "        vertical-align: top;\n",
              "    }\n",
              "\n",
              "    .dataframe thead th {\n",
              "        text-align: right;\n",
              "    }\n",
              "</style>\n",
              "<table border=\"1\" class=\"dataframe\">\n",
              "  <thead>\n",
              "    <tr style=\"text-align: right;\">\n",
              "      <th></th>\n",
              "      <th>Feature</th>\n",
              "      <th>model_value</th>\n",
              "    </tr>\n",
              "  </thead>\n",
              "  <tbody>\n",
              "    <tr>\n",
              "      <th>0</th>\n",
              "      <td>7_building_count</td>\n",
              "      <td>0.053701</td>\n",
              "    </tr>\n",
              "    <tr>\n",
              "      <th>1</th>\n",
              "      <td>8_child_count</td>\n",
              "      <td>0.121916</td>\n",
              "    </tr>\n",
              "    <tr>\n",
              "      <th>2</th>\n",
              "      <td>2_crime_last</td>\n",
              "      <td>0.008708</td>\n",
              "    </tr>\n",
              "    <tr>\n",
              "      <th>3</th>\n",
              "      <td>5_dep_pop</td>\n",
              "      <td>0.014514</td>\n",
              "    </tr>\n",
              "    <tr>\n",
              "      <th>4</th>\n",
              "      <td>6_foreign</td>\n",
              "      <td>0.121916</td>\n",
              "    </tr>\n",
              "    <tr>\n",
              "      <th>5</th>\n",
              "      <td>4_foot_traffic</td>\n",
              "      <td>0.121916</td>\n",
              "    </tr>\n",
              "    <tr>\n",
              "      <th>6</th>\n",
              "      <td>9_public_security</td>\n",
              "      <td>0.121916</td>\n",
              "    </tr>\n",
              "    <tr>\n",
              "      <th>7</th>\n",
              "      <td>3_place</td>\n",
              "      <td>0.000000</td>\n",
              "    </tr>\n",
              "    <tr>\n",
              "      <th>8</th>\n",
              "      <td>1_cctv</td>\n",
              "      <td>0.342525</td>\n",
              "    </tr>\n",
              "    <tr>\n",
              "      <th>9</th>\n",
              "      <td>10_sub_security</td>\n",
              "      <td>0.092888</td>\n",
              "    </tr>\n",
              "  </tbody>\n",
              "</table>\n",
              "</div>"
            ],
            "text/plain": [
              "             Feature  model_value\n",
              "0   7_building_count     0.053701\n",
              "1      8_child_count     0.121916\n",
              "2       2_crime_last     0.008708\n",
              "3          5_dep_pop     0.014514\n",
              "4          6_foreign     0.121916\n",
              "5     4_foot_traffic     0.121916\n",
              "6  9_public_security     0.121916\n",
              "7            3_place     0.000000\n",
              "8             1_cctv     0.342525\n",
              "9    10_sub_security     0.092888"
            ]
          },
          "execution_count": 8,
          "metadata": {},
          "output_type": "execute_result"
        }
      ],
      "source": [
        "hae_value = count.sum()/689\n",
        "hae_value = pd.DataFrame({'Feature':['7_building_count', '8_child_count',\n",
        "       '2_crime_last', '5_dep_pop', '6_foreign', '4_foot_traffic',\n",
        "       '9_public_security', '3_place', '1_cctv','10_sub_security'],\n",
        "                           'model_value':list(count.sum()/689)})\n",
        "hae_value"
      ]
    },
    {
      "cell_type": "code",
      "execution_count": null,
      "id": "backed-queen",
      "metadata": {
        "id": "backed-queen",
        "outputId": "0f67b1b0-d661-4107-9eb8-8aa1412a763b"
      },
      "outputs": [
        {
          "data": {
            "text/html": [
              "<div>\n",
              "<style scoped>\n",
              "    .dataframe tbody tr th:only-of-type {\n",
              "        vertical-align: middle;\n",
              "    }\n",
              "\n",
              "    .dataframe tbody tr th {\n",
              "        vertical-align: top;\n",
              "    }\n",
              "\n",
              "    .dataframe thead th {\n",
              "        text-align: right;\n",
              "    }\n",
              "</style>\n",
              "<table border=\"1\" class=\"dataframe\">\n",
              "  <thead>\n",
              "    <tr style=\"text-align: right;\">\n",
              "      <th></th>\n",
              "      <th>Feature</th>\n",
              "      <th>model_value</th>\n",
              "    </tr>\n",
              "  </thead>\n",
              "  <tbody>\n",
              "    <tr>\n",
              "      <th>0</th>\n",
              "      <td>2_crime_last</td>\n",
              "      <td>0.757755</td>\n",
              "    </tr>\n",
              "    <tr>\n",
              "      <th>1</th>\n",
              "      <td>3_place</td>\n",
              "      <td>0.153818</td>\n",
              "    </tr>\n",
              "    <tr>\n",
              "      <th>2</th>\n",
              "      <td>1_cctv</td>\n",
              "      <td>0.025974</td>\n",
              "    </tr>\n",
              "    <tr>\n",
              "      <th>3</th>\n",
              "      <td>10_sub_security</td>\n",
              "      <td>0.018402</td>\n",
              "    </tr>\n",
              "    <tr>\n",
              "      <th>4</th>\n",
              "      <td>6_foreign</td>\n",
              "      <td>0.015700</td>\n",
              "    </tr>\n",
              "    <tr>\n",
              "      <th>5</th>\n",
              "      <td>8_child</td>\n",
              "      <td>0.009125</td>\n",
              "    </tr>\n",
              "    <tr>\n",
              "      <th>6</th>\n",
              "      <td>5_dep_pop</td>\n",
              "      <td>0.008580</td>\n",
              "    </tr>\n",
              "    <tr>\n",
              "      <th>7</th>\n",
              "      <td>7_building</td>\n",
              "      <td>0.007143</td>\n",
              "    </tr>\n",
              "    <tr>\n",
              "      <th>8</th>\n",
              "      <td>4_foot_traffic</td>\n",
              "      <td>0.002468</td>\n",
              "    </tr>\n",
              "    <tr>\n",
              "      <th>9</th>\n",
              "      <td>9_public_security</td>\n",
              "      <td>0.001037</td>\n",
              "    </tr>\n",
              "  </tbody>\n",
              "</table>\n",
              "</div>"
            ],
            "text/plain": [
              "             Feature  model_value\n",
              "0       2_crime_last     0.757755\n",
              "1            3_place     0.153818\n",
              "2             1_cctv     0.025974\n",
              "3    10_sub_security     0.018402\n",
              "4          6_foreign     0.015700\n",
              "5            8_child     0.009125\n",
              "6          5_dep_pop     0.008580\n",
              "7         7_building     0.007143\n",
              "8     4_foot_traffic     0.002468\n",
              "9  9_public_security     0.001037"
            ]
          },
          "execution_count": 10,
          "metadata": {},
          "output_type": "execute_result"
        }
      ],
      "source": [
        "model_value = pd.DataFrame({'Feature':['2_crime_last','3_place','1_cctv','10_sub_security','6_foreign','8_child','5_dep_pop',\\\n",
        "                                      '7_building','4_foot_traffic','9_public_security'],\n",
        "                           'model_value':[0.757755,0.153818,0.025974,0.018402,0.0157,0.009125,0.00858,0.007143,0.002468,0.001037]})\n",
        "model_value"
      ]
    },
    {
      "cell_type": "code",
      "execution_count": null,
      "id": "through-spider",
      "metadata": {
        "id": "through-spider"
      },
      "outputs": [],
      "source": [
        "hae_value = hae_value.sort_values(by='Feature')\n",
        "modelv_value = model_value.sort_values(by='Feature')"
      ]
    },
    {
      "cell_type": "code",
      "execution_count": null,
      "id": "destroyed-purse",
      "metadata": {
        "id": "destroyed-purse"
      },
      "outputs": [],
      "source": [
        "modelv_value['hae_value'] = hae_value['model_value']"
      ]
    },
    {
      "cell_type": "code",
      "execution_count": null,
      "id": "psychological-image",
      "metadata": {
        "id": "psychological-image",
        "outputId": "4f6f6fe2-8581-4e3c-d9c7-b91765bea634"
      },
      "outputs": [
        {
          "data": {
            "text/html": [
              "<div>\n",
              "<style scoped>\n",
              "    .dataframe tbody tr th:only-of-type {\n",
              "        vertical-align: middle;\n",
              "    }\n",
              "\n",
              "    .dataframe tbody tr th {\n",
              "        vertical-align: top;\n",
              "    }\n",
              "\n",
              "    .dataframe thead th {\n",
              "        text-align: right;\n",
              "    }\n",
              "</style>\n",
              "<table border=\"1\" class=\"dataframe\">\n",
              "  <thead>\n",
              "    <tr style=\"text-align: right;\">\n",
              "      <th></th>\n",
              "      <th>Feature</th>\n",
              "      <th>model_value</th>\n",
              "      <th>hae_value</th>\n",
              "      <th>final</th>\n",
              "    </tr>\n",
              "  </thead>\n",
              "  <tbody>\n",
              "    <tr>\n",
              "      <th>3</th>\n",
              "      <td>10_sub_security</td>\n",
              "      <td>0.018402</td>\n",
              "      <td>0.014514</td>\n",
              "      <td>0.016458</td>\n",
              "    </tr>\n",
              "    <tr>\n",
              "      <th>2</th>\n",
              "      <td>1_cctv</td>\n",
              "      <td>0.025974</td>\n",
              "      <td>0.008708</td>\n",
              "      <td>0.017341</td>\n",
              "    </tr>\n",
              "    <tr>\n",
              "      <th>0</th>\n",
              "      <td>2_crime_last</td>\n",
              "      <td>0.757755</td>\n",
              "      <td>0.053701</td>\n",
              "      <td>0.405728</td>\n",
              "    </tr>\n",
              "    <tr>\n",
              "      <th>1</th>\n",
              "      <td>3_place</td>\n",
              "      <td>0.153818</td>\n",
              "      <td>0.121916</td>\n",
              "      <td>0.137867</td>\n",
              "    </tr>\n",
              "    <tr>\n",
              "      <th>8</th>\n",
              "      <td>4_foot_traffic</td>\n",
              "      <td>0.002468</td>\n",
              "      <td>0.342525</td>\n",
              "      <td>0.172497</td>\n",
              "    </tr>\n",
              "    <tr>\n",
              "      <th>6</th>\n",
              "      <td>5_dep_pop</td>\n",
              "      <td>0.008580</td>\n",
              "      <td>0.121916</td>\n",
              "      <td>0.065248</td>\n",
              "    </tr>\n",
              "    <tr>\n",
              "      <th>4</th>\n",
              "      <td>6_foreign</td>\n",
              "      <td>0.015700</td>\n",
              "      <td>0.121916</td>\n",
              "      <td>0.068808</td>\n",
              "    </tr>\n",
              "    <tr>\n",
              "      <th>7</th>\n",
              "      <td>7_building</td>\n",
              "      <td>0.007143</td>\n",
              "      <td>0.000000</td>\n",
              "      <td>0.003572</td>\n",
              "    </tr>\n",
              "    <tr>\n",
              "      <th>5</th>\n",
              "      <td>8_child</td>\n",
              "      <td>0.009125</td>\n",
              "      <td>0.121916</td>\n",
              "      <td>0.065520</td>\n",
              "    </tr>\n",
              "    <tr>\n",
              "      <th>9</th>\n",
              "      <td>9_public_security</td>\n",
              "      <td>0.001037</td>\n",
              "      <td>0.092888</td>\n",
              "      <td>0.046963</td>\n",
              "    </tr>\n",
              "  </tbody>\n",
              "</table>\n",
              "</div>"
            ],
            "text/plain": [
              "             Feature  model_value  hae_value     final\n",
              "3    10_sub_security     0.018402   0.014514  0.016458\n",
              "2             1_cctv     0.025974   0.008708  0.017341\n",
              "0       2_crime_last     0.757755   0.053701  0.405728\n",
              "1            3_place     0.153818   0.121916  0.137867\n",
              "8     4_foot_traffic     0.002468   0.342525  0.172497\n",
              "6          5_dep_pop     0.008580   0.121916  0.065248\n",
              "4          6_foreign     0.015700   0.121916  0.068808\n",
              "7         7_building     0.007143   0.000000  0.003572\n",
              "5            8_child     0.009125   0.121916  0.065520\n",
              "9  9_public_security     0.001037   0.092888  0.046963"
            ]
          },
          "execution_count": 13,
          "metadata": {},
          "output_type": "execute_result"
        }
      ],
      "source": [
        "modelv_value['final'] = (modelv_value['model_value']+modelv_value['hae_value'])/2\n",
        "modelv_value"
      ]
    },
    {
      "cell_type": "code",
      "execution_count": null,
      "id": "exact-nickname",
      "metadata": {
        "id": "exact-nickname"
      },
      "outputs": [],
      "source": [
        "test = pd.read_csv(\"../모델링/test.csv\")\n",
        "test\n",
        "test['score'] = test['7_building']*0.003572 + test['감시취약지수']*0.017341 + test['2_crime_2020']*0.405728\\\n",
        "                    +(100-test['풍속업소지수'])*0.137867 + test['유동인구지수']*0.172497 + test['2021_부양인구지수']*0.065248 \\\n",
        "                    +test['2021_외국인위험지수']*0.068808 + test['8_child']*0.065520 + test['공적감시취약지수']*0.046963\\\n",
        "                    +test['대체감시취약지수']*0.016458\n",
        "\n",
        "test = test.sort_values(by='score', ascending=False)"
      ]
    },
    {
      "cell_type": "code",
      "execution_count": null,
      "id": "diagnostic-savings",
      "metadata": {
        "id": "diagnostic-savings"
      },
      "outputs": [],
      "source": [
        "test[:50]"
      ]
    },
    {
      "cell_type": "code",
      "execution_count": null,
      "id": "pharmaceutical-group",
      "metadata": {
        "id": "pharmaceutical-group",
        "outputId": "dc3be959-1cfb-4c5a-db9e-a37aa540d00b"
      },
      "outputs": [
        {
          "name": "stderr",
          "output_type": "stream",
          "text": [
            "/opt/app-root/lib/python3.6/site-packages/seaborn/distributions.py:2557: FutureWarning: `distplot` is a deprecated function and will be removed in a future version. Please adapt your code to use either `displot` (a figure-level function with similar flexibility) or `histplot` (an axes-level function for histograms).\n",
            "  warnings.warn(msg, FutureWarning)\n"
          ]
        },
        {
          "data": {
            "text/plain": [
              "<matplotlib.lines.Line2D at 0x7fbd90d714e0>"
            ]
          },
          "execution_count": 98,
          "metadata": {},
          "output_type": "execute_result"
        },
        {
          "data": {
            "image/png": "[encoded data removed]",
            "text/plain": [
              "<Figure size 432x288 with 1 Axes>"
            ]
          },
          "metadata": {
            "needs_background": "light"
          },
          "output_type": "display_data"
        }
      ],
      "source": [
        "import seaborn as sns\n",
        "import matplotlib.pyplot as plt\n",
        "\n",
        "sns.distplot(test['score'], bins=30, color=mcolors.to_rgba(\"#4C50BB\"))\n",
        "plt.axvline(20, 0, 1, color=mcolors.to_rgba(\"#4C50BB\"), ls='--')"
      ]
    },
    {
      "cell_type": "code",
      "execution_count": null,
      "id": "legitimate-comparative",
      "metadata": {
        "id": "legitimate-comparative",
        "outputId": "36ec0dcc-64b9-4087-bd62-76faf67fa263"
      },
      "outputs": [
        {
          "data": {
            "text/html": [
              "<div>\n",
              "<style scoped>\n",
              "    .dataframe tbody tr th:only-of-type {\n",
              "        vertical-align: middle;\n",
              "    }\n",
              "\n",
              "    .dataframe tbody tr th {\n",
              "        vertical-align: top;\n",
              "    }\n",
              "\n",
              "    .dataframe thead th {\n",
              "        text-align: right;\n",
              "    }\n",
              "</style>\n",
              "<table border=\"1\" class=\"dataframe\">\n",
              "  <thead>\n",
              "    <tr style=\"text-align: right;\">\n",
              "      <th></th>\n",
              "      <th>gid</th>\n",
              "      <th>7_building</th>\n",
              "      <th>8_child</th>\n",
              "      <th>2_crime_2020</th>\n",
              "      <th>2_crime_2021</th>\n",
              "      <th>감시취약지수</th>\n",
              "      <th>2021_부양인구지수</th>\n",
              "      <th>2021_외국인위험지수</th>\n",
              "      <th>유동인구지수</th>\n",
              "      <th>공적감시취약지수</th>\n",
              "      <th>풍속업소지수</th>\n",
              "      <th>대체감시취약지수</th>\n",
              "      <th>score</th>\n",
              "    </tr>\n",
              "  </thead>\n",
              "  <tbody>\n",
              "    <tr>\n",
              "      <th>323</th>\n",
              "      <td>마라243939</td>\n",
              "      <td>0.000000</td>\n",
              "      <td>95.561588</td>\n",
              "      <td>100.000000</td>\n",
              "      <td>100.000000</td>\n",
              "      <td>43.092866</td>\n",
              "      <td>0.000000</td>\n",
              "      <td>0.355272</td>\n",
              "      <td>71.393389</td>\n",
              "      <td>14.039971</td>\n",
              "      <td>53.333333</td>\n",
              "      <td>73.809524</td>\n",
              "      <td>68.228769</td>\n",
              "    </tr>\n",
              "    <tr>\n",
              "      <th>965</th>\n",
              "      <td>마라243938</td>\n",
              "      <td>27.809702</td>\n",
              "      <td>96.784313</td>\n",
              "      <td>62.326870</td>\n",
              "      <td>65.436242</td>\n",
              "      <td>56.031794</td>\n",
              "      <td>100.000000</td>\n",
              "      <td>0.000000</td>\n",
              "      <td>43.429509</td>\n",
              "      <td>24.526024</td>\n",
              "      <td>66.666667</td>\n",
              "      <td>97.619048</td>\n",
              "      <td>54.070305</td>\n",
              "    </tr>\n",
              "    <tr>\n",
              "      <th>83</th>\n",
              "      <td>마라258935</td>\n",
              "      <td>0.000000</td>\n",
              "      <td>90.966590</td>\n",
              "      <td>69.529086</td>\n",
              "      <td>52.684564</td>\n",
              "      <td>34.953215</td>\n",
              "      <td>30.769231</td>\n",
              "      <td>1.209910</td>\n",
              "      <td>6.459903</td>\n",
              "      <td>13.057040</td>\n",
              "      <td>64.444444</td>\n",
              "      <td>95.238095</td>\n",
              "      <td>45.063912</td>\n",
              "    </tr>\n",
              "    <tr>\n",
              "      <th>234</th>\n",
              "      <td>마라184895</td>\n",
              "      <td>26.482847</td>\n",
              "      <td>95.732968</td>\n",
              "      <td>39.058172</td>\n",
              "      <td>42.617450</td>\n",
              "      <td>78.891237</td>\n",
              "      <td>0.000000</td>\n",
              "      <td>0.136399</td>\n",
              "      <td>20.065207</td>\n",
              "      <td>19.761858</td>\n",
              "      <td>0.000000</td>\n",
              "      <td>100.000000</td>\n",
              "      <td>43.413217</td>\n",
              "    </tr>\n",
              "    <tr>\n",
              "      <th>1054</th>\n",
              "      <td>마마119015</td>\n",
              "      <td>0.000000</td>\n",
              "      <td>93.994305</td>\n",
              "      <td>54.847645</td>\n",
              "      <td>79.865772</td>\n",
              "      <td>99.577422</td>\n",
              "      <td>100.000000</td>\n",
              "      <td>0.000000</td>\n",
              "      <td>2.992351</td>\n",
              "      <td>10.021483</td>\n",
              "      <td>100.000000</td>\n",
              "      <td>100.000000</td>\n",
              "      <td>39.295915</td>\n",
              "    </tr>\n",
              "    <tr>\n",
              "      <th>...</th>\n",
              "      <td>...</td>\n",
              "      <td>...</td>\n",
              "      <td>...</td>\n",
              "      <td>...</td>\n",
              "      <td>...</td>\n",
              "      <td>...</td>\n",
              "      <td>...</td>\n",
              "      <td>...</td>\n",
              "      <td>...</td>\n",
              "      <td>...</td>\n",
              "      <td>...</td>\n",
              "      <td>...</td>\n",
              "      <td>...</td>\n",
              "    </tr>\n",
              "    <tr>\n",
              "      <th>700</th>\n",
              "      <td>마라230927</td>\n",
              "      <td>0.000000</td>\n",
              "      <td>92.198527</td>\n",
              "      <td>0.000000</td>\n",
              "      <td>6.040268</td>\n",
              "      <td>50.286749</td>\n",
              "      <td>0.000000</td>\n",
              "      <td>0.311769</td>\n",
              "      <td>0.684761</td>\n",
              "      <td>6.459919</td>\n",
              "      <td>100.000000</td>\n",
              "      <td>90.476190</td>\n",
              "      <td>8.844876</td>\n",
              "    </tr>\n",
              "    <tr>\n",
              "      <th>604</th>\n",
              "      <td>마라249969</td>\n",
              "      <td>0.000000</td>\n",
              "      <td>88.695460</td>\n",
              "      <td>0.000000</td>\n",
              "      <td>1.006711</td>\n",
              "      <td>18.543113</td>\n",
              "      <td>0.000000</td>\n",
              "      <td>0.259808</td>\n",
              "      <td>0.938742</td>\n",
              "      <td>15.468925</td>\n",
              "      <td>100.000000</td>\n",
              "      <td>95.238095</td>\n",
              "      <td>8.606585</td>\n",
              "    </tr>\n",
              "    <tr>\n",
              "      <th>978</th>\n",
              "      <td>마라179898</td>\n",
              "      <td>25.022813</td>\n",
              "      <td>95.850956</td>\n",
              "      <td>0.000000</td>\n",
              "      <td>1.006711</td>\n",
              "      <td>13.733776</td>\n",
              "      <td>0.000000</td>\n",
              "      <td>0.134234</td>\n",
              "      <td>3.460726</td>\n",
              "      <td>15.157432</td>\n",
              "      <td>100.000000</td>\n",
              "      <td>23.809524</td>\n",
              "      <td>8.317590</td>\n",
              "    </tr>\n",
              "    <tr>\n",
              "      <th>649</th>\n",
              "      <td>마라222898</td>\n",
              "      <td>9.924285</td>\n",
              "      <td>46.211171</td>\n",
              "      <td>0.000000</td>\n",
              "      <td>1.342282</td>\n",
              "      <td>89.787705</td>\n",
              "      <td>0.000000</td>\n",
              "      <td>0.303109</td>\n",
              "      <td>0.226426</td>\n",
              "      <td>31.888636</td>\n",
              "      <td>100.000000</td>\n",
              "      <td>92.857143</td>\n",
              "      <td>7.705957</td>\n",
              "    </tr>\n",
              "    <tr>\n",
              "      <th>178</th>\n",
              "      <td>마마166056</td>\n",
              "      <td>0.000000</td>\n",
              "      <td>29.485730</td>\n",
              "      <td>0.000000</td>\n",
              "      <td>0.000000</td>\n",
              "      <td>83.911862</td>\n",
              "      <td>0.000000</td>\n",
              "      <td>21.763229</td>\n",
              "      <td>1.322535</td>\n",
              "      <td>10.735728</td>\n",
              "      <td>100.000000</td>\n",
              "      <td>97.619048</td>\n",
              "      <td>7.223434</td>\n",
              "    </tr>\n",
              "  </tbody>\n",
              "</table>\n",
              "<p>1188 rows × 13 columns</p>\n",
              "</div>"
            ],
            "text/plain": [
              "           gid  7_building    8_child  2_crime_2020  2_crime_2021     감시취약지수  \\\n",
              "323   마라243939    0.000000  95.561588    100.000000    100.000000  43.092866   \n",
              "965   마라243938   27.809702  96.784313     62.326870     65.436242  56.031794   \n",
              "83    마라258935    0.000000  90.966590     69.529086     52.684564  34.953215   \n",
              "234   마라184895   26.482847  95.732968     39.058172     42.617450  78.891237   \n",
              "1054  마마119015    0.000000  93.994305     54.847645     79.865772  99.577422   \n",
              "...        ...         ...        ...           ...           ...        ...   \n",
              "700   마라230927    0.000000  92.198527      0.000000      6.040268  50.286749   \n",
              "604   마라249969    0.000000  88.695460      0.000000      1.006711  18.543113   \n",
              "978   마라179898   25.022813  95.850956      0.000000      1.006711  13.733776   \n",
              "649   마라222898    9.924285  46.211171      0.000000      1.342282  89.787705   \n",
              "178   마마166056    0.000000  29.485730      0.000000      0.000000  83.911862   \n",
              "\n",
              "      2021_부양인구지수  2021_외국인위험지수     유동인구지수   공적감시취약지수      풍속업소지수    대체감시취약지수  \\\n",
              "323      0.000000      0.355272  71.393389  14.039971   53.333333   73.809524   \n",
              "965    100.000000      0.000000  43.429509  24.526024   66.666667   97.619048   \n",
              "83      30.769231      1.209910   6.459903  13.057040   64.444444   95.238095   \n",
              "234      0.000000      0.136399  20.065207  19.761858    0.000000  100.000000   \n",
              "1054   100.000000      0.000000   2.992351  10.021483  100.000000  100.000000   \n",
              "...           ...           ...        ...        ...         ...         ...   \n",
              "700      0.000000      0.311769   0.684761   6.459919  100.000000   90.476190   \n",
              "604      0.000000      0.259808   0.938742  15.468925  100.000000   95.238095   \n",
              "978      0.000000      0.134234   3.460726  15.157432  100.000000   23.809524   \n",
              "649      0.000000      0.303109   0.226426  31.888636  100.000000   92.857143   \n",
              "178      0.000000     21.763229   1.322535  10.735728  100.000000   97.619048   \n",
              "\n",
              "          score  \n",
              "323   68.228769  \n",
              "965   54.070305  \n",
              "83    45.063912  \n",
              "234   43.413217  \n",
              "1054  39.295915  \n",
              "...         ...  \n",
              "700    8.844876  \n",
              "604    8.606585  \n",
              "978    8.317590  \n",
              "649    7.705957  \n",
              "178    7.223434  \n",
              "\n",
              "[1188 rows x 13 columns]"
            ]
          },
          "execution_count": 19,
          "metadata": {},
          "output_type": "execute_result"
        }
      ],
      "source": [
        "test"
      ]
    },
    {
      "cell_type": "code",
      "execution_count": null,
      "id": "informal-inspection",
      "metadata": {
        "id": "informal-inspection"
      },
      "outputs": [],
      "source": [
        "test[:50].to_csv(\"final50.csv\", index=False)"
      ]
    },
    {
      "cell_type": "code",
      "execution_count": null,
      "id": "instrumental-trauma",
      "metadata": {
        "id": "instrumental-trauma",
        "outputId": "9ad8d3c7-2422-4a26-d33d-1cd4b167a8ac"
      },
      "outputs": [
        {
          "name": "stderr",
          "output_type": "stream",
          "text": [
            "/opt/app-root/lib/python3.6/site-packages/geopandas/_compat.py:110: UserWarning: The Shapely GEOS version (3.8.0-CAPI-1.13.1 ) is incompatible with the GEOS version PyGEOS was compiled with (3.9.0-CAPI-1.16.2). Conversions between both will be slow.\n",
            "  shapely_geos_version, geos_capi_version_string\n"
          ]
        },
        {
          "data": {
            "text/html": [
              "<div>\n",
              "<style scoped>\n",
              "    .dataframe tbody tr th:only-of-type {\n",
              "        vertical-align: middle;\n",
              "    }\n",
              "\n",
              "    .dataframe tbody tr th {\n",
              "        vertical-align: top;\n",
              "    }\n",
              "\n",
              "    .dataframe thead th {\n",
              "        text-align: right;\n",
              "    }\n",
              "</style>\n",
              "<table border=\"1\" class=\"dataframe\">\n",
              "  <thead>\n",
              "    <tr style=\"text-align: right;\">\n",
              "      <th></th>\n",
              "      <th>gid</th>\n",
              "      <th>geometry</th>\n",
              "    </tr>\n",
              "  </thead>\n",
              "  <tbody>\n",
              "    <tr>\n",
              "      <th>0</th>\n",
              "      <td>마라231909</td>\n",
              "      <td>MULTIPOLYGON (((128.85237 35.20590, 128.85239 ...</td>\n",
              "    </tr>\n",
              "    <tr>\n",
              "      <th>1</th>\n",
              "      <td>마라154986</td>\n",
              "      <td>MULTIPOLYGON (((128.76888 35.27623, 128.76889 ...</td>\n",
              "    </tr>\n",
              "    <tr>\n",
              "      <th>2</th>\n",
              "      <td>마라213944</td>\n",
              "      <td>MULTIPOLYGON (((128.83312 35.23767, 128.83313 ...</td>\n",
              "    </tr>\n",
              "    <tr>\n",
              "      <th>3</th>\n",
              "      <td>마마105025</td>\n",
              "      <td>MULTIPOLYGON (((128.71554 35.31194, 128.71555 ...</td>\n",
              "    </tr>\n",
              "    <tr>\n",
              "      <th>4</th>\n",
              "      <td>마라202940</td>\n",
              "      <td>MULTIPOLYGON (((128.82097 35.23420, 128.82099 ...</td>\n",
              "    </tr>\n",
              "    <tr>\n",
              "      <th>...</th>\n",
              "      <td>...</td>\n",
              "      <td>...</td>\n",
              "    </tr>\n",
              "    <tr>\n",
              "      <th>46878</th>\n",
              "      <td>마마175064</td>\n",
              "      <td>MULTIPOLYGON (((128.79308 35.34630, 128.79310 ...</td>\n",
              "    </tr>\n",
              "    <tr>\n",
              "      <th>46879</th>\n",
              "      <td>마마210038</td>\n",
              "      <td>MULTIPOLYGON (((128.83121 35.32245, 128.83122 ...</td>\n",
              "    </tr>\n",
              "    <tr>\n",
              "      <th>46880</th>\n",
              "      <td>마라130867</td>\n",
              "      <td>MULTIPOLYGON (((128.74086 35.16923, 128.74087 ...</td>\n",
              "    </tr>\n",
              "    <tr>\n",
              "      <th>46881</th>\n",
              "      <td>마라166953</td>\n",
              "      <td>MULTIPOLYGON (((128.78160 35.24635, 128.78162 ...</td>\n",
              "    </tr>\n",
              "    <tr>\n",
              "      <th>46882</th>\n",
              "      <td>마마289013</td>\n",
              "      <td>MULTIPOLYGON (((128.91770 35.29892, 128.91772 ...</td>\n",
              "    </tr>\n",
              "  </tbody>\n",
              "</table>\n",
              "<p>46883 rows × 2 columns</p>\n",
              "</div>"
            ],
            "text/plain": [
              "            gid                                           geometry\n",
              "0      마라231909  MULTIPOLYGON (((128.85237 35.20590, 128.85239 ...\n",
              "1      마라154986  MULTIPOLYGON (((128.76888 35.27623, 128.76889 ...\n",
              "2      마라213944  MULTIPOLYGON (((128.83312 35.23767, 128.83313 ...\n",
              "3      마마105025  MULTIPOLYGON (((128.71554 35.31194, 128.71555 ...\n",
              "4      마라202940  MULTIPOLYGON (((128.82097 35.23420, 128.82099 ...\n",
              "...         ...                                                ...\n",
              "46878  마마175064  MULTIPOLYGON (((128.79308 35.34630, 128.79310 ...\n",
              "46879  마마210038  MULTIPOLYGON (((128.83121 35.32245, 128.83122 ...\n",
              "46880  마라130867  MULTIPOLYGON (((128.74086 35.16923, 128.74087 ...\n",
              "46881  마라166953  MULTIPOLYGON (((128.78160 35.24635, 128.78162 ...\n",
              "46882  마마289013  MULTIPOLYGON (((128.91770 35.29892, 128.91772 ...\n",
              "\n",
              "[46883 rows x 2 columns]"
            ]
          },
          "execution_count": 21,
          "metadata": {},
          "output_type": "execute_result"
        }
      ],
      "source": [
        "import geopandas as gpd\n",
        "\n",
        "grid = gpd.read_file(\"5.김해시_격자(100X100).geojson\")\n",
        "grid"
      ]
    },
    {
      "cell_type": "code",
      "execution_count": null,
      "id": "palestinian-cotton",
      "metadata": {
        "id": "palestinian-cotton"
      },
      "outputs": [],
      "source": [
        "test_w_loca = pd.merge(test, grid)"
      ]
    },
    {
      "cell_type": "code",
      "execution_count": null,
      "id": "bridal-destruction",
      "metadata": {
        "id": "bridal-destruction"
      },
      "outputs": [],
      "source": [
        "test_w_loca['lon' ] = test_w_loca['geometry'].apply(lambda k: k.centroid.x)\n",
        "test_w_loca['lat' ] = test_w_loca['geometry'].apply(lambda k: k.centroid.y)"
      ]
    },
    {
      "cell_type": "code",
      "execution_count": null,
      "id": "royal-compression",
      "metadata": {
        "id": "royal-compression",
        "outputId": "f8f2dd4d-bb52-4d09-b334-9ac7f783a4b3"
      },
      "outputs": [
        {
          "data": {
            "text/html": [
              "<div>\n",
              "<style scoped>\n",
              "    .dataframe tbody tr th:only-of-type {\n",
              "        vertical-align: middle;\n",
              "    }\n",
              "\n",
              "    .dataframe tbody tr th {\n",
              "        vertical-align: top;\n",
              "    }\n",
              "\n",
              "    .dataframe thead th {\n",
              "        text-align: right;\n",
              "    }\n",
              "</style>\n",
              "<table border=\"1\" class=\"dataframe\">\n",
              "  <thead>\n",
              "    <tr style=\"text-align: right;\">\n",
              "      <th></th>\n",
              "      <th>gid</th>\n",
              "      <th>7_building</th>\n",
              "      <th>8_child</th>\n",
              "      <th>2_crime_2020</th>\n",
              "      <th>2_crime_2021</th>\n",
              "      <th>감시취약지수</th>\n",
              "      <th>2021_부양인구지수</th>\n",
              "      <th>2021_외국인위험지수</th>\n",
              "      <th>유동인구지수</th>\n",
              "      <th>공적감시취약지수</th>\n",
              "      <th>풍속업소지수</th>\n",
              "      <th>대체감시취약지수</th>\n",
              "      <th>score</th>\n",
              "      <th>lon</th>\n",
              "      <th>lat</th>\n",
              "    </tr>\n",
              "  </thead>\n",
              "  <tbody>\n",
              "    <tr>\n",
              "      <th>0</th>\n",
              "      <td>마라243939</td>\n",
              "      <td>0.000000</td>\n",
              "      <td>95.561588</td>\n",
              "      <td>100.000000</td>\n",
              "      <td>100.000000</td>\n",
              "      <td>43.092866</td>\n",
              "      <td>0.000000</td>\n",
              "      <td>0.355272</td>\n",
              "      <td>71.393389</td>\n",
              "      <td>14.039971</td>\n",
              "      <td>53.333333</td>\n",
              "      <td>73.809524</td>\n",
              "      <td>68.228769</td>\n",
              "      <td>128.866561</td>\n",
              "      <td>35.233244</td>\n",
              "    </tr>\n",
              "    <tr>\n",
              "      <th>1</th>\n",
              "      <td>마라243938</td>\n",
              "      <td>27.809702</td>\n",
              "      <td>96.784313</td>\n",
              "      <td>62.326870</td>\n",
              "      <td>65.436242</td>\n",
              "      <td>56.031794</td>\n",
              "      <td>100.000000</td>\n",
              "      <td>0.000000</td>\n",
              "      <td>43.429509</td>\n",
              "      <td>24.526024</td>\n",
              "      <td>66.666667</td>\n",
              "      <td>97.619048</td>\n",
              "      <td>54.070305</td>\n",
              "      <td>128.866545</td>\n",
              "      <td>35.232342</td>\n",
              "    </tr>\n",
              "    <tr>\n",
              "      <th>2</th>\n",
              "      <td>마라258935</td>\n",
              "      <td>0.000000</td>\n",
              "      <td>90.966590</td>\n",
              "      <td>69.529086</td>\n",
              "      <td>52.684564</td>\n",
              "      <td>34.953215</td>\n",
              "      <td>30.769231</td>\n",
              "      <td>1.209910</td>\n",
              "      <td>6.459903</td>\n",
              "      <td>13.057040</td>\n",
              "      <td>64.444444</td>\n",
              "      <td>95.238095</td>\n",
              "      <td>45.063912</td>\n",
              "      <td>128.882980</td>\n",
              "      <td>35.229451</td>\n",
              "    </tr>\n",
              "    <tr>\n",
              "      <th>3</th>\n",
              "      <td>마라184895</td>\n",
              "      <td>26.482847</td>\n",
              "      <td>95.732968</td>\n",
              "      <td>39.058172</td>\n",
              "      <td>42.617450</td>\n",
              "      <td>78.891237</td>\n",
              "      <td>0.000000</td>\n",
              "      <td>0.136399</td>\n",
              "      <td>20.065207</td>\n",
              "      <td>19.761858</td>\n",
              "      <td>0.000000</td>\n",
              "      <td>100.000000</td>\n",
              "      <td>43.413217</td>\n",
              "      <td>128.801104</td>\n",
              "      <td>35.194293</td>\n",
              "    </tr>\n",
              "    <tr>\n",
              "      <th>4</th>\n",
              "      <td>마마119015</td>\n",
              "      <td>0.000000</td>\n",
              "      <td>93.994305</td>\n",
              "      <td>54.847645</td>\n",
              "      <td>79.865772</td>\n",
              "      <td>99.577422</td>\n",
              "      <td>100.000000</td>\n",
              "      <td>0.000000</td>\n",
              "      <td>2.992351</td>\n",
              "      <td>10.021483</td>\n",
              "      <td>100.000000</td>\n",
              "      <td>100.000000</td>\n",
              "      <td>39.295915</td>\n",
              "      <td>128.731355</td>\n",
              "      <td>35.303219</td>\n",
              "    </tr>\n",
              "    <tr>\n",
              "      <th>...</th>\n",
              "      <td>...</td>\n",
              "      <td>...</td>\n",
              "      <td>...</td>\n",
              "      <td>...</td>\n",
              "      <td>...</td>\n",
              "      <td>...</td>\n",
              "      <td>...</td>\n",
              "      <td>...</td>\n",
              "      <td>...</td>\n",
              "      <td>...</td>\n",
              "      <td>...</td>\n",
              "      <td>...</td>\n",
              "      <td>...</td>\n",
              "      <td>...</td>\n",
              "      <td>...</td>\n",
              "    </tr>\n",
              "    <tr>\n",
              "      <th>1183</th>\n",
              "      <td>마라230927</td>\n",
              "      <td>0.000000</td>\n",
              "      <td>92.198527</td>\n",
              "      <td>0.000000</td>\n",
              "      <td>6.040268</td>\n",
              "      <td>50.286749</td>\n",
              "      <td>0.000000</td>\n",
              "      <td>0.311769</td>\n",
              "      <td>0.684761</td>\n",
              "      <td>6.459919</td>\n",
              "      <td>100.000000</td>\n",
              "      <td>90.476190</td>\n",
              "      <td>8.844876</td>\n",
              "      <td>128.852098</td>\n",
              "      <td>35.222587</td>\n",
              "    </tr>\n",
              "    <tr>\n",
              "      <th>1184</th>\n",
              "      <td>마라249969</td>\n",
              "      <td>0.000000</td>\n",
              "      <td>88.695460</td>\n",
              "      <td>0.000000</td>\n",
              "      <td>1.006711</td>\n",
              "      <td>18.543113</td>\n",
              "      <td>0.000000</td>\n",
              "      <td>0.259808</td>\n",
              "      <td>0.938742</td>\n",
              "      <td>15.468925</td>\n",
              "      <td>100.000000</td>\n",
              "      <td>95.238095</td>\n",
              "      <td>8.606585</td>\n",
              "      <td>128.873609</td>\n",
              "      <td>35.260213</td>\n",
              "    </tr>\n",
              "    <tr>\n",
              "      <th>1185</th>\n",
              "      <td>마라179898</td>\n",
              "      <td>25.022813</td>\n",
              "      <td>95.850956</td>\n",
              "      <td>0.000000</td>\n",
              "      <td>1.006711</td>\n",
              "      <td>13.733776</td>\n",
              "      <td>0.000000</td>\n",
              "      <td>0.134234</td>\n",
              "      <td>3.460726</td>\n",
              "      <td>15.157432</td>\n",
              "      <td>100.000000</td>\n",
              "      <td>23.809524</td>\n",
              "      <td>8.317590</td>\n",
              "      <td>128.795656</td>\n",
              "      <td>35.197057</td>\n",
              "    </tr>\n",
              "    <tr>\n",
              "      <th>1186</th>\n",
              "      <td>마라222898</td>\n",
              "      <td>9.924285</td>\n",
              "      <td>46.211171</td>\n",
              "      <td>0.000000</td>\n",
              "      <td>1.342282</td>\n",
              "      <td>89.787705</td>\n",
              "      <td>0.000000</td>\n",
              "      <td>0.303109</td>\n",
              "      <td>0.226426</td>\n",
              "      <td>31.888636</td>\n",
              "      <td>100.000000</td>\n",
              "      <td>92.857143</td>\n",
              "      <td>7.705957</td>\n",
              "      <td>128.842879</td>\n",
              "      <td>35.196542</td>\n",
              "    </tr>\n",
              "    <tr>\n",
              "      <th>1187</th>\n",
              "      <td>마마166056</td>\n",
              "      <td>0.000000</td>\n",
              "      <td>29.485730</td>\n",
              "      <td>0.000000</td>\n",
              "      <td>0.000000</td>\n",
              "      <td>83.911862</td>\n",
              "      <td>0.000000</td>\n",
              "      <td>21.763229</td>\n",
              "      <td>1.322535</td>\n",
              "      <td>10.735728</td>\n",
              "      <td>100.000000</td>\n",
              "      <td>97.619048</td>\n",
              "      <td>7.223434</td>\n",
              "      <td>128.783624</td>\n",
              "      <td>35.339642</td>\n",
              "    </tr>\n",
              "  </tbody>\n",
              "</table>\n",
              "<p>1188 rows × 15 columns</p>\n",
              "</div>"
            ],
            "text/plain": [
              "           gid  7_building    8_child  2_crime_2020  2_crime_2021     감시취약지수  \\\n",
              "0     마라243939    0.000000  95.561588    100.000000    100.000000  43.092866   \n",
              "1     마라243938   27.809702  96.784313     62.326870     65.436242  56.031794   \n",
              "2     마라258935    0.000000  90.966590     69.529086     52.684564  34.953215   \n",
              "3     마라184895   26.482847  95.732968     39.058172     42.617450  78.891237   \n",
              "4     마마119015    0.000000  93.994305     54.847645     79.865772  99.577422   \n",
              "...        ...         ...        ...           ...           ...        ...   \n",
              "1183  마라230927    0.000000  92.198527      0.000000      6.040268  50.286749   \n",
              "1184  마라249969    0.000000  88.695460      0.000000      1.006711  18.543113   \n",
              "1185  마라179898   25.022813  95.850956      0.000000      1.006711  13.733776   \n",
              "1186  마라222898    9.924285  46.211171      0.000000      1.342282  89.787705   \n",
              "1187  마마166056    0.000000  29.485730      0.000000      0.000000  83.911862   \n",
              "\n",
              "      2021_부양인구지수  2021_외국인위험지수     유동인구지수   공적감시취약지수      풍속업소지수    대체감시취약지수  \\\n",
              "0        0.000000      0.355272  71.393389  14.039971   53.333333   73.809524   \n",
              "1      100.000000      0.000000  43.429509  24.526024   66.666667   97.619048   \n",
              "2       30.769231      1.209910   6.459903  13.057040   64.444444   95.238095   \n",
              "3        0.000000      0.136399  20.065207  19.761858    0.000000  100.000000   \n",
              "4      100.000000      0.000000   2.992351  10.021483  100.000000  100.000000   \n",
              "...           ...           ...        ...        ...         ...         ...   \n",
              "1183     0.000000      0.311769   0.684761   6.459919  100.000000   90.476190   \n",
              "1184     0.000000      0.259808   0.938742  15.468925  100.000000   95.238095   \n",
              "1185     0.000000      0.134234   3.460726  15.157432  100.000000   23.809524   \n",
              "1186     0.000000      0.303109   0.226426  31.888636  100.000000   92.857143   \n",
              "1187     0.000000     21.763229   1.322535  10.735728  100.000000   97.619048   \n",
              "\n",
              "          score         lon        lat  \n",
              "0     68.228769  128.866561  35.233244  \n",
              "1     54.070305  128.866545  35.232342  \n",
              "2     45.063912  128.882980  35.229451  \n",
              "3     43.413217  128.801104  35.194293  \n",
              "4     39.295915  128.731355  35.303219  \n",
              "...         ...         ...        ...  \n",
              "1183   8.844876  128.852098  35.222587  \n",
              "1184   8.606585  128.873609  35.260213  \n",
              "1185   8.317590  128.795656  35.197057  \n",
              "1186   7.705957  128.842879  35.196542  \n",
              "1187   7.223434  128.783624  35.339642  \n",
              "\n",
              "[1188 rows x 15 columns]"
            ]
          },
          "execution_count": 44,
          "metadata": {},
          "output_type": "execute_result"
        }
      ],
      "source": [
        "test_w_loca.drop(['geometry'], axis=1, inplace=True)\n",
        "test_w_loca = test_w_loca[:50]"
      ]
    },
    {
      "cell_type": "code",
      "execution_count": null,
      "id": "weighted-granny",
      "metadata": {
        "id": "weighted-granny"
      },
      "outputs": [],
      "source": [
        "test_w_loca.to_csv(\"final50wloca.csv\", index=False)"
      ]
    },
    {
      "cell_type": "markdown",
      "id": "continued-quantity",
      "metadata": {
        "id": "continued-quantity"
      },
      "source": [
        "## 가능한 위치인지 확인"
      ]
    },
    {
      "cell_type": "code",
      "execution_count": null,
      "id": "danish-explanation",
      "metadata": {
        "id": "danish-explanation",
        "outputId": "01fe44da-8156-404f-8d4d-d46a8ba20a41"
      },
      "outputs": [
        {
          "name": "stderr",
          "output_type": "stream",
          "text": [
            "/opt/app-root/lib/python3.6/site-packages/geopandas/_compat.py:110: UserWarning: The Shapely GEOS version (3.8.0-CAPI-1.13.1 ) is incompatible with the GEOS version PyGEOS was compiled with (3.9.0-CAPI-1.16.2). Conversions between both will be slow.\n",
            "  shapely_geos_version, geos_capi_version_string\n"
          ]
        }
      ],
      "source": [
        "import geopandas as gpd\n",
        "import pandas as pd\n",
        "\n",
        "road = gpd.read_file(\"도로폭.geojson\")\n",
        "grid = gpd.read_file(\"5.김해시_격자(100X100).geojson\")\n",
        "candidate = pd.read_csv(\"final50wloca.csv\")"
      ]
    },
    {
      "cell_type": "code",
      "execution_count": null,
      "id": "planned-venture",
      "metadata": {
        "id": "planned-venture"
      },
      "outputs": [],
      "source": [
        "road"
      ]
    },
    {
      "cell_type": "code",
      "execution_count": null,
      "id": "alone-bowling",
      "metadata": {
        "id": "alone-bowling"
      },
      "outputs": [],
      "source": [
        "candidate = candidate[:50]"
      ]
    },
    {
      "cell_type": "code",
      "execution_count": null,
      "id": "desperate-assessment",
      "metadata": {
        "id": "desperate-assessment"
      },
      "outputs": [],
      "source": [
        "from shapely.geometry import Point\n",
        "\n",
        "final_loca = []\n",
        "for i, row in candidate.iterrows():\n",
        "    flag = 0\n",
        "    loca = Point(row['lon'],row['lat'])\n",
        "    for I, Row in road.iterrows():\n",
        "        r = Row['geometry']\n",
        "        if r.contains(loca): \n",
        "            flag = 1\n",
        "            break\n",
        "    print(i)\n",
        "    if flag == 0:\n",
        "        final_loca.append(loca)\n",
        "    else:\n",
        "        final_loca.append(-1)\n",
        "            "
      ]
    },
    {
      "cell_type": "code",
      "execution_count": null,
      "id": "fossil-season",
      "metadata": {
        "id": "fossil-season"
      },
      "outputs": [],
      "source": [
        "final_loca"
      ]
    },
    {
      "cell_type": "code",
      "execution_count": null,
      "id": "distant-viewer",
      "metadata": {
        "id": "distant-viewer"
      },
      "outputs": [],
      "source": [
        "river = gpd.read_file(\"../Data/9.김해시_하천현황.geojson\")"
      ]
    },
    {
      "cell_type": "code",
      "execution_count": null,
      "id": "serious-origin",
      "metadata": {
        "id": "serious-origin"
      },
      "outputs": [],
      "source": [
        "river"
      ]
    },
    {
      "cell_type": "code",
      "execution_count": null,
      "id": "heard-validation",
      "metadata": {
        "id": "heard-validation"
      },
      "outputs": [],
      "source": [
        "from shapely.geometry import Point\n",
        "\n",
        "final_loca = []\n",
        "for i, row in candidate.iterrows():\n",
        "    flag = 0\n",
        "    loca = Point(row['lon'],row['lat'])\n",
        "    for I, Row in river.iterrows():\n",
        "        r = Row['geometry']\n",
        "        if r.contains(loca): \n",
        "            flag = 1\n",
        "            break\n",
        "    print(i)\n",
        "    if flag == 0:\n",
        "        final_loca.append(loca)\n",
        "    else:\n",
        "        final_loca.append(-1)\n",
        "            "
      ]
    },
    {
      "cell_type": "code",
      "execution_count": null,
      "id": "moving-mills",
      "metadata": {
        "id": "moving-mills",
        "outputId": "545d64d1-eb2f-46fc-f42d-69e8e03a4e8d"
      },
      "outputs": [
        {
          "name": "stderr",
          "output_type": "stream",
          "text": [
            "/opt/app-root/lib/python3.6/site-packages/ipykernel_launcher.py:1: SettingWithCopyWarning: \n",
            "A value is trying to be set on a copy of a slice from a DataFrame.\n",
            "Try using .loc[row_indexer,col_indexer] = value instead\n",
            "\n",
            "See the caveats in the documentation: https://pandas.pydata.org/pandas-docs/stable/user_guide/indexing.html#returning-a-view-versus-a-copy\n",
            "  \"\"\"Entry point for launching an IPython kernel.\n"
          ]
        }
      ],
      "source": [
        "candidate['river'] = final_loca"
      ]
    },
    {
      "cell_type": "code",
      "execution_count": null,
      "id": "military-nurse",
      "metadata": {
        "id": "military-nurse"
      },
      "outputs": [],
      "source": [
        "candidate"
      ]
    },
    {
      "cell_type": "code",
      "execution_count": null,
      "id": "metallic-myanmar",
      "metadata": {
        "id": "metallic-myanmar"
      },
      "outputs": [],
      "source": [
        "building = gpd.read_file(\"../Data/12.김해시_건물노후도.geojson\")"
      ]
    },
    {
      "cell_type": "code",
      "execution_count": null,
      "id": "distinguished-roads",
      "metadata": {
        "id": "distinguished-roads"
      },
      "outputs": [],
      "source": [
        "building"
      ]
    },
    {
      "cell_type": "code",
      "execution_count": null,
      "id": "going-absorption",
      "metadata": {
        "id": "going-absorption"
      },
      "outputs": [],
      "source": [
        "from shapely.geometry import Point, Polygon\n",
        "import random\n",
        "from operator import itemgetter\n",
        "\n",
        "polys = list(building['geometry'])\n",
        "point = Point(candidate.loc[candidate['gid']=='마라280954',['lon']].iloc[0],candidate.loc[candidate['gid']=='마라280954',['lat']].iloc[0])\n",
        "min_distance, min_poly = min(((poly.distance(point), poly) for poly in polys), key=itemgetter(0))"
      ]
    },
    {
      "cell_type": "code",
      "execution_count": null,
      "id": "every-channels",
      "metadata": {
        "id": "every-channels",
        "outputId": "9a3959c6-584d-4bdf-9fe1-eea7f66bb167"
      },
      "outputs": [
        {
          "data": {
            "text/plain": [
              "128.9071862984705"
            ]
          },
          "execution_count": 77,
          "metadata": {},
          "output_type": "execute_result"
        }
      ],
      "source": [
        "min_poly.centroid.x"
      ]
    },
    {
      "cell_type": "code",
      "execution_count": null,
      "id": "communist-pound",
      "metadata": {
        "id": "communist-pound",
        "outputId": "870afca2-95d4-4a1d-dc90-8e8e33a91144"
      },
      "outputs": [
        {
          "name": "stderr",
          "output_type": "stream",
          "text": [
            "/opt/app-root/lib/python3.6/site-packages/pandas/core/frame.py:4174: SettingWithCopyWarning: \n",
            "A value is trying to be set on a copy of a slice from a DataFrame\n",
            "\n",
            "See the caveats in the documentation: https://pandas.pydata.org/pandas-docs/stable/user_guide/indexing.html#returning-a-view-versus-a-copy\n",
            "  errors=errors,\n"
          ]
        }
      ],
      "source": [
        "candidate.drop(['river'], axis=1, inplace=True)"
      ]
    },
    {
      "cell_type": "code",
      "execution_count": null,
      "id": "looking-offset",
      "metadata": {
        "id": "looking-offset",
        "outputId": "76c4fdcc-cbb3-4fad-ec66-0c95d3ac080a"
      },
      "outputs": [
        {
          "name": "stderr",
          "output_type": "stream",
          "text": [
            "/opt/app-root/lib/python3.6/site-packages/pandas/core/indexing.py:1758: SettingWithCopyWarning: \n",
            "A value is trying to be set on a copy of a slice from a DataFrame.\n",
            "Try using .loc[row_indexer,col_indexer] = value instead\n",
            "\n",
            "See the caveats in the documentation: https://pandas.pydata.org/pandas-docs/stable/user_guide/indexing.html#returning-a-view-versus-a-copy\n",
            "  isetter(loc, v)\n"
          ]
        }
      ],
      "source": [
        "candidate.loc[candidate['gid']=='마라280954',['lon','lat']] = min_poly.centroid.x, min_poly.centroid.y"
      ]
    },
    {
      "cell_type": "code",
      "execution_count": null,
      "id": "accurate-peninsula",
      "metadata": {
        "id": "accurate-peninsula",
        "outputId": "a05430b2-bd52-4884-a8b9-fd406645c218"
      },
      "outputs": [
        {
          "data": {
            "text/html": [
              "<div>\n",
              "<style scoped>\n",
              "    .dataframe tbody tr th:only-of-type {\n",
              "        vertical-align: middle;\n",
              "    }\n",
              "\n",
              "    .dataframe tbody tr th {\n",
              "        vertical-align: top;\n",
              "    }\n",
              "\n",
              "    .dataframe thead th {\n",
              "        text-align: right;\n",
              "    }\n",
              "</style>\n",
              "<table border=\"1\" class=\"dataframe\">\n",
              "  <thead>\n",
              "    <tr style=\"text-align: right;\">\n",
              "      <th></th>\n",
              "      <th>gid</th>\n",
              "      <th>7_building</th>\n",
              "      <th>8_child</th>\n",
              "      <th>2_crime_2020</th>\n",
              "      <th>2_crime_2021</th>\n",
              "      <th>감시취약지수</th>\n",
              "      <th>2021_부양인구지수</th>\n",
              "      <th>2021_외국인위험지수</th>\n",
              "      <th>유동인구지수</th>\n",
              "      <th>공적감시취약지수</th>\n",
              "      <th>풍속업소지수</th>\n",
              "      <th>대체감시취약지수</th>\n",
              "      <th>score</th>\n",
              "      <th>lon</th>\n",
              "      <th>lat</th>\n",
              "    </tr>\n",
              "  </thead>\n",
              "  <tbody>\n",
              "    <tr>\n",
              "      <th>8</th>\n",
              "      <td>마라280954</td>\n",
              "      <td>0.0</td>\n",
              "      <td>95.060473</td>\n",
              "      <td>36.288089</td>\n",
              "      <td>49.66443</td>\n",
              "      <td>99.989939</td>\n",
              "      <td>5.633803</td>\n",
              "      <td>0.75257</td>\n",
              "      <td>12.01278</td>\n",
              "      <td>1.230689</td>\n",
              "      <td>91.111111</td>\n",
              "      <td>100.0</td>\n",
              "      <td>28.106008</td>\n",
              "      <td>128.907186</td>\n",
              "      <td>35.246233</td>\n",
              "    </tr>\n",
              "  </tbody>\n",
              "</table>\n",
              "</div>"
            ],
            "text/plain": [
              "        gid  7_building    8_child  2_crime_2020  2_crime_2021     감시취약지수  \\\n",
              "8  마라280954         0.0  95.060473     36.288089      49.66443  99.989939   \n",
              "\n",
              "   2021_부양인구지수  2021_외국인위험지수    유동인구지수  공적감시취약지수     풍속업소지수  대체감시취약지수  \\\n",
              "8     5.633803       0.75257  12.01278  1.230689  91.111111     100.0   \n",
              "\n",
              "       score         lon        lat  \n",
              "8  28.106008  128.907186  35.246233  "
            ]
          },
          "execution_count": 87,
          "metadata": {},
          "output_type": "execute_result"
        }
      ],
      "source": [
        "candidate.loc[candidate['gid']=='마라280954'] "
      ]
    },
    {
      "cell_type": "code",
      "execution_count": null,
      "id": "obvious-outline",
      "metadata": {
        "id": "obvious-outline"
      },
      "outputs": [],
      "source": [
        "candidate,to_csv(\"realrealfinal50.csv\", index=False)"
      ]
    }
  ],
  "metadata": {
    "kernelspec": {
      "display_name": "Python 3",
      "language": "python",
      "name": "python3"
    },
    "language_info": {
      "codemirror_mode": {
        "name": "ipython",
        "version": 3
      },
      "file_extension": ".py",
      "mimetype": "text/x-python",
      "name": "python",
      "nbconvert_exporter": "python",
      "pygments_lexer": "ipython3",
      "version": "3.6.9"
    },
    "colab": {
      "provenance": []
    }
  },
  "nbformat": 4,
  "nbformat_minor": 5
}