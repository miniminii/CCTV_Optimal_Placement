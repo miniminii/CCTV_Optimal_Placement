{
  "nbformat": 4,
  "nbformat_minor": 0,
  "metadata": {
    "colab": {
      "provenance": []
    },
    "kernelspec": {
      "name": "python3",
      "display_name": "Python 3"
    },
    "language_info": {
      "name": "python"
    }
  },
  "cells": [
    {
      "cell_type": "code",
      "source": [
        "!pip install geopandas"
      ],
      "metadata": {
        "id": "bU1DIfesIl9P"
      },
      "execution_count": null,
      "outputs": []
    },
    {
      "cell_type": "code",
      "execution_count": null,
      "metadata": {
        "id": "DYJs2BAXIiN-"
      },
      "outputs": [],
      "source": [
        "import pandas as pd\n",
        "from glob import glob\n",
        "import os\n",
        "import numpy as np\n",
        "from tqdm import tqdm, tqdm_notebook\n",
        "import json\n",
        "import geopandas as gpd"
      ]
    },
    {
      "cell_type": "code",
      "source": [
        "df = gpd.read_file('/content/drive/MyDrive/LH/raw data/10.김해시_성연령별_거주인구격자.geojson')"
      ],
      "metadata": {
        "id": "wEDgHnuxIuMS"
      },
      "execution_count": null,
      "outputs": []
    },
    {
      "cell_type": "code",
      "source": [
        "np.mean(df['2018_m_0g_pop'])"
      ],
      "metadata": {
        "colab": {
          "base_uri": "https://localhost:8080/"
        },
        "id": "MFwMHZDGJO79",
        "outputId": "e352c155-5a97-4cb0-be83-69109f0f885a"
      },
      "execution_count": null,
      "outputs": [
        {
          "output_type": "execute_result",
          "data": {
            "text/plain": [
              "0.9915321118529105"
            ]
          },
          "metadata": {},
          "execution_count": 10
        }
      ]
    },
    {
      "cell_type": "code",
      "source": [
        "df['2020_유소년'] = df['2020_m_0g_pop']+df['2020_w_0g_pop']\n",
        "df['2020_생산가능'] = df['2020_m_20g_pop'] + df['2020_w_20g_pop']+df['2020_m_30g_pop'] + df['2020_w_30g_pop']+df['2020_m_40g_pop'] + df['2020_w_40g_pop']+df['2020_m_50g_pop'] + df['2020_w_50g_pop']+df['2020_m_60g_pop'] + df['2020_w_60g_pop']\n",
        "df['2020_고령'] = df['2020_m_70g_pop']+df['2020_w_70g_pop']\n",
        "df['2020_전체거주인구'] = df['2020_유소년']+df['2020_생산가능']+df['2020_고령']"
      ],
      "metadata": {
        "id": "tG2W_0YvI-s9"
      },
      "execution_count": null,
      "outputs": []
    },
    {
      "cell_type": "code",
      "source": [
        "df['2021_유소년'] = df['2021_m_0g_pop']+df['2021_w_0g_pop']\n",
        "df['2021_생산가능'] = df['2021_m_20g_pop'] + df['2021_w_20g_pop']+df['2021_m_30g_pop'] + df['2021_w_30g_pop']+df['2021_m_40g_pop'] + df['2021_w_40g_pop']+df['2021_m_50g_pop'] + df['2021_w_50g_pop']+df['2021_m_60g_pop'] + df['2021_w_60g_pop']\n",
        "df['2021_고령'] = df['2021_m_70g_pop']+df['2021_w_70g_pop']\n",
        "df['2021_전체거주인구'] =df['2021_유소년']+df['2021_생산가능']+df['2021_고령']"
      ],
      "metadata": {
        "id": "DVZMw_ILJBA4"
      },
      "execution_count": null,
      "outputs": []
    },
    {
      "cell_type": "code",
      "source": [
        "df = df[['gid','geometry','2020_유소년','2020_생산가능','2020_고령','2020_전체거주인구','2021_유소년','2021_생산가능','2021_고령','2021_전체거주인구']]"
      ],
      "metadata": {
        "id": "vbC781ukJCTO"
      },
      "execution_count": null,
      "outputs": []
    },
    {
      "cell_type": "code",
      "source": [
        "df"
      ],
      "metadata": {
        "id": "hXMtdnlAgp2s"
      },
      "execution_count": null,
      "outputs": []
    },
    {
      "cell_type": "code",
      "source": [
        "df['2020_부양인구지수'] = (df['2020_유소년']+df['2020_고령'])/df['2020_전체거주인구']\n",
        "df['2021_부양인구지수'] = (df['2021_유소년']+df['2021_고령'])/df['2021_전체거주인구']"
      ],
      "metadata": {
        "colab": {
          "base_uri": "https://localhost:8080/"
        },
        "id": "vCYK4oAcJFIf",
        "outputId": "7a7afc73-e301-48bd-d2a7-febbc0329bd2"
      },
      "execution_count": null,
      "outputs": [
        {
          "output_type": "stream",
          "name": "stderr",
          "text": [
            "/usr/local/lib/python3.7/dist-packages/geopandas/geodataframe.py:1351: SettingWithCopyWarning: \n",
            "A value is trying to be set on a copy of a slice from a DataFrame.\n",
            "Try using .loc[row_indexer,col_indexer] = value instead\n",
            "\n",
            "See the caveats in the documentation: https://pandas.pydata.org/pandas-docs/stable/user_guide/indexing.html#returning-a-view-versus-a-copy\n",
            "  super().__setitem__(key, value)\n"
          ]
        }
      ]
    },
    {
      "cell_type": "code",
      "source": [
        "new = df[['gid','geometry','2020_부양인구지수','2021_부양인구지수']]\n",
        "new = new.fillna(0)\n",
        "new"
      ],
      "metadata": {
        "colab": {
          "base_uri": "https://localhost:8080/",
          "height": 424
        },
        "id": "We_Xf5iyJs9R",
        "outputId": "824314ef-f72b-475a-9ef6-ae451919a6f8"
      },
      "execution_count": null,
      "outputs": [
        {
          "output_type": "execute_result",
          "data": {
            "text/plain": [
              "            gid                                           geometry  \\\n",
              "0      마라094999  POLYGON ((128.70309 35.28863, 128.70311 35.289...   \n",
              "1      마라095991  POLYGON ((128.70409 35.28140, 128.70410 35.282...   \n",
              "2      마라095992  POLYGON ((128.70410 35.28231, 128.70411 35.283...   \n",
              "3      마라095993  POLYGON ((128.70411 35.28321, 128.70413 35.284...   \n",
              "4      마라095994  POLYGON ((128.70413 35.28411, 128.70414 35.285...   \n",
              "...         ...                                                ...   \n",
              "46878  마마363001  POLYGON ((128.99887 35.28713, 128.99889 35.288...   \n",
              "46879  마마363002  POLYGON ((128.99889 35.28803, 128.99890 35.288...   \n",
              "46880  마마364000  POLYGON ((128.99995 35.28621, 128.99997 35.287...   \n",
              "46881  마마364001  POLYGON ((128.99997 35.28711, 128.99998 35.288...   \n",
              "46882  마마365000  POLYGON ((129.00105 35.28620, 129.00107 35.287...   \n",
              "\n",
              "       2020_부양인구지수  2021_부양인구지수  \n",
              "0              0.0          0.0  \n",
              "1              0.0          0.0  \n",
              "2              0.0          0.0  \n",
              "3              0.0          0.0  \n",
              "4              0.0          0.0  \n",
              "...            ...          ...  \n",
              "46878          0.0          0.0  \n",
              "46879          0.0          0.0  \n",
              "46880          0.0          0.0  \n",
              "46881          0.0          0.0  \n",
              "46882          0.0          0.0  \n",
              "\n",
              "[46883 rows x 4 columns]"
            ],
            "text/html": [
              "\n",
              "  <div id=\"df-2d25d298-9cf3-40c3-bc3c-a7974e8e9d0a\">\n",
              "    <div class=\"colab-df-container\">\n",
              "      <div>\n",
              "<style scoped>\n",
              "    .dataframe tbody tr th:only-of-type {\n",
              "        vertical-align: middle;\n",
              "    }\n",
              "\n",
              "    .dataframe tbody tr th {\n",
              "        vertical-align: top;\n",
              "    }\n",
              "\n",
              "    .dataframe thead th {\n",
              "        text-align: right;\n",
              "    }\n",
              "</style>\n",
              "<table border=\"1\" class=\"dataframe\">\n",
              "  <thead>\n",
              "    <tr style=\"text-align: right;\">\n",
              "      <th></th>\n",
              "      <th>gid</th>\n",
              "      <th>geometry</th>\n",
              "      <th>2020_부양인구지수</th>\n",
              "      <th>2021_부양인구지수</th>\n",
              "    </tr>\n",
              "  </thead>\n",
              "  <tbody>\n",
              "    <tr>\n",
              "      <th>0</th>\n",
              "      <td>마라094999</td>\n",
              "      <td>POLYGON ((128.70309 35.28863, 128.70311 35.289...</td>\n",
              "      <td>0.0</td>\n",
              "      <td>0.0</td>\n",
              "    </tr>\n",
              "    <tr>\n",
              "      <th>1</th>\n",
              "      <td>마라095991</td>\n",
              "      <td>POLYGON ((128.70409 35.28140, 128.70410 35.282...</td>\n",
              "      <td>0.0</td>\n",
              "      <td>0.0</td>\n",
              "    </tr>\n",
              "    <tr>\n",
              "      <th>2</th>\n",
              "      <td>마라095992</td>\n",
              "      <td>POLYGON ((128.70410 35.28231, 128.70411 35.283...</td>\n",
              "      <td>0.0</td>\n",
              "      <td>0.0</td>\n",
              "    </tr>\n",
              "    <tr>\n",
              "      <th>3</th>\n",
              "      <td>마라095993</td>\n",
              "      <td>POLYGON ((128.70411 35.28321, 128.70413 35.284...</td>\n",
              "      <td>0.0</td>\n",
              "      <td>0.0</td>\n",
              "    </tr>\n",
              "    <tr>\n",
              "      <th>4</th>\n",
              "      <td>마라095994</td>\n",
              "      <td>POLYGON ((128.70413 35.28411, 128.70414 35.285...</td>\n",
              "      <td>0.0</td>\n",
              "      <td>0.0</td>\n",
              "    </tr>\n",
              "    <tr>\n",
              "      <th>...</th>\n",
              "      <td>...</td>\n",
              "      <td>...</td>\n",
              "      <td>...</td>\n",
              "      <td>...</td>\n",
              "    </tr>\n",
              "    <tr>\n",
              "      <th>46878</th>\n",
              "      <td>마마363001</td>\n",
              "      <td>POLYGON ((128.99887 35.28713, 128.99889 35.288...</td>\n",
              "      <td>0.0</td>\n",
              "      <td>0.0</td>\n",
              "    </tr>\n",
              "    <tr>\n",
              "      <th>46879</th>\n",
              "      <td>마마363002</td>\n",
              "      <td>POLYGON ((128.99889 35.28803, 128.99890 35.288...</td>\n",
              "      <td>0.0</td>\n",
              "      <td>0.0</td>\n",
              "    </tr>\n",
              "    <tr>\n",
              "      <th>46880</th>\n",
              "      <td>마마364000</td>\n",
              "      <td>POLYGON ((128.99995 35.28621, 128.99997 35.287...</td>\n",
              "      <td>0.0</td>\n",
              "      <td>0.0</td>\n",
              "    </tr>\n",
              "    <tr>\n",
              "      <th>46881</th>\n",
              "      <td>마마364001</td>\n",
              "      <td>POLYGON ((128.99997 35.28711, 128.99998 35.288...</td>\n",
              "      <td>0.0</td>\n",
              "      <td>0.0</td>\n",
              "    </tr>\n",
              "    <tr>\n",
              "      <th>46882</th>\n",
              "      <td>마마365000</td>\n",
              "      <td>POLYGON ((129.00105 35.28620, 129.00107 35.287...</td>\n",
              "      <td>0.0</td>\n",
              "      <td>0.0</td>\n",
              "    </tr>\n",
              "  </tbody>\n",
              "</table>\n",
              "<p>46883 rows × 4 columns</p>\n",
              "</div>\n",
              "      <button class=\"colab-df-convert\" onclick=\"convertToInteractive('df-2d25d298-9cf3-40c3-bc3c-a7974e8e9d0a')\"\n",
              "              title=\"Convert this dataframe to an interactive table.\"\n",
              "              style=\"display:none;\">\n",
              "        \n",
              "  <svg xmlns=\"http://www.w3.org/2000/svg\" height=\"24px\"viewBox=\"0 0 24 24\"\n",
              "       width=\"24px\">\n",
              "    <path d=\"M0 0h24v24H0V0z\" fill=\"none\"/>\n",
              "    <path d=\"M18.56 5.44l.94 2.06.94-2.06 2.06-.94-2.06-.94-.94-2.06-.94 2.06-2.06.94zm-11 1L8.5 8.5l.94-2.06 2.06-.94-2.06-.94L8.5 2.5l-.94 2.06-2.06.94zm10 10l.94 2.06.94-2.06 2.06-.94-2.06-.94-.94-2.06-.94 2.06-2.06.94z\"/><path d=\"M17.41 7.96l-1.37-1.37c-.4-.4-.92-.59-1.43-.59-.52 0-1.04.2-1.43.59L10.3 9.45l-7.72 7.72c-.78.78-.78 2.05 0 2.83L4 21.41c.39.39.9.59 1.41.59.51 0 1.02-.2 1.41-.59l7.78-7.78 2.81-2.81c.8-.78.8-2.07 0-2.86zM5.41 20L4 18.59l7.72-7.72 1.47 1.35L5.41 20z\"/>\n",
              "  </svg>\n",
              "      </button>\n",
              "      \n",
              "  <style>\n",
              "    .colab-df-container {\n",
              "      display:flex;\n",
              "      flex-wrap:wrap;\n",
              "      gap: 12px;\n",
              "    }\n",
              "\n",
              "    .colab-df-convert {\n",
              "      background-color: #E8F0FE;\n",
              "      border: none;\n",
              "      border-radius: 50%;\n",
              "      cursor: pointer;\n",
              "      display: none;\n",
              "      fill: #1967D2;\n",
              "      height: 32px;\n",
              "      padding: 0 0 0 0;\n",
              "      width: 32px;\n",
              "    }\n",
              "\n",
              "    .colab-df-convert:hover {\n",
              "      background-color: #E2EBFA;\n",
              "      box-shadow: 0px 1px 2px rgba(60, 64, 67, 0.3), 0px 1px 3px 1px rgba(60, 64, 67, 0.15);\n",
              "      fill: #174EA6;\n",
              "    }\n",
              "\n",
              "    [theme=dark] .colab-df-convert {\n",
              "      background-color: #3B4455;\n",
              "      fill: #D2E3FC;\n",
              "    }\n",
              "\n",
              "    [theme=dark] .colab-df-convert:hover {\n",
              "      background-color: #434B5C;\n",
              "      box-shadow: 0px 1px 3px 1px rgba(0, 0, 0, 0.15);\n",
              "      filter: drop-shadow(0px 1px 2px rgba(0, 0, 0, 0.3));\n",
              "      fill: #FFFFFF;\n",
              "    }\n",
              "  </style>\n",
              "\n",
              "      <script>\n",
              "        const buttonEl =\n",
              "          document.querySelector('#df-2d25d298-9cf3-40c3-bc3c-a7974e8e9d0a button.colab-df-convert');\n",
              "        buttonEl.style.display =\n",
              "          google.colab.kernel.accessAllowed ? 'block' : 'none';\n",
              "\n",
              "        async function convertToInteractive(key) {\n",
              "          const element = document.querySelector('#df-2d25d298-9cf3-40c3-bc3c-a7974e8e9d0a');\n",
              "          const dataTable =\n",
              "            await google.colab.kernel.invokeFunction('convertToInteractive',\n",
              "                                                     [key], {});\n",
              "          if (!dataTable) return;\n",
              "\n",
              "          const docLinkHtml = 'Like what you see? Visit the ' +\n",
              "            '<a target=\"_blank\" href=https://colab.research.google.com/notebooks/data_table.ipynb>data table notebook</a>'\n",
              "            + ' to learn more about interactive tables.';\n",
              "          element.innerHTML = '';\n",
              "          dataTable['output_type'] = 'display_data';\n",
              "          await google.colab.output.renderOutput(dataTable, element);\n",
              "          const docLink = document.createElement('div');\n",
              "          docLink.innerHTML = docLinkHtml;\n",
              "          element.appendChild(docLink);\n",
              "        }\n",
              "      </script>\n",
              "    </div>\n",
              "  </div>\n",
              "  "
            ]
          },
          "metadata": {},
          "execution_count": 16
        }
      ]
    },
    {
      "cell_type": "code",
      "source": [
        "from sklearn.preprocessing import  MinMaxScaler\n",
        "scaler = MinMaxScaler()\n",
        "scaled1= scaler.fit_transform(new[['2020_부양인구지수']].values) * 100\n",
        "scaled2= scaler.fit_transform(new[['2021_부양인구지수']].values) * 100\n",
        "df = pd.DataFrame(scaled1)\n",
        "df2= pd.DataFrame(scaled2)\n",
        "df3= pd.concat([df,df2],axis=1)"
      ],
      "metadata": {
        "id": "CGJO_hmZYkRD"
      },
      "execution_count": null,
      "outputs": []
    },
    {
      "cell_type": "code",
      "source": [
        "df3.columns = ['2020_부양인구지수','2021_부양인구지수']"
      ],
      "metadata": {
        "id": "cdi_aK9bcRMl"
      },
      "execution_count": null,
      "outputs": []
    },
    {
      "cell_type": "code",
      "source": [
        "total = pd.concat([new[['gid','geometry']],df3],axis=1)"
      ],
      "metadata": {
        "id": "LKEyZTu4ccop"
      },
      "execution_count": null,
      "outputs": []
    },
    {
      "cell_type": "code",
      "source": [
        "total.to_csv('/content/drive/MyDrive/LH/complete data/격자별_부양인구지수.csv', index=False)"
      ],
      "metadata": {
        "id": "n0I9nx5KhB2c"
      },
      "execution_count": null,
      "outputs": []
    },
    {
      "cell_type": "markdown",
      "source": [
        "## 외국인위험지수"
      ],
      "metadata": {
        "id": "HGQ2CuoCg5e1"
      }
    },
    {
      "cell_type": "code",
      "source": [
        "foreign_df = gpd.read_file('/content/drive/MyDrive/LH/raw data/11.김해시_외국인 읍면동별 격자.geojson')"
      ],
      "metadata": {
        "id": "c-XiYpMngtAi"
      },
      "execution_count": null,
      "outputs": []
    },
    {
      "cell_type": "code",
      "source": [
        "tqdm.pandas()\n",
        "foreign_df['2020_생산가능']  = foreign_df['gid'].progress_apply(lambda x : df.query(\"gid == '\" + x + \"' \")['2020_생산가능'].iloc[0] )"
      ],
      "metadata": {
        "colab": {
          "base_uri": "https://localhost:8080/"
        },
        "id": "lhFLF2eDg1tR",
        "outputId": "929f6955-73ef-4cb1-ea9f-0d5131dce96c"
      },
      "execution_count": null,
      "outputs": [
        {
          "output_type": "stream",
          "name": "stderr",
          "text": [
            "100%|██████████| 46883/46883 [04:18<00:00, 181.68it/s]\n"
          ]
        }
      ]
    },
    {
      "cell_type": "code",
      "source": [
        "foreign_df['2021_생산가능']  = foreign_df['gid'].progress_apply(lambda x : df.query(\"gid == '\" + x + \"' \")['2021_생산가능'].iloc[0])"
      ],
      "metadata": {
        "colab": {
          "base_uri": "https://localhost:8080/"
        },
        "id": "AKnQJnKTg5ET",
        "outputId": "ef39433a-c333-4941-9168-3ba53c0fcf2b"
      },
      "execution_count": null,
      "outputs": [
        {
          "output_type": "stream",
          "name": "stderr",
          "text": [
            "100%|██████████| 46883/46883 [04:11<00:00, 186.55it/s]\n"
          ]
        }
      ]
    },
    {
      "cell_type": "code",
      "source": [
        "foreign_df['2020_foreigner_pop'] = foreign_df['2020_foreigner_pop'].astype(float)\n",
        "foreign_df['2021_foreigner_pop'] = foreign_df['2021_foreigner_pop'].astype(float)\n",
        "foreign_df = foreign_df.fillna(0)"
      ],
      "metadata": {
        "id": "s6WARzX2jFwr"
      },
      "execution_count": null,
      "outputs": []
    },
    {
      "cell_type": "code",
      "source": [
        "foreign_df['2020_외국인위험지수'] = foreign_df['2020_foreigner_pop']/foreign_df['2020_생산가능']\n",
        "foreign_df['2021_외국인위험지수'] = foreign_df['2021_foreigner_pop']/foreign_df['2021_생산가능']\n",
        "foreign_df = foreign_df.fillna(0)"
      ],
      "metadata": {
        "id": "I3vLsKC-jIaZ"
      },
      "execution_count": null,
      "outputs": []
    },
    {
      "cell_type": "code",
      "source": [
        "foreign_new = foreign_df[['gid','geometry','2020_외국인위험지수','2021_외국인위험지수']]\n",
        "foreign_new = foreign_new.replace([np.inf, -np.inf], np.nan)\n",
        "foreign_new = foreign_new.fillna(0)"
      ],
      "metadata": {
        "id": "OwQ5HY62jK0I"
      },
      "execution_count": null,
      "outputs": []
    },
    {
      "cell_type": "code",
      "source": [
        "foreign_new"
      ],
      "metadata": {
        "id": "qvXsi0VijghP",
        "outputId": "b10d33a1-49f6-47ff-b3c7-60e4b2ece4a5",
        "colab": {
          "base_uri": "https://localhost:8080/",
          "height": 424
        }
      },
      "execution_count": null,
      "outputs": [
        {
          "output_type": "execute_result",
          "data": {
            "text/plain": [
              "            gid                                           geometry  \\\n",
              "0      마라231909  MULTIPOLYGON (((128.85237 35.20590, 128.85239 ...   \n",
              "1      마라154986  MULTIPOLYGON (((128.76888 35.27623, 128.76889 ...   \n",
              "2      마라213944  MULTIPOLYGON (((128.83312 35.23767, 128.83313 ...   \n",
              "3      마마105025  MULTIPOLYGON (((128.71554 35.31194, 128.71555 ...   \n",
              "4      마라202940  MULTIPOLYGON (((128.82097 35.23420, 128.82099 ...   \n",
              "...         ...                                                ...   \n",
              "46878  마마175064  MULTIPOLYGON (((128.79308 35.34630, 128.79310 ...   \n",
              "46879  마마210038  MULTIPOLYGON (((128.83121 35.32245, 128.83122 ...   \n",
              "46880  마라130867  MULTIPOLYGON (((128.74086 35.16923, 128.74087 ...   \n",
              "46881  마라166953  MULTIPOLYGON (((128.78160 35.24635, 128.78162 ...   \n",
              "46882  마마289013  MULTIPOLYGON (((128.91770 35.29892, 128.91772 ...   \n",
              "\n",
              "       2020_외국인위험지수  2021_외국인위험지수  \n",
              "0               0.0           0.0  \n",
              "1               0.0           0.0  \n",
              "2               0.0           0.0  \n",
              "3               0.0           0.0  \n",
              "4               0.0           0.0  \n",
              "...             ...           ...  \n",
              "46878           0.0           0.0  \n",
              "46879           0.0           0.0  \n",
              "46880           0.0           0.0  \n",
              "46881           0.0           0.0  \n",
              "46882           0.0           0.0  \n",
              "\n",
              "[46883 rows x 4 columns]"
            ],
            "text/html": [
              "\n",
              "  <div id=\"df-4130f461-acf6-4bcd-87d4-6a7e0608b904\">\n",
              "    <div class=\"colab-df-container\">\n",
              "      <div>\n",
              "<style scoped>\n",
              "    .dataframe tbody tr th:only-of-type {\n",
              "        vertical-align: middle;\n",
              "    }\n",
              "\n",
              "    .dataframe tbody tr th {\n",
              "        vertical-align: top;\n",
              "    }\n",
              "\n",
              "    .dataframe thead th {\n",
              "        text-align: right;\n",
              "    }\n",
              "</style>\n",
              "<table border=\"1\" class=\"dataframe\">\n",
              "  <thead>\n",
              "    <tr style=\"text-align: right;\">\n",
              "      <th></th>\n",
              "      <th>gid</th>\n",
              "      <th>geometry</th>\n",
              "      <th>2020_외국인위험지수</th>\n",
              "      <th>2021_외국인위험지수</th>\n",
              "    </tr>\n",
              "  </thead>\n",
              "  <tbody>\n",
              "    <tr>\n",
              "      <th>0</th>\n",
              "      <td>마라231909</td>\n",
              "      <td>MULTIPOLYGON (((128.85237 35.20590, 128.85239 ...</td>\n",
              "      <td>0.0</td>\n",
              "      <td>0.0</td>\n",
              "    </tr>\n",
              "    <tr>\n",
              "      <th>1</th>\n",
              "      <td>마라154986</td>\n",
              "      <td>MULTIPOLYGON (((128.76888 35.27623, 128.76889 ...</td>\n",
              "      <td>0.0</td>\n",
              "      <td>0.0</td>\n",
              "    </tr>\n",
              "    <tr>\n",
              "      <th>2</th>\n",
              "      <td>마라213944</td>\n",
              "      <td>MULTIPOLYGON (((128.83312 35.23767, 128.83313 ...</td>\n",
              "      <td>0.0</td>\n",
              "      <td>0.0</td>\n",
              "    </tr>\n",
              "    <tr>\n",
              "      <th>3</th>\n",
              "      <td>마마105025</td>\n",
              "      <td>MULTIPOLYGON (((128.71554 35.31194, 128.71555 ...</td>\n",
              "      <td>0.0</td>\n",
              "      <td>0.0</td>\n",
              "    </tr>\n",
              "    <tr>\n",
              "      <th>4</th>\n",
              "      <td>마라202940</td>\n",
              "      <td>MULTIPOLYGON (((128.82097 35.23420, 128.82099 ...</td>\n",
              "      <td>0.0</td>\n",
              "      <td>0.0</td>\n",
              "    </tr>\n",
              "    <tr>\n",
              "      <th>...</th>\n",
              "      <td>...</td>\n",
              "      <td>...</td>\n",
              "      <td>...</td>\n",
              "      <td>...</td>\n",
              "    </tr>\n",
              "    <tr>\n",
              "      <th>46878</th>\n",
              "      <td>마마175064</td>\n",
              "      <td>MULTIPOLYGON (((128.79308 35.34630, 128.79310 ...</td>\n",
              "      <td>0.0</td>\n",
              "      <td>0.0</td>\n",
              "    </tr>\n",
              "    <tr>\n",
              "      <th>46879</th>\n",
              "      <td>마마210038</td>\n",
              "      <td>MULTIPOLYGON (((128.83121 35.32245, 128.83122 ...</td>\n",
              "      <td>0.0</td>\n",
              "      <td>0.0</td>\n",
              "    </tr>\n",
              "    <tr>\n",
              "      <th>46880</th>\n",
              "      <td>마라130867</td>\n",
              "      <td>MULTIPOLYGON (((128.74086 35.16923, 128.74087 ...</td>\n",
              "      <td>0.0</td>\n",
              "      <td>0.0</td>\n",
              "    </tr>\n",
              "    <tr>\n",
              "      <th>46881</th>\n",
              "      <td>마라166953</td>\n",
              "      <td>MULTIPOLYGON (((128.78160 35.24635, 128.78162 ...</td>\n",
              "      <td>0.0</td>\n",
              "      <td>0.0</td>\n",
              "    </tr>\n",
              "    <tr>\n",
              "      <th>46882</th>\n",
              "      <td>마마289013</td>\n",
              "      <td>MULTIPOLYGON (((128.91770 35.29892, 128.91772 ...</td>\n",
              "      <td>0.0</td>\n",
              "      <td>0.0</td>\n",
              "    </tr>\n",
              "  </tbody>\n",
              "</table>\n",
              "<p>46883 rows × 4 columns</p>\n",
              "</div>\n",
              "      <button class=\"colab-df-convert\" onclick=\"convertToInteractive('df-4130f461-acf6-4bcd-87d4-6a7e0608b904')\"\n",
              "              title=\"Convert this dataframe to an interactive table.\"\n",
              "              style=\"display:none;\">\n",
              "        \n",
              "  <svg xmlns=\"http://www.w3.org/2000/svg\" height=\"24px\"viewBox=\"0 0 24 24\"\n",
              "       width=\"24px\">\n",
              "    <path d=\"M0 0h24v24H0V0z\" fill=\"none\"/>\n",
              "    <path d=\"M18.56 5.44l.94 2.06.94-2.06 2.06-.94-2.06-.94-.94-2.06-.94 2.06-2.06.94zm-11 1L8.5 8.5l.94-2.06 2.06-.94-2.06-.94L8.5 2.5l-.94 2.06-2.06.94zm10 10l.94 2.06.94-2.06 2.06-.94-2.06-.94-.94-2.06-.94 2.06-2.06.94z\"/><path d=\"M17.41 7.96l-1.37-1.37c-.4-.4-.92-.59-1.43-.59-.52 0-1.04.2-1.43.59L10.3 9.45l-7.72 7.72c-.78.78-.78 2.05 0 2.83L4 21.41c.39.39.9.59 1.41.59.51 0 1.02-.2 1.41-.59l7.78-7.78 2.81-2.81c.8-.78.8-2.07 0-2.86zM5.41 20L4 18.59l7.72-7.72 1.47 1.35L5.41 20z\"/>\n",
              "  </svg>\n",
              "      </button>\n",
              "      \n",
              "  <style>\n",
              "    .colab-df-container {\n",
              "      display:flex;\n",
              "      flex-wrap:wrap;\n",
              "      gap: 12px;\n",
              "    }\n",
              "\n",
              "    .colab-df-convert {\n",
              "      background-color: #E8F0FE;\n",
              "      border: none;\n",
              "      border-radius: 50%;\n",
              "      cursor: pointer;\n",
              "      display: none;\n",
              "      fill: #1967D2;\n",
              "      height: 32px;\n",
              "      padding: 0 0 0 0;\n",
              "      width: 32px;\n",
              "    }\n",
              "\n",
              "    .colab-df-convert:hover {\n",
              "      background-color: #E2EBFA;\n",
              "      box-shadow: 0px 1px 2px rgba(60, 64, 67, 0.3), 0px 1px 3px 1px rgba(60, 64, 67, 0.15);\n",
              "      fill: #174EA6;\n",
              "    }\n",
              "\n",
              "    [theme=dark] .colab-df-convert {\n",
              "      background-color: #3B4455;\n",
              "      fill: #D2E3FC;\n",
              "    }\n",
              "\n",
              "    [theme=dark] .colab-df-convert:hover {\n",
              "      background-color: #434B5C;\n",
              "      box-shadow: 0px 1px 3px 1px rgba(0, 0, 0, 0.15);\n",
              "      filter: drop-shadow(0px 1px 2px rgba(0, 0, 0, 0.3));\n",
              "      fill: #FFFFFF;\n",
              "    }\n",
              "  </style>\n",
              "\n",
              "      <script>\n",
              "        const buttonEl =\n",
              "          document.querySelector('#df-4130f461-acf6-4bcd-87d4-6a7e0608b904 button.colab-df-convert');\n",
              "        buttonEl.style.display =\n",
              "          google.colab.kernel.accessAllowed ? 'block' : 'none';\n",
              "\n",
              "        async function convertToInteractive(key) {\n",
              "          const element = document.querySelector('#df-4130f461-acf6-4bcd-87d4-6a7e0608b904');\n",
              "          const dataTable =\n",
              "            await google.colab.kernel.invokeFunction('convertToInteractive',\n",
              "                                                     [key], {});\n",
              "          if (!dataTable) return;\n",
              "\n",
              "          const docLinkHtml = 'Like what you see? Visit the ' +\n",
              "            '<a target=\"_blank\" href=https://colab.research.google.com/notebooks/data_table.ipynb>data table notebook</a>'\n",
              "            + ' to learn more about interactive tables.';\n",
              "          element.innerHTML = '';\n",
              "          dataTable['output_type'] = 'display_data';\n",
              "          await google.colab.output.renderOutput(dataTable, element);\n",
              "          const docLink = document.createElement('div');\n",
              "          docLink.innerHTML = docLinkHtml;\n",
              "          element.appendChild(docLink);\n",
              "        }\n",
              "      </script>\n",
              "    </div>\n",
              "  </div>\n",
              "  "
            ]
          },
          "metadata": {},
          "execution_count": 32
        }
      ]
    },
    {
      "cell_type": "code",
      "source": [
        "from sklearn.preprocessing import  MinMaxScaler\n",
        "scaler = MinMaxScaler()\n",
        "scaled1= scaler.fit_transform(foreign_new[['2020_외국인위험지수']].values) * 100\n",
        "scaled2= scaler.fit_transform(foreign_new[['2021_외국인위험지수']].values) * 100\n",
        "df = pd.DataFrame(scaled1)\n",
        "df2= pd.DataFrame(scaled2)\n",
        "df3= pd.concat([df,df2],axis=1)"
      ],
      "metadata": {
        "id": "y173C5wUhnj-"
      },
      "execution_count": null,
      "outputs": []
    },
    {
      "cell_type": "code",
      "source": [
        "df3.columns = ['2020_외국인위험지수','2021_외국인위험지수']"
      ],
      "metadata": {
        "id": "BlZItCRHhnj_"
      },
      "execution_count": null,
      "outputs": []
    },
    {
      "cell_type": "code",
      "source": [
        "total = pd.concat([foreign_new[['gid','geometry']],df3],axis=1)"
      ],
      "metadata": {
        "id": "1KYIsVtCh8td"
      },
      "execution_count": null,
      "outputs": []
    },
    {
      "cell_type": "code",
      "source": [
        "total.to_csv('/content/drive/MyDrive/LH/complete data/격자별_외국인위험지수.csv', index=False)"
      ],
      "metadata": {
        "id": "LuDAhpkoh8te"
      },
      "execution_count": null,
      "outputs": []
    }
  ]
}